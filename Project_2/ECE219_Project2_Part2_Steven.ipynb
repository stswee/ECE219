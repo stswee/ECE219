{
  "cells": [
    {
      "cell_type": "markdown",
      "metadata": {
        "id": "QWdfFJaYYF2E"
      },
      "source": [
        "# Preliminaries"
      ]
    },
    {
      "cell_type": "code",
      "execution_count": 1,
      "metadata": {
        "id": "cJMzhHcamG24",
        "colab": {
          "base_uri": "https://localhost:8080/"
        },
        "outputId": "eea1fa86-a6e4-4121-d1c8-f02367501524"
      },
      "outputs": [
        {
          "output_type": "stream",
          "name": "stdout",
          "text": [
            "Collecting umap-learn\n",
            "  Downloading umap_learn-0.5.7-py3-none-any.whl.metadata (21 kB)\n",
            "Requirement already satisfied: numpy>=1.17 in /usr/local/lib/python3.11/dist-packages (from umap-learn) (1.26.4)\n",
            "Requirement already satisfied: scipy>=1.3.1 in /usr/local/lib/python3.11/dist-packages (from umap-learn) (1.13.1)\n",
            "Requirement already satisfied: scikit-learn>=0.22 in /usr/local/lib/python3.11/dist-packages (from umap-learn) (1.6.1)\n",
            "Requirement already satisfied: numba>=0.51.2 in /usr/local/lib/python3.11/dist-packages (from umap-learn) (0.60.0)\n",
            "Collecting pynndescent>=0.5 (from umap-learn)\n",
            "  Downloading pynndescent-0.5.13-py3-none-any.whl.metadata (6.8 kB)\n",
            "Requirement already satisfied: tqdm in /usr/local/lib/python3.11/dist-packages (from umap-learn) (4.67.1)\n",
            "Requirement already satisfied: llvmlite<0.44,>=0.43.0dev0 in /usr/local/lib/python3.11/dist-packages (from numba>=0.51.2->umap-learn) (0.43.0)\n",
            "Requirement already satisfied: joblib>=0.11 in /usr/local/lib/python3.11/dist-packages (from pynndescent>=0.5->umap-learn) (1.4.2)\n",
            "Requirement already satisfied: threadpoolctl>=3.1.0 in /usr/local/lib/python3.11/dist-packages (from scikit-learn>=0.22->umap-learn) (3.5.0)\n",
            "Downloading umap_learn-0.5.7-py3-none-any.whl (88 kB)\n",
            "\u001b[2K   \u001b[90m━━━━━━━━━━━━━━━━━━━━━━━━━━━━━━━━━━━━━━━━\u001b[0m \u001b[32m88.8/88.8 kB\u001b[0m \u001b[31m9.3 MB/s\u001b[0m eta \u001b[36m0:00:00\u001b[0m\n",
            "\u001b[?25hDownloading pynndescent-0.5.13-py3-none-any.whl (56 kB)\n",
            "\u001b[2K   \u001b[90m━━━━━━━━━━━━━━━━━━━━━━━━━━━━━━━━━━━━━━━━\u001b[0m \u001b[32m56.9/56.9 kB\u001b[0m \u001b[31m3.8 MB/s\u001b[0m eta \u001b[36m0:00:00\u001b[0m\n",
            "\u001b[?25hInstalling collected packages: pynndescent, umap-learn\n",
            "Successfully installed pynndescent-0.5.13 umap-learn-0.5.7\n"
          ]
        }
      ],
      "source": [
        "# !pip install umap\n",
        "# !pip uninstall umap\n",
        "!pip install umap-learn\n"
      ]
    },
    {
      "cell_type": "code",
      "execution_count": 2,
      "metadata": {
        "id": "fQKi5LFpX5uq"
      },
      "outputs": [],
      "source": [
        "import torch\n",
        "import torch.nn as nn\n",
        "from torchvision import transforms, datasets\n",
        "from torch.utils.data import DataLoader, TensorDataset\n",
        "import numpy as np\n",
        "import matplotlib.pyplot as plt\n",
        "\n",
        "from tqdm import tqdm\n",
        "import requests\n",
        "import os\n",
        "import tarfile\n",
        "\n",
        "from sklearn.preprocessing import StandardScaler\n",
        "from sklearn.decomposition import PCA, TruncatedSVD\n",
        "from sklearn.cluster import KMeans, AgglomerativeClustering, HDBSCAN\n",
        "from sklearn.metrics import confusion_matrix, adjusted_rand_score, adjusted_mutual_info_score, rand_score, normalized_mutual_info_score\n",
        "from sklearn.pipeline import Pipeline\n",
        "from sklearn.base import TransformerMixin\n",
        "from sklearn.manifold import TSNE\n",
        "import umap.umap_ as umap\n",
        "\n",
        "import tensorflow_datasets as tfds"
      ]
    },
    {
      "cell_type": "markdown",
      "metadata": {
        "id": "WAGPyxz2ZVsE"
      },
      "source": [
        "# Data Loading"
      ]
    },
    {
      "cell_type": "code",
      "execution_count": 3,
      "metadata": {
        "colab": {
          "referenced_widgets": [
            "035e5480392841d6a4b76ee3bb12916f",
            "c39b3bb992d84bc7ab4bf46b6dbd7ca4",
            "b4bb40b60cb84e3d9743a50c9da09e7b",
            "38aebdf28b164f77b1fba2b9a82a212b",
            "9cedb51b05644e338128c706aea2ce19",
            "d88e503967fb4c749867c39ca2293d9e",
            "9d732824744743268d7202031bad0ff8",
            "ba3120698b454ede87b3f7516a421d0f",
            "1c3def42d3a94ccf9d906d74fccc21c1",
            "ec19af5dc82345fe838f4d7785e58bfd",
            "39291e2700324a21b2de05a14f3b871f"
          ],
          "base_uri": "https://localhost:8080/",
          "height": 587
        },
        "id": "d5vCB1fNZXAG",
        "outputId": "99deede6-3139-4c88-b8b9-4cb904f91069"
      },
      "outputs": [
        {
          "output_type": "stream",
          "name": "stdout",
          "text": [
            "Downloading and preparing dataset 218.21 MiB (download: 218.21 MiB, generated: 221.83 MiB, total: 440.05 MiB) to /root/tensorflow_datasets/tf_flowers/3.0.1...\n"
          ]
        },
        {
          "output_type": "display_data",
          "data": {
            "text/plain": [
              "Dl Completed...:   0%|          | 0/5 [00:00<?, ? file/s]"
            ],
            "application/vnd.jupyter.widget-view+json": {
              "version_major": 2,
              "version_minor": 0,
              "model_id": "035e5480392841d6a4b76ee3bb12916f"
            }
          },
          "metadata": {}
        },
        {
          "output_type": "stream",
          "name": "stdout",
          "text": [
            "Dataset tf_flowers downloaded and prepared to /root/tensorflow_datasets/tf_flowers/3.0.1. Subsequent calls will reuse this data.\n",
            "tfds.core.DatasetInfo(\n",
            "    name='tf_flowers',\n",
            "    full_name='tf_flowers/3.0.1',\n",
            "    description=\"\"\"\n",
            "    A large set of images of flowers\n",
            "    \"\"\",\n",
            "    homepage='https://www.tensorflow.org/tutorials/load_data/images',\n",
            "    data_dir='/root/tensorflow_datasets/tf_flowers/incomplete.FXFMMC_3.0.1/',\n",
            "    file_format=tfrecord,\n",
            "    download_size=218.21 MiB,\n",
            "    dataset_size=221.83 MiB,\n",
            "    features=FeaturesDict({\n",
            "        'image': Image(shape=(None, None, 3), dtype=uint8),\n",
            "        'label': ClassLabel(shape=(), dtype=int64, num_classes=5),\n",
            "    }),\n",
            "    supervised_keys=('image', 'label'),\n",
            "    disable_shuffling=False,\n",
            "    splits={\n",
            "        'train': <SplitInfo num_examples=3670, num_shards=2>,\n",
            "    },\n",
            "    citation=\"\"\"@ONLINE {tfflowers,\n",
            "    author = \"The TensorFlow Team\",\n",
            "    title = \"Flowers\",\n",
            "    month = \"jan\",\n",
            "    year = \"2019\",\n",
            "    url = \"http://download.tensorflow.org/example_images/flower_photos.tgz\" }\"\"\",\n",
            ")\n"
          ]
        }
      ],
      "source": [
        "# Load the dataset\n",
        "dataset, info = tfds.load(\"tf_flowers\", as_supervised=True, with_info=True)\n",
        "\n",
        "# Split into training and test sets\n",
        "train_dataset = dataset[\"train\"]\n",
        "\n",
        "# Print dataset info\n",
        "print(info)"
      ]
    },
    {
      "cell_type": "code",
      "execution_count": 4,
      "metadata": {
        "colab": {
          "base_uri": "https://localhost:8080/"
        },
        "id": "1rm49IDTabkT",
        "outputId": "85bb0d1d-2b42-4889-8ea4-5e03cddd2e29"
      },
      "outputs": [
        {
          "output_type": "execute_result",
          "data": {
            "text/plain": [
              "True"
            ]
          },
          "metadata": {},
          "execution_count": 4
        }
      ],
      "source": [
        "torch.cuda.is_available()"
      ]
    },
    {
      "cell_type": "code",
      "execution_count": 5,
      "metadata": {
        "colab": {
          "base_uri": "https://localhost:8080/"
        },
        "id": "rxf5w-MAaPSo",
        "outputId": "244c2b7c-7a5a-40ce-d593-aea6f482c17b"
      },
      "outputs": [
        {
          "output_type": "stream",
          "name": "stderr",
          "text": [
            "Downloading: \"https://github.com/pytorch/vision/zipball/v0.10.0\" to /root/.cache/torch/hub/v0.10.0.zip\n",
            "/usr/local/lib/python3.11/dist-packages/torchvision/models/_utils.py:208: UserWarning: The parameter 'pretrained' is deprecated since 0.13 and may be removed in the future, please use 'weights' instead.\n",
            "  warnings.warn(\n",
            "/usr/local/lib/python3.11/dist-packages/torchvision/models/_utils.py:223: UserWarning: Arguments other than a weight enum or `None` for 'weights' are deprecated since 0.13 and may be removed in the future. The current behavior is equivalent to passing `weights=VGG16_Weights.IMAGENET1K_V1`. You can also use `weights=VGG16_Weights.DEFAULT` to get the most up-to-date weights.\n",
            "  warnings.warn(msg)\n",
            "Downloading: \"https://download.pytorch.org/models/vgg16-397923af.pth\" to /root/.cache/torch/hub/checkpoints/vgg16-397923af.pth\n",
            "100%|██████████| 528M/528M [00:09<00:00, 60.0MB/s]\n",
            "100%|██████████| 58/58 [00:35<00:00,  1.64it/s]\n"
          ]
        }
      ],
      "source": [
        "filename = './flowers_features_and_labels.npz'\n",
        "\n",
        "if os.path.exists(filename):\n",
        "    file = np.load(filename)\n",
        "    f_all, y_all = file['f_all'], file['y_all']\n",
        "\n",
        "else:\n",
        "    if not os.path.exists('./flower_photos'):\n",
        "        # download the flowers dataset and extract its images\n",
        "        url = 'http://download.tensorflow.org/example_images/flower_photos.tgz'\n",
        "        with open('./flower_photos.tgz', 'wb') as file:\n",
        "            file.write(requests.get(url).content)\n",
        "        with tarfile.open('./flower_photos.tgz') as file:\n",
        "            file.extractall('./')\n",
        "        os.remove('./flower_photos.tgz')\n",
        "\n",
        "    class FeatureExtractor(nn.Module):\n",
        "        def __init__(self):\n",
        "            super().__init__()\n",
        "\n",
        "            vgg = torch.hub.load('pytorch/vision:v0.10.0', 'vgg16', pretrained=True)\n",
        "\n",
        "            # Extract VGG-16 Feature Layers\n",
        "            self.features = list(vgg.features)\n",
        "            self.features = nn.Sequential(*self.features)\n",
        "            # Extract VGG-16 Average Pooling Layer\n",
        "            self.pooling = vgg.avgpool\n",
        "            # Convert the image into one-dimensional vector\n",
        "            self.flatten = nn.Flatten()\n",
        "            # Extract the first part of fully-connected layer from VGG16\n",
        "            self.fc = vgg.classifier[0]\n",
        "\n",
        "        def forward(self, x):\n",
        "            # It will take the input 'x' until it returns the feature vector called 'out'\n",
        "            out = self.features(x)\n",
        "            out = self.pooling(out)\n",
        "            out = self.flatten(out)\n",
        "            out = self.fc(out)\n",
        "            return out\n",
        "\n",
        "    # Initialize the model\n",
        "    assert torch.cuda.is_available()\n",
        "    feature_extractor = FeatureExtractor().cuda().eval()\n",
        "\n",
        "    dataset = datasets.ImageFolder(root='./flower_photos',\n",
        "                                   transform=transforms.Compose([transforms.Resize(224),\n",
        "                                                                 transforms.CenterCrop(224),\n",
        "                                                                 transforms.ToTensor(),\n",
        "                                                                 transforms.Normalize(mean=[0.485, 0.456, 0.406], std=[0.229, 0.224, 0.225])]))\n",
        "    dataloader = DataLoader(dataset, batch_size=64, shuffle=True)\n",
        "\n",
        "    # Extract features and store them on disk\n",
        "    f_all, y_all = np.zeros((0, 4096)), np.zeros((0,))\n",
        "    for x, y in tqdm(dataloader):\n",
        "        with torch.no_grad():\n",
        "            f_all = np.vstack([f_all, feature_extractor(x.cuda()).cpu()])\n",
        "            y_all = np.concatenate([y_all, y])\n",
        "    np.savez(filename, f_all=f_all, y_all=y_all)"
      ]
    },
    {
      "cell_type": "markdown",
      "metadata": {
        "id": "dovZVOSjYV5r"
      },
      "source": [
        "# Questions"
      ]
    },
    {
      "cell_type": "markdown",
      "metadata": {
        "id": "CzydHs90f9aB"
      },
      "source": [
        "### Question 19"
      ]
    },
    {
      "cell_type": "markdown",
      "metadata": {
        "id": "cKd1teCNf-uL"
      },
      "source": [
        "Even though the VGG network is trained on a different dataset, the way the architecture finds and uses features to classify images is data-agnostic. At a high-level, when VGG performs feature extraction, it looks for image features such as edges and textures. The deeper the network, the more abstract features VGG can detect (e.g. shapes, object vs. background). These features are universal across images. That is, every image has some notion of edges or shapes. This allows VGG to use the same methods for feature extraction on different images, and VGG is initially trained to extract features with the most discrminative power."
      ]
    },
    {
      "cell_type": "markdown",
      "metadata": {
        "id": "1r7r0CLXhvqB"
      },
      "source": [
        "### Question 20"
      ]
    },
    {
      "cell_type": "markdown",
      "metadata": {
        "id": "9qGRHaLWhwcS"
      },
      "source": [
        "In the FeatureExtractor class, the code list(vgg.features) is a set of convolutional layers from the VGG model. At each subsequent convolutional layer, the model extracts more abstract features. For example, at the first layer, the model may extract low-level features, such as edges or corners. These features can be thought of as the basic building blocks of an image. Using the output from the first layer as the input for the next layer, the model may extract higher-level features, such as shape or parts of an object. With sufficient layers, the model extracts features at a high enough level such that these features are useful for classification.\n",
        "\n",
        "By using nn.Sequential(), the model is ultimately constructed such that the image data is passed through a set of convolution layers. Average pooling is used for downsampling and smoothing. Next, Flatten is used to convert the features into a one-dimensional vector. Finally, this one-dimensional vector goes through vgg.classifier[0], the first part of the fully-connected layer from VGG16, to be used for classification."
      ]
    },
    {
      "cell_type": "markdown",
      "metadata": {
        "id": "BGsF5vOtYh3w"
      },
      "source": [
        "### Question 21"
      ]
    },
    {
      "cell_type": "markdown",
      "metadata": {
        "id": "og3SO17vlGam"
      },
      "source": [
        "TA: For determining number of pixels in original image, do we look at the entire dataset and sum up the pixels? Is the number of features the VGG network extracts per image just the shape? (i.e. 4096)"
      ]
    },
    {
      "cell_type": "code",
      "execution_count": 6,
      "metadata": {
        "colab": {
          "base_uri": "https://localhost:8080/"
        },
        "id": "Z_pnS-t4YjmQ",
        "outputId": "e8059032-526a-4ce0-e580-e3e654ca66c4"
      },
      "outputs": [
        {
          "output_type": "stream",
          "name": "stdout",
          "text": [
            "(3670, 4096) (3670,)\n"
          ]
        }
      ],
      "source": [
        "print(f_all.shape, y_all.shape)\n",
        "num_features = f_all.shape[1]"
      ]
    },
    {
      "cell_type": "markdown",
      "metadata": {
        "id": "DDblv793k6uJ"
      },
      "source": [
        "### Question 22"
      ]
    },
    {
      "cell_type": "markdown",
      "metadata": {
        "id": "XsysoDumk8NZ"
      },
      "source": [
        "How to determine density or sparsity from 1-d vector? Number of 0's? Or look at 3670 x 4096 matrix?"
      ]
    },
    {
      "cell_type": "code",
      "execution_count": 7,
      "metadata": {
        "colab": {
          "base_uri": "https://localhost:8080/"
        },
        "id": "lRXP5Z3IGkb0",
        "outputId": "8aa61574-970f-4cca-e81c-5aa546e9b887"
      },
      "outputs": [
        {
          "output_type": "stream",
          "name": "stdout",
          "text": [
            "Sparsity: 6.65233310626703e-08\n"
          ]
        }
      ],
      "source": [
        "# Define sparsity as the number of 0's divided by the number of elements\n",
        "sparsity = np.count_nonzero(f_all == 0) / f_all.size\n",
        "print(f\"Sparsity: {sparsity}\")"
      ]
    },
    {
      "cell_type": "markdown",
      "metadata": {
        "id": "oOMntm_wlV5p"
      },
      "source": [
        "### Question 23"
      ]
    },
    {
      "cell_type": "code",
      "execution_count": 8,
      "metadata": {
        "id": "42TCnMBXcBfi"
      },
      "outputs": [],
      "source": [
        "# Perform t-SNE\n",
        "tsne = TSNE(n_components = 2, random_state = 0)\n",
        "X_embedded = tsne.fit_transform(f_all)"
      ]
    },
    {
      "cell_type": "code",
      "execution_count": 9,
      "metadata": {
        "colab": {
          "base_uri": "https://localhost:8080/",
          "height": 472
        },
        "id": "1iJ8HnHCFFm0",
        "outputId": "64acf078-f320-4f79-9825-44944e2dee28"
      },
      "outputs": [
        {
          "output_type": "display_data",
          "data": {
            "text/plain": [
              "<Figure size 640x480 with 1 Axes>"
            ],
            "image/png": "[encoded data removed]"
          },
          "metadata": {}
        }
      ],
      "source": [
        "# Plot results\n",
        "scatter = plt.scatter(X_embedded[:, 0], X_embedded[:, 1], c = y_all, cmap = 'tab10')\n",
        "plt.title('t-SNE Visualization of Flower Dataset')\n",
        "plt.xlabel('Dimension 1')\n",
        "plt.ylabel('Dimension 2')\n",
        "\n",
        "# Create labels for legend\n",
        "unique_labels = np.unique(y_all)\n",
        "legend_labels = [f'Class {label}' for label in unique_labels]\n",
        "\n",
        "# Add legend\n",
        "plt.legend(*scatter.legend_elements(), title = \"Ground Truth\", loc = \"best\")\n",
        "\n",
        "# Show plot\n",
        "plt.show()"
      ]
    },
    {
      "cell_type": "markdown",
      "metadata": {
        "id": "foWRa-dnHJJ0"
      },
      "source": [
        "There appears appears to be a lot of overlap between groups 2 and 4. There is some overlap between groups 0 and 1. Otherwise, the groups are reasonably separated from each other based on these two dimensions alone."
      ]
    },
    {
      "cell_type": "markdown",
      "metadata": {
        "id": "DTFejwMfHo9b"
      },
      "source": [
        "### Question 24"
      ]
    },
    {
      "cell_type": "code",
      "execution_count": 10,
      "metadata": {
        "id": "e-Cl3GHOHrrL"
      },
      "outputs": [],
      "source": [
        "# Compute Rand Index using\n",
        "def compute_rand_index(feature_matrix: np.ndarray, labels: np.ndarray, method = str, minsamples = None, minclustersize = 5) -> float:\n",
        "  \"\"\"\n",
        "  Computes the Rand Index for a given feature matrix and labels.\n",
        "\n",
        "  Args:\n",
        "    feature_matrix: A numpy array of shape (n_samples, n_features) containing the feature matrix.\n",
        "    labels: A numpy array of shape (n_samples,) containing the ground truth labels.\n",
        "    method: A string representing the clustering method to use. Can be either \"kmeans\" or \"agglomerative\" or \"HDBSCAN\" or \"None.\n",
        "    minsamples: An integer representing the minimum number of samples required to form a cluster. Only used for HDBSCAN.\n",
        "    minclustersize: An integer representing the minimum cluster size. Only used for HDBSCAN.\n",
        "\n",
        "  Returns:\n",
        "    A float representing the Rand Index\n",
        "  \"\"\"\n",
        "\n",
        "  # Number of clusters equal to number of unique labels\n",
        "  n_clusters = len(np.unique(labels))\n",
        "\n",
        "  if (method == \"kmeans\"):\n",
        "    # Perform KMeans\n",
        "    kmeans = KMeans(n_clusters = n_clusters, random_state = 0)\n",
        "    kmeans.fit(feature_matrix)\n",
        "    cluster_labels = kmeans.labels_\n",
        "  elif (method == \"agglomerative\"):\n",
        "    # Perform Agglomerative Clustering\n",
        "    agglomerative = AgglomerativeClustering(n_clusters = n_clusters)\n",
        "    agglomerative.fit(feature_matrix)\n",
        "    cluster_labels = agglomerative.labels_\n",
        "  elif (method == \"HDBSCAN\"):\n",
        "    # Perform HDBSCAN\n",
        "    hdbscan = HDBSCAN(min_samples = minsamples, min_cluster_size = minclustersize, metric = 'manhattan')\n",
        "    hdbscan.fit(feature_matrix)\n",
        "    cluster_labels = hdbscan.labels_\n",
        "  elif (method == \"None\"):\n",
        "    pass\n",
        "  else:\n",
        "    raise ValueError(\"Invalid clustering method. Must be either 'kmeans', 'agglomerative', 'HDBSCAN', or 'None'.\")\n",
        "\n",
        "  # Compute rand index\n",
        "  rand_index = rand_score(labels, cluster_labels)\n",
        "\n",
        "  return rand_index\n"
      ]
    },
    {
      "cell_type": "code",
      "execution_count": 11,
      "metadata": {
        "id": "VZOkp7RJUZaZ"
      },
      "outputs": [],
      "source": [
        "# Dimensionality Reduction\n",
        "# SVD\n",
        "def svd_reduce(X: np.ndarray, n_components: int) -> np.ndarray:\n",
        "  \"\"\"\n",
        "  Performs SVD on a given matrix.\n",
        "\n",
        "  Args:\n",
        "    X: A numpy array of shape (n_samples, n_features) containing the feature\n",
        "    n_components: An integer representing the number of components to keep.\n",
        "\n",
        "  Returns:\n",
        "    A numpy array of shape (n_samples, n_components) containing the reduced feature matrix.\n",
        "  \"\"\"\n",
        "\n",
        "  # Perform truncated SVD\n",
        "  svd = TruncatedSVD(n_components = n_components)\n",
        "  svd.fit(X)\n",
        "  X_reduced = svd.transform(X)\n",
        "\n",
        "  return X_reduced\n",
        "\n",
        "# UMAP\n",
        "def umap_reduce(X: np.ndarray, n_components: int) -> np.ndarray:\n",
        "  \"\"\"\n",
        "  Performs UMAP on a given matrix.\n",
        "\n",
        "  Args:\n",
        "    X: A numpy array of shape (n_samples, n_features) containing the feature matrix.\n",
        "    n_components: An integer representing the number of components to keep.\n",
        "\n",
        "  Returns:\n",
        "    A numpy array of shape (n_samples, n_components) containing the reduced feature matrix.\n",
        "  \"\"\"\n",
        "\n",
        "  # Perform UMAP\n",
        "  umap_reducer = umap.UMAP(n_components = n_components)\n",
        "  X_reduced = umap_reducer.fit_transform(X)\n",
        "\n",
        "  return X_reduced\n",
        "  umap_reducer = umap.UMAP(n_components = n_components)\n",
        "  X_reduced = umap_reducer.fit_transform(X)\n",
        "\n",
        "  return X_reduced"
      ]
    },
    {
      "cell_type": "code",
      "execution_count": 12,
      "metadata": {
        "id": "P0g7qRD2PtK_"
      },
      "outputs": [],
      "source": [
        "# Dimensionality Reduction\n",
        "class Autoencoder(torch.nn.Module, TransformerMixin):\n",
        "    def __init__(self, n_components):\n",
        "        super().__init__()\n",
        "        self.n_components = n_components\n",
        "        self.n_features = None  # to be determined with data\n",
        "        self.encoder = None\n",
        "        self.decoder = None\n",
        "\n",
        "    def _create_encoder(self):\n",
        "        return nn.Sequential(\n",
        "            nn.Linear(4096, 1280),\n",
        "            nn.ReLU(True),\n",
        "            nn.Linear(1280, 640),\n",
        "            nn.ReLU(True), nn.Linear(640, 120), nn.ReLU(True), nn.Linear(120, self.n_components))\n",
        "\n",
        "    def _create_decoder(self):\n",
        "        return nn.Sequential(\n",
        "            nn.Linear(self.n_components, 120),\n",
        "            nn.ReLU(True),\n",
        "            nn.Linear(120, 640),\n",
        "            nn.ReLU(True),\n",
        "            nn.Linear(640, 1280),\n",
        "            nn.ReLU(True), nn.Linear(1280, 4096))\n",
        "\n",
        "    def forward(self, X):\n",
        "        encoded = self.encoder(X)\n",
        "        decoded = self.decoder(encoded)\n",
        "        return decoded\n",
        "\n",
        "    def fit(self, X):\n",
        "        X = torch.tensor(X, dtype=torch.float32, device='cuda')\n",
        "        self.n_features = X.shape[1]\n",
        "        self.encoder = self._create_encoder()\n",
        "        self.decoder = self._create_decoder()\n",
        "        self.cuda()\n",
        "        self.train()\n",
        "\n",
        "        criterion = nn.MSELoss()\n",
        "        optimizer = torch.optim.Adam(self.parameters(), lr=1e-3, weight_decay=1e-5)\n",
        "\n",
        "        dataset = TensorDataset(X)\n",
        "        dataloader = DataLoader(dataset, batch_size=128, shuffle=True)\n",
        "\n",
        "        for epoch in tqdm(range(100)):\n",
        "            for (X_,) in dataloader:\n",
        "                X_ = X_.cuda()\n",
        "                # ===================forward=====================\n",
        "                output = self(X_)\n",
        "                loss = criterion(output, X_)\n",
        "                # ===================backward====================\n",
        "                optimizer.zero_grad()\n",
        "                loss.backward()\n",
        "                optimizer.step()\n",
        "\n",
        "        return self\n",
        "\n",
        "    def transform(self, X):\n",
        "        X = torch.tensor(X, dtype=torch.float32, device='cuda')\n",
        "        self.eval()\n",
        "        with torch.no_grad():\n",
        "            return self.encoder(X).cpu().numpy()"
      ]
    },
    {
      "cell_type": "code",
      "execution_count": 13,
      "metadata": {
        "id": "LC4PJkGUkdWH"
      },
      "outputs": [],
      "source": [
        "# Create list of modules\n",
        "dimensionality_reduction = [\"None\", \"SVD\", \"UMAP\", \"Autoencoder\"]\n",
        "clutering = [\"KMeans\", \"Agglomerative\", \"HDBSCAN\"]\n",
        "min_cluster_size = [10, 20, 30]\n",
        "min_samples = [5, 10, 15]\n",
        "\n",
        "# Create list of combinations of modules\n",
        "modules = []\n",
        "for dr in dimensionality_reduction:\n",
        "    for c in clutering:\n",
        "        if (c == \"HDBSCAN\"):\n",
        "            for ms in min_samples:\n",
        "                for mcs in min_cluster_size:\n",
        "                    modules.append((dr, c, ms, mcs))\n",
        "        else:\n",
        "            modules.append((dr, c))"
      ]
    },
    {
      "cell_type": "code",
      "execution_count": 14,
      "metadata": {
        "colab": {
          "base_uri": "https://localhost:8080/"
        },
        "id": "4eI6iIP0K2cV",
        "outputId": "e0318820-0008-4c55-b61a-64fefabf4670"
      },
      "outputs": [
        {
          "output_type": "stream",
          "name": "stderr",
          "text": [
            "\r  0%|          | 0/44 [00:00<?, ?it/s]"
          ]
        },
        {
          "output_type": "stream",
          "name": "stdout",
          "text": [
            "Computing rand index for ('None', 'KMeans')\n"
          ]
        },
        {
          "output_type": "stream",
          "name": "stderr",
          "text": [
            "\r  2%|▏         | 1/44 [00:02<01:30,  2.11s/it]"
          ]
        },
        {
          "output_type": "stream",
          "name": "stdout",
          "text": [
            "Computing rand index for ('None', 'Agglomerative')\n"
          ]
        },
        {
          "output_type": "stream",
          "name": "stderr",
          "text": [
            "\r  5%|▍         | 2/44 [00:21<08:43, 12.46s/it]"
          ]
        },
        {
          "output_type": "stream",
          "name": "stdout",
          "text": [
            "Computing rand index for ('None', 'HDBSCAN', 5, 10)\n"
          ]
        },
        {
          "output_type": "stream",
          "name": "stderr",
          "text": [
            "\r  7%|▋         | 3/44 [02:47<50:01, 73.21s/it]"
          ]
        },
        {
          "output_type": "stream",
          "name": "stdout",
          "text": [
            "Computing rand index for ('None', 'HDBSCAN', 5, 20)\n"
          ]
        },
        {
          "output_type": "stream",
          "name": "stderr",
          "text": [
            "\r  9%|▉         | 4/44 [05:13<1:08:04, 102.10s/it]"
          ]
        },
        {
          "output_type": "stream",
          "name": "stdout",
          "text": [
            "Computing rand index for ('None', 'HDBSCAN', 5, 30)\n"
          ]
        },
        {
          "output_type": "stream",
          "name": "stderr",
          "text": [
            "\r 11%|█▏        | 5/44 [07:40<1:16:43, 118.05s/it]"
          ]
        },
        {
          "output_type": "stream",
          "name": "stdout",
          "text": [
            "Computing rand index for ('None', 'HDBSCAN', 10, 10)\n"
          ]
        },
        {
          "output_type": "stream",
          "name": "stderr",
          "text": [
            "\r 14%|█▎        | 6/44 [10:05<1:20:38, 127.33s/it]"
          ]
        },
        {
          "output_type": "stream",
          "name": "stdout",
          "text": [
            "Computing rand index for ('None', 'HDBSCAN', 10, 20)\n"
          ]
        },
        {
          "output_type": "stream",
          "name": "stderr",
          "text": [
            "\r 16%|█▌        | 7/44 [12:30<1:22:11, 133.29s/it]"
          ]
        },
        {
          "output_type": "stream",
          "name": "stdout",
          "text": [
            "Computing rand index for ('None', 'HDBSCAN', 10, 30)\n"
          ]
        },
        {
          "output_type": "stream",
          "name": "stderr",
          "text": [
            "\r 18%|█▊        | 8/44 [14:57<1:22:27, 137.44s/it]"
          ]
        },
        {
          "output_type": "stream",
          "name": "stdout",
          "text": [
            "Computing rand index for ('None', 'HDBSCAN', 15, 10)\n"
          ]
        },
        {
          "output_type": "stream",
          "name": "stderr",
          "text": [
            "\r 20%|██        | 9/44 [17:23<1:21:48, 140.24s/it]"
          ]
        },
        {
          "output_type": "stream",
          "name": "stdout",
          "text": [
            "Computing rand index for ('None', 'HDBSCAN', 15, 20)\n"
          ]
        },
        {
          "output_type": "stream",
          "name": "stderr",
          "text": [
            "\r 23%|██▎       | 10/44 [19:49<1:20:28, 142.01s/it]"
          ]
        },
        {
          "output_type": "stream",
          "name": "stdout",
          "text": [
            "Computing rand index for ('None', 'HDBSCAN', 15, 30)\n"
          ]
        },
        {
          "output_type": "stream",
          "name": "stderr",
          "text": [
            "\r 25%|██▌       | 11/44 [22:15<1:18:49, 143.32s/it]"
          ]
        },
        {
          "output_type": "stream",
          "name": "stdout",
          "text": [
            "Computing rand index for ('SVD', 'KMeans')\n"
          ]
        },
        {
          "output_type": "stream",
          "name": "stderr",
          "text": [
            "\r 27%|██▋       | 12/44 [22:17<53:30, 100.33s/it]  "
          ]
        },
        {
          "output_type": "stream",
          "name": "stdout",
          "text": [
            "Computing rand index for ('SVD', 'Agglomerative')\n"
          ]
        },
        {
          "output_type": "stream",
          "name": "stderr",
          "text": [
            "\r 30%|██▉       | 13/44 [22:20<36:32, 70.73s/it] "
          ]
        },
        {
          "output_type": "stream",
          "name": "stdout",
          "text": [
            "Computing rand index for ('SVD', 'HDBSCAN', 5, 10)\n"
          ]
        },
        {
          "output_type": "stream",
          "name": "stderr",
          "text": [
            "\r 32%|███▏      | 14/44 [22:25<25:22, 50.75s/it]"
          ]
        },
        {
          "output_type": "stream",
          "name": "stdout",
          "text": [
            "Computing rand index for ('SVD', 'HDBSCAN', 5, 20)\n"
          ]
        },
        {
          "output_type": "stream",
          "name": "stderr",
          "text": [
            "\r 34%|███▍      | 15/44 [22:28<17:41, 36.60s/it]"
          ]
        },
        {
          "output_type": "stream",
          "name": "stdout",
          "text": [
            "Computing rand index for ('SVD', 'HDBSCAN', 5, 30)\n"
          ]
        },
        {
          "output_type": "stream",
          "name": "stderr",
          "text": [
            "\r 36%|███▋      | 16/44 [22:32<12:26, 26.67s/it]"
          ]
        },
        {
          "output_type": "stream",
          "name": "stdout",
          "text": [
            "Computing rand index for ('SVD', 'HDBSCAN', 10, 10)\n"
          ]
        },
        {
          "output_type": "stream",
          "name": "stderr",
          "text": [
            "\r 39%|███▊      | 17/44 [22:36<08:54, 19.80s/it]"
          ]
        },
        {
          "output_type": "stream",
          "name": "stdout",
          "text": [
            "Computing rand index for ('SVD', 'HDBSCAN', 10, 20)\n"
          ]
        },
        {
          "output_type": "stream",
          "name": "stderr",
          "text": [
            "\r 41%|████      | 18/44 [22:40<06:35, 15.21s/it]"
          ]
        },
        {
          "output_type": "stream",
          "name": "stdout",
          "text": [
            "Computing rand index for ('SVD', 'HDBSCAN', 10, 30)\n"
          ]
        },
        {
          "output_type": "stream",
          "name": "stderr",
          "text": [
            "\r 43%|████▎     | 19/44 [22:44<04:53, 11.72s/it]"
          ]
        },
        {
          "output_type": "stream",
          "name": "stdout",
          "text": [
            "Computing rand index for ('SVD', 'HDBSCAN', 15, 10)\n"
          ]
        },
        {
          "output_type": "stream",
          "name": "stderr",
          "text": [
            "\r 45%|████▌     | 20/44 [22:48<03:42,  9.26s/it]"
          ]
        },
        {
          "output_type": "stream",
          "name": "stdout",
          "text": [
            "Computing rand index for ('SVD', 'HDBSCAN', 15, 20)\n"
          ]
        },
        {
          "output_type": "stream",
          "name": "stderr",
          "text": [
            "\r 48%|████▊     | 21/44 [22:52<03:00,  7.83s/it]"
          ]
        },
        {
          "output_type": "stream",
          "name": "stdout",
          "text": [
            "Computing rand index for ('SVD', 'HDBSCAN', 15, 30)\n"
          ]
        },
        {
          "output_type": "stream",
          "name": "stderr",
          "text": [
            "\r 50%|█████     | 22/44 [22:56<02:24,  6.55s/it]/usr/local/lib/python3.11/dist-packages/sklearn/utils/deprecation.py:151: FutureWarning: 'force_all_finite' was renamed to 'ensure_all_finite' in 1.6 and will be removed in 1.8.\n",
            "  warnings.warn(\n"
          ]
        },
        {
          "output_type": "stream",
          "name": "stdout",
          "text": [
            "Computing rand index for ('UMAP', 'KMeans')\n"
          ]
        },
        {
          "output_type": "stream",
          "name": "stderr",
          "text": [
            "\r 52%|█████▏    | 23/44 [23:37<06:00, 17.15s/it]/usr/local/lib/python3.11/dist-packages/sklearn/utils/deprecation.py:151: FutureWarning: 'force_all_finite' was renamed to 'ensure_all_finite' in 1.6 and will be removed in 1.8.\n",
            "  warnings.warn(\n"
          ]
        },
        {
          "output_type": "stream",
          "name": "stdout",
          "text": [
            "Computing rand index for ('UMAP', 'Agglomerative')\n"
          ]
        },
        {
          "output_type": "stream",
          "name": "stderr",
          "text": [
            "\r 55%|█████▍    | 24/44 [24:13<07:30, 22.55s/it]/usr/local/lib/python3.11/dist-packages/sklearn/utils/deprecation.py:151: FutureWarning: 'force_all_finite' was renamed to 'ensure_all_finite' in 1.6 and will be removed in 1.8.\n",
            "  warnings.warn(\n"
          ]
        },
        {
          "output_type": "stream",
          "name": "stdout",
          "text": [
            "Computing rand index for ('UMAP', 'HDBSCAN', 5, 10)\n"
          ]
        },
        {
          "output_type": "stream",
          "name": "stderr",
          "text": [
            "\r 57%|█████▋    | 25/44 [24:46<08:12, 25.92s/it]/usr/local/lib/python3.11/dist-packages/sklearn/utils/deprecation.py:151: FutureWarning: 'force_all_finite' was renamed to 'ensure_all_finite' in 1.6 and will be removed in 1.8.\n",
            "  warnings.warn(\n"
          ]
        },
        {
          "output_type": "stream",
          "name": "stdout",
          "text": [
            "Computing rand index for ('UMAP', 'HDBSCAN', 5, 20)\n"
          ]
        },
        {
          "output_type": "stream",
          "name": "stderr",
          "text": [
            "\r 59%|█████▉    | 26/44 [25:19<08:24, 28.02s/it]/usr/local/lib/python3.11/dist-packages/sklearn/utils/deprecation.py:151: FutureWarning: 'force_all_finite' was renamed to 'ensure_all_finite' in 1.6 and will be removed in 1.8.\n",
            "  warnings.warn(\n"
          ]
        },
        {
          "output_type": "stream",
          "name": "stdout",
          "text": [
            "Computing rand index for ('UMAP', 'HDBSCAN', 5, 30)\n"
          ]
        },
        {
          "output_type": "stream",
          "name": "stderr",
          "text": [
            "\r 61%|██████▏   | 27/44 [25:53<08:25, 29.71s/it]/usr/local/lib/python3.11/dist-packages/sklearn/utils/deprecation.py:151: FutureWarning: 'force_all_finite' was renamed to 'ensure_all_finite' in 1.6 and will be removed in 1.8.\n",
            "  warnings.warn(\n"
          ]
        },
        {
          "output_type": "stream",
          "name": "stdout",
          "text": [
            "Computing rand index for ('UMAP', 'HDBSCAN', 10, 10)\n"
          ]
        },
        {
          "output_type": "stream",
          "name": "stderr",
          "text": [
            "\r 64%|██████▎   | 28/44 [26:27<08:14, 30.88s/it]/usr/local/lib/python3.11/dist-packages/sklearn/utils/deprecation.py:151: FutureWarning: 'force_all_finite' was renamed to 'ensure_all_finite' in 1.6 and will be removed in 1.8.\n",
            "  warnings.warn(\n"
          ]
        },
        {
          "output_type": "stream",
          "name": "stdout",
          "text": [
            "Computing rand index for ('UMAP', 'HDBSCAN', 10, 20)\n"
          ]
        },
        {
          "output_type": "stream",
          "name": "stderr",
          "text": [
            "\r 66%|██████▌   | 29/44 [27:02<08:01, 32.12s/it]/usr/local/lib/python3.11/dist-packages/sklearn/utils/deprecation.py:151: FutureWarning: 'force_all_finite' was renamed to 'ensure_all_finite' in 1.6 and will be removed in 1.8.\n",
            "  warnings.warn(\n"
          ]
        },
        {
          "output_type": "stream",
          "name": "stdout",
          "text": [
            "Computing rand index for ('UMAP', 'HDBSCAN', 10, 30)\n"
          ]
        },
        {
          "output_type": "stream",
          "name": "stderr",
          "text": [
            "\r 68%|██████▊   | 30/44 [27:37<07:43, 33.08s/it]/usr/local/lib/python3.11/dist-packages/sklearn/utils/deprecation.py:151: FutureWarning: 'force_all_finite' was renamed to 'ensure_all_finite' in 1.6 and will be removed in 1.8.\n",
            "  warnings.warn(\n"
          ]
        },
        {
          "output_type": "stream",
          "name": "stdout",
          "text": [
            "Computing rand index for ('UMAP', 'HDBSCAN', 15, 10)\n"
          ]
        },
        {
          "output_type": "stream",
          "name": "stderr",
          "text": [
            "\r 70%|███████   | 31/44 [28:10<07:09, 33.02s/it]/usr/local/lib/python3.11/dist-packages/sklearn/utils/deprecation.py:151: FutureWarning: 'force_all_finite' was renamed to 'ensure_all_finite' in 1.6 and will be removed in 1.8.\n",
            "  warnings.warn(\n"
          ]
        },
        {
          "output_type": "stream",
          "name": "stdout",
          "text": [
            "Computing rand index for ('UMAP', 'HDBSCAN', 15, 20)\n"
          ]
        },
        {
          "output_type": "stream",
          "name": "stderr",
          "text": [
            "\r 73%|███████▎  | 32/44 [28:44<06:39, 33.30s/it]/usr/local/lib/python3.11/dist-packages/sklearn/utils/deprecation.py:151: FutureWarning: 'force_all_finite' was renamed to 'ensure_all_finite' in 1.6 and will be removed in 1.8.\n",
            "  warnings.warn(\n"
          ]
        },
        {
          "output_type": "stream",
          "name": "stdout",
          "text": [
            "Computing rand index for ('UMAP', 'HDBSCAN', 15, 30)\n"
          ]
        },
        {
          "output_type": "stream",
          "name": "stderr",
          "text": [
            "\r 75%|███████▌  | 33/44 [29:16<06:04, 33.11s/it]"
          ]
        },
        {
          "output_type": "stream",
          "name": "stdout",
          "text": [
            "Computing rand index for ('Autoencoder', 'KMeans')\n"
          ]
        },
        {
          "output_type": "stream",
          "name": "stderr",
          "text": [
            "\n",
            "  0%|          | 0/100 [00:00<?, ?it/s]\u001b[A\n",
            "  1%|          | 1/100 [00:00<00:47,  2.06it/s]\u001b[A\n",
            "  2%|▏         | 2/100 [00:00<00:32,  3.03it/s]\u001b[A\n",
            "  3%|▎         | 3/100 [00:00<00:25,  3.76it/s]\u001b[A\n",
            "  4%|▍         | 4/100 [00:01<00:22,  4.25it/s]\u001b[A\n",
            "  5%|▌         | 5/100 [00:01<00:20,  4.57it/s]\u001b[A\n",
            "  6%|▌         | 6/100 [00:01<00:19,  4.79it/s]\u001b[A\n",
            "  7%|▋         | 7/100 [00:01<00:19,  4.89it/s]\u001b[A\n",
            "  8%|▊         | 8/100 [00:01<00:18,  4.99it/s]\u001b[A\n",
            "  9%|▉         | 9/100 [00:02<00:17,  5.07it/s]\u001b[A\n",
            " 10%|█         | 10/100 [00:02<00:17,  5.13it/s]\u001b[A\n",
            " 11%|█         | 11/100 [00:02<00:17,  5.17it/s]\u001b[A\n",
            " 12%|█▏        | 12/100 [00:02<00:17,  5.17it/s]\u001b[A\n",
            " 13%|█▎        | 13/100 [00:02<00:16,  5.18it/s]\u001b[A\n",
            " 14%|█▍        | 14/100 [00:02<00:16,  5.20it/s]\u001b[A\n",
            " 15%|█▌        | 15/100 [00:03<00:16,  5.22it/s]\u001b[A\n",
            " 16%|█▌        | 16/100 [00:03<00:16,  5.23it/s]\u001b[A\n",
            " 17%|█▋        | 17/100 [00:03<00:15,  5.22it/s]\u001b[A\n",
            " 18%|█▊        | 18/100 [00:03<00:15,  5.21it/s]\u001b[A\n",
            " 19%|█▉        | 19/100 [00:03<00:15,  5.21it/s]\u001b[A\n",
            " 20%|██        | 20/100 [00:04<00:15,  5.22it/s]\u001b[A\n",
            " 21%|██        | 21/100 [00:04<00:15,  5.23it/s]\u001b[A\n",
            " 22%|██▏       | 22/100 [00:04<00:14,  5.21it/s]\u001b[A\n",
            " 23%|██▎       | 23/100 [00:04<00:14,  5.20it/s]\u001b[A\n",
            " 24%|██▍       | 24/100 [00:04<00:14,  5.19it/s]\u001b[A\n",
            " 25%|██▌       | 25/100 [00:05<00:14,  5.21it/s]\u001b[A\n",
            " 26%|██▌       | 26/100 [00:05<00:14,  5.22it/s]\u001b[A\n",
            " 27%|██▋       | 27/100 [00:05<00:14,  5.21it/s]\u001b[A\n",
            " 28%|██▊       | 28/100 [00:05<00:13,  5.21it/s]\u001b[A\n",
            " 29%|██▉       | 29/100 [00:05<00:13,  5.20it/s]\u001b[A\n",
            " 30%|███       | 30/100 [00:06<00:13,  5.21it/s]\u001b[A\n",
            " 31%|███       | 31/100 [00:06<00:13,  5.21it/s]\u001b[A\n",
            " 32%|███▏      | 32/100 [00:06<00:13,  5.22it/s]\u001b[A\n",
            " 33%|███▎      | 33/100 [00:06<00:12,  5.20it/s]\u001b[A\n",
            " 34%|███▍      | 34/100 [00:06<00:12,  5.19it/s]\u001b[A\n",
            " 35%|███▌      | 35/100 [00:07<00:12,  5.20it/s]\u001b[A\n",
            " 36%|███▌      | 36/100 [00:07<00:12,  5.21it/s]\u001b[A\n",
            " 37%|███▋      | 37/100 [00:07<00:12,  5.15it/s]\u001b[A\n",
            " 38%|███▊      | 38/100 [00:07<00:11,  5.22it/s]\u001b[A\n",
            " 39%|███▉      | 39/100 [00:07<00:11,  5.20it/s]\u001b[A\n",
            " 40%|████      | 40/100 [00:07<00:11,  5.20it/s]\u001b[A\n",
            " 41%|████      | 41/100 [00:08<00:11,  5.20it/s]\u001b[A\n",
            " 42%|████▏     | 42/100 [00:08<00:11,  5.21it/s]\u001b[A\n",
            " 43%|████▎     | 43/100 [00:08<00:10,  5.20it/s]\u001b[A\n",
            " 44%|████▍     | 44/100 [00:08<00:10,  5.18it/s]\u001b[A\n",
            " 45%|████▌     | 45/100 [00:08<00:10,  5.17it/s]\u001b[A\n",
            " 46%|████▌     | 46/100 [00:09<00:10,  5.17it/s]\u001b[A\n",
            " 47%|████▋     | 47/100 [00:09<00:10,  5.18it/s]\u001b[A\n",
            " 48%|████▊     | 48/100 [00:09<00:10,  5.18it/s]\u001b[A\n",
            " 49%|████▉     | 49/100 [00:09<00:09,  5.17it/s]\u001b[A\n",
            " 50%|█████     | 50/100 [00:09<00:09,  5.16it/s]\u001b[A\n",
            " 51%|█████     | 51/100 [00:10<00:09,  5.16it/s]\u001b[A\n",
            " 52%|█████▏    | 52/100 [00:10<00:09,  5.18it/s]\u001b[A\n",
            " 53%|█████▎    | 53/100 [00:10<00:09,  5.18it/s]\u001b[A\n",
            " 54%|█████▍    | 54/100 [00:10<00:08,  5.17it/s]\u001b[A\n",
            " 55%|█████▌    | 55/100 [00:10<00:08,  5.16it/s]\u001b[A\n",
            " 56%|█████▌    | 56/100 [00:11<00:08,  5.15it/s]\u001b[A\n",
            " 57%|█████▋    | 57/100 [00:11<00:08,  5.16it/s]\u001b[A\n",
            " 58%|█████▊    | 58/100 [00:11<00:08,  5.18it/s]\u001b[A\n",
            " 59%|█████▉    | 59/100 [00:11<00:07,  5.17it/s]\u001b[A\n",
            " 60%|██████    | 60/100 [00:11<00:07,  5.16it/s]\u001b[A\n",
            " 61%|██████    | 61/100 [00:12<00:07,  5.16it/s]\u001b[A\n",
            " 62%|██████▏   | 62/100 [00:12<00:07,  5.16it/s]\u001b[A\n",
            " 63%|██████▎   | 63/100 [00:12<00:07,  5.17it/s]\u001b[A\n",
            " 64%|██████▍   | 64/100 [00:12<00:06,  5.17it/s]\u001b[A\n",
            " 65%|██████▌   | 65/100 [00:12<00:06,  5.17it/s]\u001b[A\n",
            " 66%|██████▌   | 66/100 [00:13<00:06,  5.16it/s]\u001b[A\n",
            " 67%|██████▋   | 67/100 [00:13<00:06,  5.16it/s]\u001b[A\n",
            " 68%|██████▊   | 68/100 [00:13<00:06,  5.17it/s]\u001b[A\n",
            " 69%|██████▉   | 69/100 [00:13<00:05,  5.18it/s]\u001b[A\n",
            " 70%|███████   | 70/100 [00:13<00:05,  5.18it/s]\u001b[A\n",
            " 71%|███████   | 71/100 [00:13<00:05,  5.16it/s]\u001b[A\n",
            " 72%|███████▏  | 72/100 [00:14<00:05,  5.16it/s]\u001b[A\n",
            " 73%|███████▎  | 73/100 [00:14<00:05,  5.16it/s]\u001b[A\n",
            " 74%|███████▍  | 74/100 [00:14<00:05,  5.17it/s]\u001b[A\n",
            " 75%|███████▌  | 75/100 [00:14<00:04,  5.17it/s]\u001b[A\n",
            " 76%|███████▌  | 76/100 [00:14<00:04,  5.16it/s]\u001b[A\n",
            " 77%|███████▋  | 77/100 [00:15<00:04,  5.16it/s]\u001b[A\n",
            " 78%|███████▊  | 78/100 [00:15<00:04,  5.15it/s]\u001b[A\n",
            " 79%|███████▉  | 79/100 [00:15<00:04,  5.15it/s]\u001b[A\n",
            " 80%|████████  | 80/100 [00:15<00:03,  5.16it/s]\u001b[A\n",
            " 81%|████████  | 81/100 [00:15<00:03,  5.17it/s]\u001b[A\n",
            " 82%|████████▏ | 82/100 [00:16<00:03,  5.17it/s]\u001b[A\n",
            " 83%|████████▎ | 83/100 [00:16<00:03,  5.16it/s]\u001b[A\n",
            " 84%|████████▍ | 84/100 [00:16<00:03,  5.15it/s]\u001b[A\n",
            " 85%|████████▌ | 85/100 [00:16<00:02,  5.14it/s]\u001b[A\n",
            " 86%|████████▌ | 86/100 [00:16<00:02,  5.14it/s]\u001b[A\n",
            " 87%|████████▋ | 87/100 [00:17<00:02,  5.14it/s]\u001b[A\n",
            " 88%|████████▊ | 88/100 [00:17<00:02,  5.13it/s]\u001b[A\n",
            " 89%|████████▉ | 89/100 [00:17<00:02,  5.13it/s]\u001b[A\n",
            " 90%|█████████ | 90/100 [00:17<00:01,  5.13it/s]\u001b[A\n",
            " 91%|█████████ | 91/100 [00:17<00:01,  5.13it/s]\u001b[A\n",
            " 92%|█████████▏| 92/100 [00:18<00:01,  5.12it/s]\u001b[A\n",
            " 93%|█████████▎| 93/100 [00:18<00:01,  5.12it/s]\u001b[A\n",
            " 94%|█████████▍| 94/100 [00:18<00:01,  5.13it/s]\u001b[A\n",
            " 95%|█████████▌| 95/100 [00:18<00:00,  5.13it/s]\u001b[A\n",
            " 96%|█████████▌| 96/100 [00:18<00:00,  5.12it/s]\u001b[A\n",
            " 97%|█████████▋| 97/100 [00:19<00:00,  5.13it/s]\u001b[A\n",
            " 98%|█████████▊| 98/100 [00:19<00:00,  5.12it/s]\u001b[A\n",
            " 99%|█████████▉| 99/100 [00:19<00:00,  5.12it/s]\u001b[A\n",
            "100%|██████████| 100/100 [00:19<00:00,  5.09it/s]\n",
            " 77%|███████▋  | 34/44 [29:36<04:51, 29.17s/it]"
          ]
        },
        {
          "output_type": "stream",
          "name": "stdout",
          "text": [
            "Computing rand index for ('Autoencoder', 'Agglomerative')\n"
          ]
        },
        {
          "output_type": "stream",
          "name": "stderr",
          "text": [
            "\n",
            "  0%|          | 0/100 [00:00<?, ?it/s]\u001b[A\n",
            "  1%|          | 1/100 [00:00<00:12,  7.72it/s]\u001b[A\n",
            "  2%|▏         | 2/100 [00:00<00:14,  6.81it/s]\u001b[A\n",
            "  3%|▎         | 3/100 [00:00<00:16,  6.06it/s]\u001b[A\n",
            "  4%|▍         | 4/100 [00:00<00:16,  5.69it/s]\u001b[A\n",
            "  5%|▌         | 5/100 [00:00<00:17,  5.45it/s]\u001b[A\n",
            "  6%|▌         | 6/100 [00:01<00:18,  5.20it/s]\u001b[A\n",
            "  7%|▋         | 7/100 [00:01<00:17,  5.20it/s]\u001b[A\n",
            "  8%|▊         | 8/100 [00:01<00:17,  5.20it/s]\u001b[A\n",
            "  9%|▉         | 9/100 [00:01<00:17,  5.21it/s]\u001b[A\n",
            " 10%|█         | 10/100 [00:01<00:17,  5.17it/s]\u001b[A\n",
            " 11%|█         | 11/100 [00:02<00:17,  5.10it/s]\u001b[A\n",
            " 12%|█▏        | 12/100 [00:02<00:17,  5.13it/s]\u001b[A\n",
            " 13%|█▎        | 13/100 [00:02<00:16,  5.14it/s]\u001b[A\n",
            " 14%|█▍        | 14/100 [00:02<00:16,  5.16it/s]\u001b[A\n",
            " 15%|█▌        | 15/100 [00:02<00:16,  5.16it/s]\u001b[A\n",
            " 16%|█▌        | 16/100 [00:03<00:16,  5.12it/s]\u001b[A\n",
            " 17%|█▋        | 17/100 [00:03<00:16,  5.13it/s]\u001b[A\n",
            " 18%|█▊        | 18/100 [00:03<00:15,  5.16it/s]\u001b[A\n",
            " 19%|█▉        | 19/100 [00:03<00:15,  5.17it/s]\u001b[A\n",
            " 20%|██        | 20/100 [00:03<00:15,  5.15it/s]\u001b[A\n",
            " 21%|██        | 21/100 [00:03<00:15,  5.12it/s]\u001b[A\n",
            " 22%|██▏       | 22/100 [00:04<00:15,  5.13it/s]\u001b[A\n",
            " 23%|██▎       | 23/100 [00:04<00:14,  5.14it/s]\u001b[A\n",
            " 24%|██▍       | 24/100 [00:04<00:14,  5.15it/s]\u001b[A\n",
            " 25%|██▌       | 25/100 [00:04<00:14,  5.14it/s]\u001b[A\n",
            " 26%|██▌       | 26/100 [00:04<00:14,  5.11it/s]\u001b[A\n",
            " 27%|██▋       | 27/100 [00:05<00:14,  5.12it/s]\u001b[A\n",
            " 28%|██▊       | 28/100 [00:05<00:14,  5.14it/s]\u001b[A\n",
            " 29%|██▉       | 29/100 [00:05<00:13,  5.15it/s]\u001b[A\n",
            " 30%|███       | 30/100 [00:05<00:13,  5.15it/s]\u001b[A\n",
            " 31%|███       | 31/100 [00:05<00:13,  5.12it/s]\u001b[A\n",
            " 32%|███▏      | 32/100 [00:06<00:13,  5.12it/s]\u001b[A\n",
            " 33%|███▎      | 33/100 [00:06<00:13,  5.12it/s]\u001b[A\n",
            " 34%|███▍      | 34/100 [00:06<00:12,  5.13it/s]\u001b[A\n",
            " 35%|███▌      | 35/100 [00:06<00:12,  5.14it/s]\u001b[A\n",
            " 36%|███▌      | 36/100 [00:06<00:12,  5.12it/s]\u001b[A\n",
            " 37%|███▋      | 37/100 [00:07<00:12,  5.11it/s]\u001b[A\n",
            " 38%|███▊      | 38/100 [00:07<00:12,  5.11it/s]\u001b[A\n",
            " 39%|███▉      | 39/100 [00:07<00:11,  5.13it/s]\u001b[A\n",
            " 40%|████      | 40/100 [00:07<00:11,  5.12it/s]\u001b[A\n",
            " 41%|████      | 41/100 [00:07<00:11,  5.12it/s]\u001b[A\n",
            " 42%|████▏     | 42/100 [00:08<00:11,  5.12it/s]\u001b[A\n",
            " 43%|████▎     | 43/100 [00:08<00:11,  5.13it/s]\u001b[A\n",
            " 44%|████▍     | 44/100 [00:08<00:10,  5.13it/s]\u001b[A\n",
            " 45%|████▌     | 45/100 [00:08<00:10,  5.13it/s]\u001b[A\n",
            " 46%|████▌     | 46/100 [00:08<00:10,  5.12it/s]\u001b[A\n",
            " 47%|████▋     | 47/100 [00:09<00:10,  5.12it/s]\u001b[A\n",
            " 48%|████▊     | 48/100 [00:09<00:10,  5.12it/s]\u001b[A\n",
            " 49%|████▉     | 49/100 [00:09<00:09,  5.13it/s]\u001b[A\n",
            " 50%|█████     | 50/100 [00:09<00:09,  5.13it/s]\u001b[A\n",
            " 51%|█████     | 51/100 [00:09<00:09,  5.11it/s]\u001b[A\n",
            " 52%|█████▏    | 52/100 [00:10<00:09,  5.12it/s]\u001b[A\n",
            " 53%|█████▎    | 53/100 [00:10<00:09,  5.13it/s]\u001b[A\n",
            " 54%|█████▍    | 54/100 [00:10<00:08,  5.14it/s]\u001b[A\n",
            " 55%|█████▌    | 55/100 [00:10<00:08,  5.13it/s]\u001b[A\n",
            " 56%|█████▌    | 56/100 [00:10<00:08,  5.12it/s]\u001b[A\n",
            " 57%|█████▋    | 57/100 [00:11<00:08,  5.12it/s]\u001b[A\n",
            " 58%|█████▊    | 58/100 [00:11<00:08,  5.13it/s]\u001b[A\n",
            " 59%|█████▉    | 59/100 [00:11<00:07,  5.13it/s]\u001b[A\n",
            " 60%|██████    | 60/100 [00:11<00:07,  5.13it/s]\u001b[A\n",
            " 61%|██████    | 61/100 [00:11<00:07,  5.12it/s]\u001b[A\n",
            " 62%|██████▏   | 62/100 [00:11<00:07,  5.12it/s]\u001b[A\n",
            " 63%|██████▎   | 63/100 [00:12<00:07,  5.11it/s]\u001b[A\n",
            " 64%|██████▍   | 64/100 [00:12<00:07,  5.13it/s]\u001b[A\n",
            " 65%|██████▌   | 65/100 [00:12<00:06,  5.13it/s]\u001b[A\n",
            " 66%|██████▌   | 66/100 [00:12<00:06,  5.13it/s]\u001b[A\n",
            " 67%|██████▋   | 67/100 [00:12<00:06,  5.13it/s]\u001b[A\n",
            " 68%|██████▊   | 68/100 [00:13<00:06,  5.12it/s]\u001b[A\n",
            " 69%|██████▉   | 69/100 [00:13<00:06,  5.13it/s]\u001b[A\n",
            " 70%|███████   | 70/100 [00:13<00:05,  5.14it/s]\u001b[A\n",
            " 71%|███████   | 71/100 [00:13<00:05,  5.13it/s]\u001b[A\n",
            " 72%|███████▏  | 72/100 [00:13<00:05,  5.13it/s]\u001b[A\n",
            " 73%|███████▎  | 73/100 [00:14<00:05,  5.14it/s]\u001b[A\n",
            " 74%|███████▍  | 74/100 [00:14<00:05,  5.15it/s]\u001b[A\n",
            " 75%|███████▌  | 75/100 [00:14<00:04,  5.16it/s]\u001b[A\n",
            " 76%|███████▌  | 76/100 [00:14<00:04,  5.16it/s]\u001b[A\n",
            " 77%|███████▋  | 77/100 [00:14<00:04,  5.16it/s]\u001b[A\n",
            " 78%|███████▊  | 78/100 [00:15<00:04,  5.16it/s]\u001b[A\n",
            " 79%|███████▉  | 79/100 [00:15<00:04,  5.15it/s]\u001b[A\n",
            " 80%|████████  | 80/100 [00:15<00:03,  5.14it/s]\u001b[A\n",
            " 81%|████████  | 81/100 [00:15<00:03,  5.14it/s]\u001b[A\n",
            " 82%|████████▏ | 82/100 [00:15<00:03,  5.14it/s]\u001b[A\n",
            " 83%|████████▎ | 83/100 [00:16<00:03,  5.14it/s]\u001b[A\n",
            " 84%|████████▍ | 84/100 [00:16<00:03,  5.15it/s]\u001b[A\n",
            " 85%|████████▌ | 85/100 [00:16<00:02,  5.15it/s]\u001b[A\n",
            " 86%|████████▌ | 86/100 [00:16<00:02,  5.16it/s]\u001b[A\n",
            " 87%|████████▋ | 87/100 [00:16<00:02,  5.16it/s]\u001b[A\n",
            " 88%|████████▊ | 88/100 [00:17<00:02,  5.15it/s]\u001b[A\n",
            " 89%|████████▉ | 89/100 [00:17<00:02,  5.16it/s]\u001b[A\n",
            " 90%|█████████ | 90/100 [00:17<00:01,  5.16it/s]\u001b[A\n",
            " 91%|█████████ | 91/100 [00:17<00:01,  5.17it/s]\u001b[A\n",
            " 92%|█████████▏| 92/100 [00:17<00:01,  5.17it/s]\u001b[A\n",
            " 93%|█████████▎| 93/100 [00:18<00:01,  5.16it/s]\u001b[A\n",
            " 94%|█████████▍| 94/100 [00:18<00:01,  5.15it/s]\u001b[A\n",
            " 95%|█████████▌| 95/100 [00:18<00:00,  5.15it/s]\u001b[A\n",
            " 96%|█████████▌| 96/100 [00:18<00:00,  5.15it/s]\u001b[A\n",
            " 97%|█████████▋| 97/100 [00:18<00:00,  5.17it/s]\u001b[A\n",
            " 98%|█████████▊| 98/100 [00:18<00:00,  5.17it/s]\u001b[A\n",
            " 99%|█████████▉| 99/100 [00:19<00:00,  5.16it/s]\u001b[A\n",
            "100%|██████████| 100/100 [00:19<00:00,  5.16it/s]\n",
            " 80%|███████▉  | 35/44 [29:57<03:58, 26.52s/it]"
          ]
        },
        {
          "output_type": "stream",
          "name": "stdout",
          "text": [
            "Computing rand index for ('Autoencoder', 'HDBSCAN', 5, 10)\n"
          ]
        },
        {
          "output_type": "stream",
          "name": "stderr",
          "text": [
            "\n",
            "  0%|          | 0/100 [00:00<?, ?it/s]\u001b[A\n",
            "  2%|▏         | 2/100 [00:00<00:13,  7.13it/s]\u001b[A\n",
            "  3%|▎         | 3/100 [00:00<00:15,  6.21it/s]\u001b[A\n",
            "  4%|▍         | 4/100 [00:00<00:16,  5.82it/s]\u001b[A\n",
            "  5%|▌         | 5/100 [00:00<00:16,  5.59it/s]\u001b[A\n",
            "  6%|▌         | 6/100 [00:01<00:17,  5.28it/s]\u001b[A\n",
            "  7%|▋         | 7/100 [00:01<00:17,  5.27it/s]\u001b[A\n",
            "  8%|▊         | 8/100 [00:01<00:17,  5.26it/s]\u001b[A\n",
            "  9%|▉         | 9/100 [00:01<00:17,  5.26it/s]\u001b[A\n",
            " 10%|█         | 10/100 [00:01<00:17,  5.24it/s]\u001b[A\n",
            " 11%|█         | 11/100 [00:02<00:17,  5.18it/s]\u001b[A\n",
            " 12%|█▏        | 12/100 [00:02<00:16,  5.19it/s]\u001b[A\n",
            " 13%|█▎        | 13/100 [00:02<00:16,  5.20it/s]\u001b[A\n",
            " 14%|█▍        | 14/100 [00:02<00:16,  5.22it/s]\u001b[A\n",
            " 15%|█▌        | 15/100 [00:02<00:16,  5.21it/s]\u001b[A\n",
            " 16%|█▌        | 16/100 [00:02<00:16,  5.17it/s]\u001b[A\n",
            " 17%|█▋        | 17/100 [00:03<00:16,  5.17it/s]\u001b[A\n",
            " 18%|█▊        | 18/100 [00:03<00:15,  5.19it/s]\u001b[A\n",
            " 19%|█▉        | 19/100 [00:03<00:15,  5.20it/s]\u001b[A\n",
            " 20%|██        | 20/100 [00:03<00:15,  5.20it/s]\u001b[A\n",
            " 21%|██        | 21/100 [00:03<00:15,  5.20it/s]\u001b[A\n",
            " 22%|██▏       | 22/100 [00:04<00:15,  5.19it/s]\u001b[A\n",
            " 23%|██▎       | 23/100 [00:04<00:14,  5.20it/s]\u001b[A\n",
            " 24%|██▍       | 24/100 [00:04<00:14,  5.22it/s]\u001b[A\n",
            " 25%|██▌       | 25/100 [00:04<00:14,  5.22it/s]\u001b[A\n",
            " 26%|██▌       | 26/100 [00:04<00:14,  5.22it/s]\u001b[A\n",
            " 27%|██▋       | 27/100 [00:05<00:14,  5.20it/s]\u001b[A\n",
            " 28%|██▊       | 28/100 [00:05<00:13,  5.19it/s]\u001b[A\n",
            " 29%|██▉       | 29/100 [00:05<00:13,  5.21it/s]\u001b[A\n",
            " 30%|███       | 30/100 [00:05<00:13,  5.22it/s]\u001b[A\n",
            " 31%|███       | 31/100 [00:05<00:13,  5.21it/s]\u001b[A\n",
            " 32%|███▏      | 32/100 [00:06<00:13,  5.20it/s]\u001b[A\n",
            " 33%|███▎      | 33/100 [00:06<00:12,  5.20it/s]\u001b[A\n",
            " 34%|███▍      | 34/100 [00:06<00:12,  5.19it/s]\u001b[A\n",
            " 35%|███▌      | 35/100 [00:06<00:12,  5.22it/s]\u001b[A\n",
            " 36%|███▌      | 36/100 [00:06<00:12,  5.21it/s]\u001b[A\n",
            " 37%|███▋      | 37/100 [00:07<00:12,  5.21it/s]\u001b[A\n",
            " 38%|███▊      | 38/100 [00:07<00:11,  5.19it/s]\u001b[A\n",
            " 39%|███▉      | 39/100 [00:07<00:11,  5.20it/s]\u001b[A\n",
            " 40%|████      | 40/100 [00:07<00:11,  5.21it/s]\u001b[A\n",
            " 41%|████      | 41/100 [00:07<00:11,  5.21it/s]\u001b[A\n",
            " 42%|████▏     | 42/100 [00:07<00:11,  5.20it/s]\u001b[A\n",
            " 43%|████▎     | 43/100 [00:08<00:10,  5.20it/s]\u001b[A\n",
            " 44%|████▍     | 44/100 [00:08<00:10,  5.21it/s]\u001b[A\n",
            " 45%|████▌     | 45/100 [00:08<00:10,  5.21it/s]\u001b[A\n",
            " 46%|████▌     | 46/100 [00:08<00:10,  5.21it/s]\u001b[A\n",
            " 47%|████▋     | 47/100 [00:08<00:10,  5.20it/s]\u001b[A\n",
            " 48%|████▊     | 48/100 [00:09<00:10,  5.18it/s]\u001b[A\n",
            " 49%|████▉     | 49/100 [00:09<00:09,  5.19it/s]\u001b[A\n",
            " 50%|█████     | 50/100 [00:09<00:09,  5.20it/s]\u001b[A\n",
            " 51%|█████     | 51/100 [00:09<00:09,  5.20it/s]\u001b[A\n",
            " 52%|█████▏    | 52/100 [00:09<00:09,  5.20it/s]\u001b[A\n",
            " 53%|█████▎    | 53/100 [00:10<00:09,  5.18it/s]\u001b[A\n",
            " 54%|█████▍    | 54/100 [00:10<00:08,  5.18it/s]\u001b[A\n",
            " 55%|█████▌    | 55/100 [00:10<00:08,  5.19it/s]\u001b[A\n",
            " 56%|█████▌    | 56/100 [00:10<00:08,  5.20it/s]\u001b[A\n",
            " 57%|█████▋    | 57/100 [00:10<00:08,  5.20it/s]\u001b[A\n",
            " 58%|█████▊    | 58/100 [00:11<00:08,  5.21it/s]\u001b[A\n",
            " 59%|█████▉    | 59/100 [00:11<00:07,  5.20it/s]\u001b[A\n",
            " 60%|██████    | 60/100 [00:11<00:07,  5.21it/s]\u001b[A\n",
            " 61%|██████    | 61/100 [00:11<00:07,  5.21it/s]\u001b[A\n",
            " 62%|██████▏   | 62/100 [00:11<00:07,  5.22it/s]\u001b[A\n",
            " 63%|██████▎   | 63/100 [00:12<00:07,  5.21it/s]\u001b[A\n",
            " 64%|██████▍   | 64/100 [00:12<00:06,  5.22it/s]\u001b[A\n",
            " 65%|██████▌   | 65/100 [00:12<00:06,  5.21it/s]\u001b[A\n",
            " 66%|██████▌   | 66/100 [00:12<00:06,  5.22it/s]\u001b[A\n",
            " 67%|██████▋   | 67/100 [00:12<00:06,  5.22it/s]\u001b[A\n",
            " 68%|██████▊   | 68/100 [00:12<00:06,  5.21it/s]\u001b[A\n",
            " 69%|██████▉   | 69/100 [00:13<00:05,  5.21it/s]\u001b[A\n",
            " 70%|███████   | 70/100 [00:13<00:05,  5.21it/s]\u001b[A\n",
            " 71%|███████   | 71/100 [00:13<00:05,  5.22it/s]\u001b[A\n",
            " 72%|███████▏  | 72/100 [00:13<00:05,  5.21it/s]\u001b[A\n",
            " 73%|███████▎  | 73/100 [00:13<00:05,  5.22it/s]\u001b[A\n",
            " 74%|███████▍  | 74/100 [00:14<00:04,  5.20it/s]\u001b[A\n",
            " 75%|███████▌  | 75/100 [00:14<00:04,  5.21it/s]\u001b[A\n",
            " 76%|███████▌  | 76/100 [00:14<00:04,  5.21it/s]\u001b[A\n",
            " 77%|███████▋  | 77/100 [00:14<00:04,  5.22it/s]\u001b[A\n",
            " 78%|███████▊  | 78/100 [00:14<00:04,  5.22it/s]\u001b[A\n",
            " 79%|███████▉  | 79/100 [00:15<00:04,  5.21it/s]\u001b[A\n",
            " 80%|████████  | 80/100 [00:15<00:03,  5.22it/s]\u001b[A\n",
            " 81%|████████  | 81/100 [00:15<00:03,  5.22it/s]\u001b[A\n",
            " 82%|████████▏ | 82/100 [00:15<00:03,  5.22it/s]\u001b[A\n",
            " 83%|████████▎ | 83/100 [00:15<00:03,  5.23it/s]\u001b[A\n",
            " 84%|████████▍ | 84/100 [00:16<00:03,  5.21it/s]\u001b[A\n",
            " 85%|████████▌ | 85/100 [00:16<00:02,  5.22it/s]\u001b[A\n",
            " 86%|████████▌ | 86/100 [00:16<00:02,  5.22it/s]\u001b[A\n",
            " 87%|████████▋ | 87/100 [00:16<00:02,  5.22it/s]\u001b[A\n",
            " 88%|████████▊ | 88/100 [00:16<00:02,  5.22it/s]\u001b[A\n",
            " 89%|████████▉ | 89/100 [00:17<00:02,  5.22it/s]\u001b[A\n",
            " 90%|█████████ | 90/100 [00:17<00:01,  5.22it/s]\u001b[A\n",
            " 91%|█████████ | 91/100 [00:17<00:01,  5.22it/s]\u001b[A\n",
            " 92%|█████████▏| 92/100 [00:17<00:01,  5.23it/s]\u001b[A\n",
            " 93%|█████████▎| 93/100 [00:17<00:01,  5.23it/s]\u001b[A\n",
            " 94%|█████████▍| 94/100 [00:17<00:01,  5.22it/s]\u001b[A\n",
            " 95%|█████████▌| 95/100 [00:18<00:00,  5.23it/s]\u001b[A\n",
            " 96%|█████████▌| 96/100 [00:18<00:00,  5.21it/s]\u001b[A\n",
            " 97%|█████████▋| 97/100 [00:18<00:00,  5.22it/s]\u001b[A\n",
            " 98%|█████████▊| 98/100 [00:18<00:00,  5.21it/s]\u001b[A\n",
            " 99%|█████████▉| 99/100 [00:18<00:00,  5.22it/s]\u001b[A\n",
            "100%|██████████| 100/100 [00:19<00:00,  5.23it/s]\n",
            " 82%|████████▏ | 36/44 [30:18<03:19, 24.89s/it]"
          ]
        },
        {
          "output_type": "stream",
          "name": "stdout",
          "text": [
            "Computing rand index for ('Autoencoder', 'HDBSCAN', 5, 20)\n"
          ]
        },
        {
          "output_type": "stream",
          "name": "stderr",
          "text": [
            "\n",
            "  0%|          | 0/100 [00:00<?, ?it/s]\u001b[A\n",
            "  1%|          | 1/100 [00:00<00:11,  8.58it/s]\u001b[A\n",
            "  2%|▏         | 2/100 [00:00<00:16,  6.04it/s]\u001b[A\n",
            "  3%|▎         | 3/100 [00:00<00:17,  5.66it/s]\u001b[A\n",
            "  4%|▍         | 4/100 [00:00<00:17,  5.50it/s]\u001b[A\n",
            "  5%|▌         | 5/100 [00:00<00:17,  5.41it/s]\u001b[A\n",
            "  6%|▌         | 6/100 [00:01<00:17,  5.31it/s]\u001b[A\n",
            "  7%|▋         | 7/100 [00:01<00:17,  5.25it/s]\u001b[A\n",
            "  8%|▊         | 8/100 [00:01<00:17,  5.25it/s]\u001b[A\n",
            "  9%|▉         | 9/100 [00:01<00:17,  5.25it/s]\u001b[A\n",
            " 10%|█         | 10/100 [00:01<00:17,  5.25it/s]\u001b[A\n",
            " 11%|█         | 11/100 [00:02<00:17,  5.23it/s]\u001b[A\n",
            " 12%|█▏        | 12/100 [00:02<00:16,  5.21it/s]\u001b[A\n",
            " 13%|█▎        | 13/100 [00:02<00:16,  5.22it/s]\u001b[A\n",
            " 14%|█▍        | 14/100 [00:02<00:16,  5.23it/s]\u001b[A\n",
            " 15%|█▌        | 15/100 [00:02<00:16,  5.24it/s]\u001b[A\n",
            " 16%|█▌        | 16/100 [00:02<00:16,  5.23it/s]\u001b[A\n",
            " 17%|█▋        | 17/100 [00:03<00:15,  5.20it/s]\u001b[A\n",
            " 18%|█▊        | 18/100 [00:03<00:15,  5.21it/s]\u001b[A\n",
            " 19%|█▉        | 19/100 [00:03<00:15,  5.21it/s]\u001b[A\n",
            " 20%|██        | 20/100 [00:03<00:15,  5.23it/s]\u001b[A\n",
            " 21%|██        | 21/100 [00:03<00:15,  5.23it/s]\u001b[A\n",
            " 22%|██▏       | 22/100 [00:04<00:14,  5.22it/s]\u001b[A\n",
            " 23%|██▎       | 23/100 [00:04<00:14,  5.20it/s]\u001b[A\n",
            " 24%|██▍       | 24/100 [00:04<00:14,  5.21it/s]\u001b[A\n",
            " 25%|██▌       | 25/100 [00:04<00:14,  5.22it/s]\u001b[A\n",
            " 26%|██▌       | 26/100 [00:04<00:14,  5.23it/s]\u001b[A\n",
            " 27%|██▋       | 27/100 [00:05<00:14,  5.21it/s]\u001b[A\n",
            " 28%|██▊       | 28/100 [00:05<00:13,  5.20it/s]\u001b[A\n",
            " 29%|██▉       | 29/100 [00:05<00:13,  5.21it/s]\u001b[A\n",
            " 30%|███       | 30/100 [00:05<00:13,  5.22it/s]\u001b[A\n",
            " 31%|███       | 31/100 [00:05<00:13,  5.22it/s]\u001b[A\n",
            " 32%|███▏      | 32/100 [00:06<00:13,  5.22it/s]\u001b[A\n",
            " 33%|███▎      | 33/100 [00:06<00:12,  5.21it/s]\u001b[A\n",
            " 34%|███▍      | 34/100 [00:06<00:12,  5.21it/s]\u001b[A\n",
            " 35%|███▌      | 35/100 [00:06<00:12,  5.22it/s]\u001b[A\n",
            " 36%|███▌      | 36/100 [00:06<00:12,  5.23it/s]\u001b[A\n",
            " 37%|███▋      | 37/100 [00:07<00:12,  5.21it/s]\u001b[A\n",
            " 38%|███▊      | 38/100 [00:07<00:11,  5.21it/s]\u001b[A\n",
            " 39%|███▉      | 39/100 [00:07<00:11,  5.21it/s]\u001b[A\n",
            " 40%|████      | 40/100 [00:07<00:11,  5.21it/s]\u001b[A\n",
            " 41%|████      | 41/100 [00:07<00:11,  5.22it/s]\u001b[A\n",
            " 42%|████▏     | 42/100 [00:07<00:11,  5.21it/s]\u001b[A\n",
            " 43%|████▎     | 43/100 [00:08<00:10,  5.21it/s]\u001b[A\n",
            " 44%|████▍     | 44/100 [00:08<00:10,  5.20it/s]\u001b[A\n",
            " 45%|████▌     | 45/100 [00:08<00:10,  5.19it/s]\u001b[A\n",
            " 46%|████▌     | 46/100 [00:08<00:10,  5.20it/s]\u001b[A\n",
            " 47%|████▋     | 47/100 [00:08<00:10,  5.20it/s]\u001b[A\n",
            " 48%|████▊     | 48/100 [00:09<00:10,  5.20it/s]\u001b[A\n",
            " 49%|████▉     | 49/100 [00:09<00:09,  5.20it/s]\u001b[A\n",
            " 50%|█████     | 50/100 [00:09<00:09,  5.19it/s]\u001b[A\n",
            " 51%|█████     | 51/100 [00:09<00:09,  5.20it/s]\u001b[A\n",
            " 52%|█████▏    | 52/100 [00:09<00:09,  5.20it/s]\u001b[A\n",
            " 53%|█████▎    | 53/100 [00:10<00:09,  5.19it/s]\u001b[A\n",
            " 54%|█████▍    | 54/100 [00:10<00:08,  5.20it/s]\u001b[A\n",
            " 55%|█████▌    | 55/100 [00:10<00:08,  5.19it/s]\u001b[A\n",
            " 56%|█████▌    | 56/100 [00:10<00:08,  5.19it/s]\u001b[A\n",
            " 57%|█████▋    | 57/100 [00:10<00:08,  5.16it/s]\u001b[A\n",
            " 58%|█████▊    | 58/100 [00:11<00:08,  5.21it/s]\u001b[A\n",
            " 59%|█████▉    | 59/100 [00:11<00:07,  5.21it/s]\u001b[A\n",
            " 60%|██████    | 60/100 [00:11<00:07,  5.21it/s]\u001b[A\n",
            " 61%|██████    | 61/100 [00:11<00:07,  5.21it/s]\u001b[A\n",
            " 62%|██████▏   | 62/100 [00:11<00:07,  5.21it/s]\u001b[A\n",
            " 63%|██████▎   | 63/100 [00:12<00:07,  5.20it/s]\u001b[A\n",
            " 64%|██████▍   | 64/100 [00:12<00:06,  5.21it/s]\u001b[A\n",
            " 65%|██████▌   | 65/100 [00:12<00:06,  5.20it/s]\u001b[A\n",
            " 66%|██████▌   | 66/100 [00:12<00:06,  5.19it/s]\u001b[A\n",
            " 67%|██████▋   | 67/100 [00:12<00:06,  5.20it/s]\u001b[A\n",
            " 68%|██████▊   | 68/100 [00:12<00:06,  5.19it/s]\u001b[A\n",
            " 69%|██████▉   | 69/100 [00:13<00:05,  5.20it/s]\u001b[A\n",
            " 70%|███████   | 70/100 [00:13<00:05,  5.20it/s]\u001b[A\n",
            " 71%|███████   | 71/100 [00:13<00:05,  5.19it/s]\u001b[A\n",
            " 72%|███████▏  | 72/100 [00:13<00:05,  5.21it/s]\u001b[A\n",
            " 73%|███████▎  | 73/100 [00:13<00:05,  5.20it/s]\u001b[A\n",
            " 74%|███████▍  | 74/100 [00:14<00:05,  5.20it/s]\u001b[A\n",
            " 75%|███████▌  | 75/100 [00:14<00:04,  5.20it/s]\u001b[A\n",
            " 76%|███████▌  | 76/100 [00:14<00:04,  5.19it/s]\u001b[A\n",
            " 77%|███████▋  | 77/100 [00:14<00:04,  5.20it/s]\u001b[A\n",
            " 78%|███████▊  | 78/100 [00:14<00:04,  5.19it/s]\u001b[A\n",
            " 79%|███████▉  | 79/100 [00:15<00:04,  5.19it/s]\u001b[A\n",
            " 80%|████████  | 80/100 [00:15<00:03,  5.20it/s]\u001b[A\n",
            " 81%|████████  | 81/100 [00:15<00:03,  5.19it/s]\u001b[A\n",
            " 82%|████████▏ | 82/100 [00:15<00:03,  5.20it/s]\u001b[A\n",
            " 83%|████████▎ | 83/100 [00:15<00:03,  5.20it/s]\u001b[A\n",
            " 84%|████████▍ | 84/100 [00:16<00:03,  5.19it/s]\u001b[A\n",
            " 85%|████████▌ | 85/100 [00:16<00:02,  5.20it/s]\u001b[A\n",
            " 86%|████████▌ | 86/100 [00:16<00:02,  5.20it/s]\u001b[A\n",
            " 87%|████████▋ | 87/100 [00:16<00:02,  5.21it/s]\u001b[A\n",
            " 88%|████████▊ | 88/100 [00:16<00:02,  5.20it/s]\u001b[A\n",
            " 89%|████████▉ | 89/100 [00:17<00:02,  5.21it/s]\u001b[A\n",
            " 90%|█████████ | 90/100 [00:17<00:01,  5.20it/s]\u001b[A\n",
            " 91%|█████████ | 91/100 [00:17<00:01,  5.19it/s]\u001b[A\n",
            " 92%|█████████▏| 92/100 [00:17<00:01,  5.20it/s]\u001b[A\n",
            " 93%|█████████▎| 93/100 [00:17<00:01,  5.19it/s]\u001b[A\n",
            " 94%|█████████▍| 94/100 [00:17<00:01,  5.19it/s]\u001b[A\n",
            " 95%|█████████▌| 95/100 [00:18<00:00,  5.20it/s]\u001b[A\n",
            " 96%|█████████▌| 96/100 [00:18<00:00,  5.19it/s]\u001b[A\n",
            " 97%|█████████▋| 97/100 [00:18<00:00,  5.20it/s]\u001b[A\n",
            " 98%|█████████▊| 98/100 [00:18<00:00,  5.20it/s]\u001b[A\n",
            " 99%|█████████▉| 99/100 [00:18<00:00,  5.20it/s]\u001b[A\n",
            "100%|██████████| 100/100 [00:19<00:00,  5.22it/s]\n",
            " 84%|████████▍ | 37/44 [30:39<02:46, 23.73s/it]"
          ]
        },
        {
          "output_type": "stream",
          "name": "stdout",
          "text": [
            "Computing rand index for ('Autoencoder', 'HDBSCAN', 5, 30)\n"
          ]
        },
        {
          "output_type": "stream",
          "name": "stderr",
          "text": [
            "\n",
            "  0%|          | 0/100 [00:00<?, ?it/s]\u001b[A\n",
            "  2%|▏         | 2/100 [00:00<00:13,  7.14it/s]\u001b[A\n",
            "  3%|▎         | 3/100 [00:00<00:15,  6.22it/s]\u001b[A\n",
            "  4%|▍         | 4/100 [00:00<00:16,  5.83it/s]\u001b[A\n",
            "  5%|▌         | 5/100 [00:00<00:16,  5.61it/s]\u001b[A\n",
            "  6%|▌         | 6/100 [00:01<00:17,  5.39it/s]\u001b[A\n",
            "  7%|▋         | 7/100 [00:01<00:17,  5.35it/s]\u001b[A\n",
            "  8%|▊         | 8/100 [00:01<00:17,  5.33it/s]\u001b[A\n",
            "  9%|▉         | 9/100 [00:01<00:17,  5.31it/s]\u001b[A\n",
            " 10%|█         | 10/100 [00:01<00:17,  5.29it/s]\u001b[A\n",
            " 11%|█         | 11/100 [00:02<00:17,  5.22it/s]\u001b[A\n",
            " 12%|█▏        | 12/100 [00:02<00:16,  5.22it/s]\u001b[A\n",
            " 13%|█▎        | 13/100 [00:02<00:16,  5.23it/s]\u001b[A\n",
            " 14%|█▍        | 14/100 [00:02<00:16,  5.24it/s]\u001b[A\n",
            " 15%|█▌        | 15/100 [00:02<00:16,  5.25it/s]\u001b[A\n",
            " 16%|█▌        | 16/100 [00:02<00:16,  5.22it/s]\u001b[A\n",
            " 17%|█▋        | 17/100 [00:03<00:15,  5.21it/s]\u001b[A\n",
            " 18%|█▊        | 18/100 [00:03<00:15,  5.23it/s]\u001b[A\n",
            " 19%|█▉        | 19/100 [00:03<00:15,  5.24it/s]\u001b[A\n",
            " 20%|██        | 20/100 [00:03<00:15,  5.24it/s]\u001b[A\n",
            " 21%|██        | 21/100 [00:03<00:15,  5.21it/s]\u001b[A\n",
            " 22%|██▏       | 22/100 [00:04<00:14,  5.21it/s]\u001b[A\n",
            " 23%|██▎       | 23/100 [00:04<00:14,  5.21it/s]\u001b[A\n",
            " 24%|██▍       | 24/100 [00:04<00:14,  5.22it/s]\u001b[A\n",
            " 25%|██▌       | 25/100 [00:04<00:14,  5.23it/s]\u001b[A\n",
            " 26%|██▌       | 26/100 [00:04<00:14,  5.21it/s]\u001b[A\n",
            " 27%|██▋       | 27/100 [00:05<00:14,  5.21it/s]\u001b[A\n",
            " 28%|██▊       | 28/100 [00:05<00:13,  5.21it/s]\u001b[A\n",
            " 29%|██▉       | 29/100 [00:05<00:13,  5.22it/s]\u001b[A\n",
            " 30%|███       | 30/100 [00:05<00:13,  5.22it/s]\u001b[A\n",
            " 31%|███       | 31/100 [00:05<00:13,  5.22it/s]\u001b[A\n",
            " 32%|███▏      | 32/100 [00:06<00:13,  5.20it/s]\u001b[A\n",
            " 33%|███▎      | 33/100 [00:06<00:12,  5.20it/s]\u001b[A\n",
            " 34%|███▍      | 34/100 [00:06<00:12,  5.21it/s]\u001b[A\n",
            " 35%|███▌      | 35/100 [00:06<00:12,  5.22it/s]\u001b[A\n",
            " 36%|███▌      | 36/100 [00:06<00:12,  5.22it/s]\u001b[A\n",
            " 37%|███▋      | 37/100 [00:06<00:12,  5.21it/s]\u001b[A\n",
            " 38%|███▊      | 38/100 [00:07<00:11,  5.21it/s]\u001b[A\n",
            " 39%|███▉      | 39/100 [00:07<00:11,  5.20it/s]\u001b[A\n",
            " 40%|████      | 40/100 [00:07<00:11,  5.21it/s]\u001b[A\n",
            " 41%|████      | 41/100 [00:07<00:11,  5.21it/s]\u001b[A\n",
            " 42%|████▏     | 42/100 [00:07<00:11,  5.20it/s]\u001b[A\n",
            " 43%|████▎     | 43/100 [00:08<00:10,  5.20it/s]\u001b[A\n",
            " 44%|████▍     | 44/100 [00:08<00:10,  5.20it/s]\u001b[A\n",
            " 45%|████▌     | 45/100 [00:08<00:10,  5.20it/s]\u001b[A\n",
            " 46%|████▌     | 46/100 [00:08<00:10,  5.21it/s]\u001b[A\n",
            " 47%|████▋     | 47/100 [00:08<00:10,  5.20it/s]\u001b[A\n",
            " 48%|████▊     | 48/100 [00:09<00:10,  5.19it/s]\u001b[A\n",
            " 49%|████▉     | 49/100 [00:09<00:09,  5.20it/s]\u001b[A\n",
            " 50%|█████     | 50/100 [00:09<00:09,  5.19it/s]\u001b[A\n",
            " 51%|█████     | 51/100 [00:09<00:09,  5.20it/s]\u001b[A\n",
            " 52%|█████▏    | 52/100 [00:09<00:09,  5.19it/s]\u001b[A\n",
            " 53%|█████▎    | 53/100 [00:10<00:09,  5.17it/s]\u001b[A\n",
            " 54%|█████▍    | 54/100 [00:10<00:08,  5.18it/s]\u001b[A\n",
            " 55%|█████▌    | 55/100 [00:10<00:08,  5.19it/s]\u001b[A\n",
            " 56%|█████▌    | 56/100 [00:10<00:08,  5.19it/s]\u001b[A\n",
            " 57%|█████▋    | 57/100 [00:10<00:08,  5.18it/s]\u001b[A\n",
            " 58%|█████▊    | 58/100 [00:11<00:08,  5.18it/s]\u001b[A\n",
            " 59%|█████▉    | 59/100 [00:11<00:07,  5.19it/s]\u001b[A\n",
            " 60%|██████    | 60/100 [00:11<00:07,  5.19it/s]\u001b[A\n",
            " 61%|██████    | 61/100 [00:11<00:07,  5.19it/s]\u001b[A\n",
            " 62%|██████▏   | 62/100 [00:11<00:07,  5.20it/s]\u001b[A\n",
            " 63%|██████▎   | 63/100 [00:11<00:07,  5.19it/s]\u001b[A\n",
            " 64%|██████▍   | 64/100 [00:12<00:06,  5.18it/s]\u001b[A\n",
            " 65%|██████▌   | 65/100 [00:12<00:06,  5.19it/s]\u001b[A\n",
            " 66%|██████▌   | 66/100 [00:12<00:06,  5.19it/s]\u001b[A\n",
            " 67%|██████▋   | 67/100 [00:12<00:06,  5.20it/s]\u001b[A\n",
            " 68%|██████▊   | 68/100 [00:12<00:06,  5.19it/s]\u001b[A\n",
            " 69%|██████▉   | 69/100 [00:13<00:05,  5.18it/s]\u001b[A\n",
            " 70%|███████   | 70/100 [00:13<00:05,  5.17it/s]\u001b[A\n",
            " 71%|███████   | 71/100 [00:13<00:05,  5.18it/s]\u001b[A\n",
            " 72%|███████▏  | 72/100 [00:13<00:05,  5.18it/s]\u001b[A\n",
            " 73%|███████▎  | 73/100 [00:13<00:05,  5.17it/s]\u001b[A\n",
            " 74%|███████▍  | 74/100 [00:14<00:05,  5.17it/s]\u001b[A\n",
            " 75%|███████▌  | 75/100 [00:14<00:04,  5.18it/s]\u001b[A\n",
            " 76%|███████▌  | 76/100 [00:14<00:04,  5.18it/s]\u001b[A\n",
            " 77%|███████▋  | 77/100 [00:14<00:04,  5.18it/s]\u001b[A\n",
            " 78%|███████▊  | 78/100 [00:14<00:04,  5.18it/s]\u001b[A\n",
            " 79%|███████▉  | 79/100 [00:15<00:04,  5.19it/s]\u001b[A\n",
            " 80%|████████  | 80/100 [00:15<00:03,  5.19it/s]\u001b[A\n",
            " 81%|████████  | 81/100 [00:15<00:03,  5.19it/s]\u001b[A\n",
            " 82%|████████▏ | 82/100 [00:15<00:03,  5.19it/s]\u001b[A\n",
            " 83%|████████▎ | 83/100 [00:15<00:03,  5.19it/s]\u001b[A\n",
            " 84%|████████▍ | 84/100 [00:16<00:03,  5.19it/s]\u001b[A\n",
            " 85%|████████▌ | 85/100 [00:16<00:02,  5.18it/s]\u001b[A\n",
            " 86%|████████▌ | 86/100 [00:16<00:02,  5.19it/s]\u001b[A\n",
            " 87%|████████▋ | 87/100 [00:16<00:02,  5.19it/s]\u001b[A\n",
            " 88%|████████▊ | 88/100 [00:16<00:02,  5.20it/s]\u001b[A\n",
            " 89%|████████▉ | 89/100 [00:17<00:02,  5.19it/s]\u001b[A\n",
            " 90%|█████████ | 90/100 [00:17<00:01,  5.18it/s]\u001b[A\n",
            " 91%|█████████ | 91/100 [00:17<00:01,  5.19it/s]\u001b[A\n",
            " 92%|█████████▏| 92/100 [00:17<00:01,  5.19it/s]\u001b[A\n",
            " 93%|█████████▎| 93/100 [00:17<00:01,  5.19it/s]\u001b[A\n",
            " 94%|█████████▍| 94/100 [00:17<00:01,  5.19it/s]\u001b[A\n",
            " 95%|█████████▌| 95/100 [00:18<00:00,  5.19it/s]\u001b[A\n",
            " 96%|█████████▌| 96/100 [00:18<00:00,  5.18it/s]\u001b[A\n",
            " 97%|█████████▋| 97/100 [00:18<00:00,  5.19it/s]\u001b[A\n",
            " 98%|█████████▊| 98/100 [00:18<00:00,  5.19it/s]\u001b[A\n",
            " 99%|█████████▉| 99/100 [00:18<00:00,  5.19it/s]\u001b[A\n",
            "100%|██████████| 100/100 [00:19<00:00,  5.23it/s]\n",
            " 86%|████████▋ | 38/44 [31:00<02:17, 22.90s/it]"
          ]
        },
        {
          "output_type": "stream",
          "name": "stdout",
          "text": [
            "Computing rand index for ('Autoencoder', 'HDBSCAN', 10, 10)\n"
          ]
        },
        {
          "output_type": "stream",
          "name": "stderr",
          "text": [
            "\n",
            "  0%|          | 0/100 [00:00<?, ?it/s]\u001b[A\n",
            "  2%|▏         | 2/100 [00:00<00:13,  7.04it/s]\u001b[A\n",
            "  3%|▎         | 3/100 [00:00<00:15,  6.15it/s]\u001b[A\n",
            "  4%|▍         | 4/100 [00:00<00:16,  5.77it/s]\u001b[A\n",
            "  5%|▌         | 5/100 [00:00<00:17,  5.55it/s]\u001b[A\n",
            "  6%|▌         | 6/100 [00:01<00:17,  5.26it/s]\u001b[A\n",
            "  7%|▋         | 7/100 [00:01<00:17,  5.25it/s]\u001b[A\n",
            "  8%|▊         | 8/100 [00:01<00:17,  5.24it/s]\u001b[A\n",
            "  9%|▉         | 9/100 [00:01<00:17,  5.23it/s]\u001b[A\n",
            " 10%|█         | 10/100 [00:01<00:17,  5.21it/s]\u001b[A\n",
            " 11%|█         | 11/100 [00:02<00:17,  5.15it/s]\u001b[A\n",
            " 12%|█▏        | 12/100 [00:02<00:17,  5.17it/s]\u001b[A\n",
            " 13%|█▎        | 13/100 [00:02<00:16,  5.17it/s]\u001b[A\n",
            " 14%|█▍        | 14/100 [00:02<00:16,  5.19it/s]\u001b[A\n",
            " 15%|█▌        | 15/100 [00:02<00:16,  5.19it/s]\u001b[A\n",
            " 16%|█▌        | 16/100 [00:03<00:16,  5.15it/s]\u001b[A\n",
            " 17%|█▋        | 17/100 [00:03<00:16,  5.15it/s]\u001b[A\n",
            " 18%|█▊        | 18/100 [00:03<00:15,  5.16it/s]\u001b[A\n",
            " 19%|█▉        | 19/100 [00:03<00:15,  5.18it/s]\u001b[A\n",
            " 20%|██        | 20/100 [00:03<00:15,  5.18it/s]\u001b[A\n",
            " 21%|██        | 21/100 [00:03<00:15,  5.15it/s]\u001b[A\n",
            " 22%|██▏       | 22/100 [00:04<00:15,  5.15it/s]\u001b[A\n",
            " 23%|██▎       | 23/100 [00:04<00:14,  5.16it/s]\u001b[A\n",
            " 24%|██▍       | 24/100 [00:04<00:14,  5.17it/s]\u001b[A\n",
            " 25%|██▌       | 25/100 [00:04<00:14,  5.18it/s]\u001b[A\n",
            " 26%|██▌       | 26/100 [00:04<00:14,  5.17it/s]\u001b[A\n",
            " 27%|██▋       | 27/100 [00:05<00:14,  5.17it/s]\u001b[A\n",
            " 28%|██▊       | 28/100 [00:05<00:13,  5.17it/s]\u001b[A\n",
            " 29%|██▉       | 29/100 [00:05<00:13,  5.17it/s]\u001b[A\n",
            " 30%|███       | 30/100 [00:05<00:13,  5.18it/s]\u001b[A\n",
            " 31%|███       | 31/100 [00:05<00:13,  5.17it/s]\u001b[A\n",
            " 32%|███▏      | 32/100 [00:06<00:13,  5.17it/s]\u001b[A\n",
            " 33%|███▎      | 33/100 [00:06<00:12,  5.16it/s]\u001b[A\n",
            " 34%|███▍      | 34/100 [00:06<00:12,  5.18it/s]\u001b[A\n",
            " 35%|███▌      | 35/100 [00:06<00:12,  5.17it/s]\u001b[A\n",
            " 36%|███▌      | 36/100 [00:06<00:12,  5.16it/s]\u001b[A\n",
            " 37%|███▋      | 37/100 [00:07<00:12,  5.15it/s]\u001b[A\n",
            " 38%|███▊      | 38/100 [00:07<00:12,  5.14it/s]\u001b[A\n",
            " 39%|███▉      | 39/100 [00:07<00:11,  5.15it/s]\u001b[A\n",
            " 40%|████      | 40/100 [00:07<00:11,  5.15it/s]\u001b[A\n",
            " 41%|████      | 41/100 [00:07<00:11,  5.16it/s]\u001b[A\n",
            " 42%|████▏     | 42/100 [00:08<00:11,  5.16it/s]\u001b[A\n",
            " 43%|████▎     | 43/100 [00:08<00:11,  5.15it/s]\u001b[A\n",
            " 44%|████▍     | 44/100 [00:08<00:10,  5.15it/s]\u001b[A\n",
            " 45%|████▌     | 45/100 [00:08<00:10,  5.15it/s]\u001b[A\n",
            " 46%|████▌     | 46/100 [00:08<00:10,  5.16it/s]\u001b[A\n",
            " 47%|████▋     | 47/100 [00:09<00:10,  5.16it/s]\u001b[A\n",
            " 48%|████▊     | 48/100 [00:09<00:10,  5.16it/s]\u001b[A\n",
            " 49%|████▉     | 49/100 [00:09<00:09,  5.17it/s]\u001b[A\n",
            " 50%|█████     | 50/100 [00:09<00:09,  5.16it/s]\u001b[A\n",
            " 51%|█████     | 51/100 [00:09<00:09,  5.14it/s]\u001b[A\n",
            " 52%|█████▏    | 52/100 [00:09<00:09,  5.14it/s]\u001b[A\n",
            " 53%|█████▎    | 53/100 [00:10<00:09,  5.14it/s]\u001b[A\n",
            " 54%|█████▍    | 54/100 [00:10<00:08,  5.14it/s]\u001b[A\n",
            " 55%|█████▌    | 55/100 [00:10<00:08,  5.14it/s]\u001b[A\n",
            " 56%|█████▌    | 56/100 [00:10<00:08,  5.13it/s]\u001b[A\n",
            " 57%|█████▋    | 57/100 [00:10<00:08,  5.15it/s]\u001b[A\n",
            " 58%|█████▊    | 58/100 [00:11<00:08,  5.14it/s]\u001b[A\n",
            " 59%|█████▉    | 59/100 [00:11<00:07,  5.15it/s]\u001b[A\n",
            " 60%|██████    | 60/100 [00:11<00:07,  5.16it/s]\u001b[A\n",
            " 61%|██████    | 61/100 [00:11<00:07,  5.16it/s]\u001b[A\n",
            " 62%|██████▏   | 62/100 [00:11<00:07,  5.15it/s]\u001b[A\n",
            " 63%|██████▎   | 63/100 [00:12<00:07,  5.14it/s]\u001b[A\n",
            " 64%|██████▍   | 64/100 [00:12<00:07,  5.14it/s]\u001b[A\n",
            " 65%|██████▌   | 65/100 [00:12<00:06,  5.14it/s]\u001b[A\n",
            " 66%|██████▌   | 66/100 [00:12<00:06,  5.15it/s]\u001b[A\n",
            " 67%|██████▋   | 67/100 [00:12<00:06,  5.16it/s]\u001b[A\n",
            " 68%|██████▊   | 68/100 [00:13<00:06,  5.16it/s]\u001b[A\n",
            " 69%|██████▉   | 69/100 [00:13<00:06,  5.15it/s]\u001b[A\n",
            " 70%|███████   | 70/100 [00:13<00:05,  5.15it/s]\u001b[A\n",
            " 71%|███████   | 71/100 [00:13<00:05,  5.15it/s]\u001b[A\n",
            " 72%|███████▏  | 72/100 [00:13<00:05,  5.11it/s]\u001b[A\n",
            " 73%|███████▎  | 73/100 [00:14<00:05,  5.15it/s]\u001b[A\n",
            " 74%|███████▍  | 74/100 [00:14<00:05,  5.15it/s]\u001b[A\n",
            " 75%|███████▌  | 75/100 [00:14<00:04,  5.15it/s]\u001b[A\n",
            " 76%|███████▌  | 76/100 [00:14<00:04,  5.16it/s]\u001b[A\n",
            " 77%|███████▋  | 77/100 [00:14<00:04,  5.16it/s]\u001b[A\n",
            " 78%|███████▊  | 78/100 [00:15<00:04,  5.15it/s]\u001b[A\n",
            " 79%|███████▉  | 79/100 [00:15<00:04,  5.15it/s]\u001b[A\n",
            " 80%|████████  | 80/100 [00:15<00:03,  5.14it/s]\u001b[A\n",
            " 81%|████████  | 81/100 [00:15<00:03,  5.14it/s]\u001b[A\n",
            " 82%|████████▏ | 82/100 [00:15<00:03,  5.15it/s]\u001b[A\n",
            " 83%|████████▎ | 83/100 [00:16<00:03,  5.15it/s]\u001b[A\n",
            " 84%|████████▍ | 84/100 [00:16<00:03,  5.16it/s]\u001b[A\n",
            " 85%|████████▌ | 85/100 [00:16<00:02,  5.16it/s]\u001b[A\n",
            " 86%|████████▌ | 86/100 [00:16<00:02,  5.15it/s]\u001b[A\n",
            " 87%|████████▋ | 87/100 [00:16<00:02,  5.15it/s]\u001b[A\n",
            " 88%|████████▊ | 88/100 [00:16<00:02,  5.16it/s]\u001b[A\n",
            " 89%|████████▉ | 89/100 [00:17<00:02,  5.17it/s]\u001b[A\n",
            " 90%|█████████ | 90/100 [00:17<00:01,  5.16it/s]\u001b[A\n",
            " 91%|█████████ | 91/100 [00:17<00:01,  5.15it/s]\u001b[A\n",
            " 92%|█████████▏| 92/100 [00:17<00:01,  5.16it/s]\u001b[A\n",
            " 93%|█████████▎| 93/100 [00:17<00:01,  5.16it/s]\u001b[A\n",
            " 94%|█████████▍| 94/100 [00:18<00:01,  5.15it/s]\u001b[A\n",
            " 95%|█████████▌| 95/100 [00:18<00:00,  5.16it/s]\u001b[A\n",
            " 96%|█████████▌| 96/100 [00:18<00:00,  5.16it/s]\u001b[A\n",
            " 97%|█████████▋| 97/100 [00:18<00:00,  5.16it/s]\u001b[A\n",
            " 98%|█████████▊| 98/100 [00:18<00:00,  5.15it/s]\u001b[A\n",
            " 99%|█████████▉| 99/100 [00:19<00:00,  5.15it/s]\u001b[A\n",
            "100%|██████████| 100/100 [00:19<00:00,  5.18it/s]\n",
            " 89%|████████▊ | 39/44 [31:22<01:53, 22.60s/it]"
          ]
        },
        {
          "output_type": "stream",
          "name": "stdout",
          "text": [
            "Computing rand index for ('Autoencoder', 'HDBSCAN', 10, 20)\n"
          ]
        },
        {
          "output_type": "stream",
          "name": "stderr",
          "text": [
            "\n",
            "  0%|          | 0/100 [00:00<?, ?it/s]\u001b[A\n",
            "  1%|          | 1/100 [00:00<00:12,  7.83it/s]\u001b[A\n",
            "  2%|▏         | 2/100 [00:00<00:17,  5.76it/s]\u001b[A\n",
            "  3%|▎         | 3/100 [00:00<00:17,  5.52it/s]\u001b[A\n",
            "  4%|▍         | 4/100 [00:00<00:17,  5.39it/s]\u001b[A\n",
            "  5%|▌         | 5/100 [00:00<00:17,  5.34it/s]\u001b[A\n",
            "  6%|▌         | 6/100 [00:01<00:17,  5.30it/s]\u001b[A\n",
            "  7%|▋         | 7/100 [00:01<00:17,  5.23it/s]\u001b[A\n",
            "  8%|▊         | 8/100 [00:01<00:17,  5.21it/s]\u001b[A\n",
            "  9%|▉         | 9/100 [00:01<00:17,  5.21it/s]\u001b[A\n",
            " 10%|█         | 10/100 [00:01<00:17,  5.22it/s]\u001b[A\n",
            " 11%|█         | 11/100 [00:02<00:17,  5.22it/s]\u001b[A\n",
            " 12%|█▏        | 12/100 [00:02<00:16,  5.19it/s]\u001b[A\n",
            " 13%|█▎        | 13/100 [00:02<00:16,  5.19it/s]\u001b[A\n",
            " 14%|█▍        | 14/100 [00:02<00:16,  5.19it/s]\u001b[A\n",
            " 15%|█▌        | 15/100 [00:02<00:16,  5.19it/s]\u001b[A\n",
            " 16%|█▌        | 16/100 [00:03<00:16,  5.20it/s]\u001b[A\n",
            " 17%|█▋        | 17/100 [00:03<00:16,  5.17it/s]\u001b[A\n",
            " 18%|█▊        | 18/100 [00:03<00:15,  5.17it/s]\u001b[A\n",
            " 19%|█▉        | 19/100 [00:03<00:15,  5.18it/s]\u001b[A\n",
            " 20%|██        | 20/100 [00:03<00:15,  5.19it/s]\u001b[A\n",
            " 21%|██        | 21/100 [00:03<00:15,  5.20it/s]\u001b[A\n",
            " 22%|██▏       | 22/100 [00:04<00:15,  5.20it/s]\u001b[A\n",
            " 23%|██▎       | 23/100 [00:04<00:14,  5.19it/s]\u001b[A\n",
            " 24%|██▍       | 24/100 [00:04<00:14,  5.18it/s]\u001b[A\n",
            " 25%|██▌       | 25/100 [00:04<00:14,  5.19it/s]\u001b[A\n",
            " 26%|██▌       | 26/100 [00:04<00:14,  5.20it/s]\u001b[A\n",
            " 27%|██▋       | 27/100 [00:05<00:14,  5.19it/s]\u001b[A\n",
            " 28%|██▊       | 28/100 [00:05<00:13,  5.18it/s]\u001b[A\n",
            " 29%|██▉       | 29/100 [00:05<00:13,  5.19it/s]\u001b[A\n",
            " 30%|███       | 30/100 [00:05<00:13,  5.19it/s]\u001b[A\n",
            " 31%|███       | 31/100 [00:05<00:13,  5.20it/s]\u001b[A\n",
            " 32%|███▏      | 32/100 [00:06<00:13,  5.20it/s]\u001b[A\n",
            " 33%|███▎      | 33/100 [00:06<00:12,  5.18it/s]\u001b[A\n",
            " 34%|███▍      | 34/100 [00:06<00:12,  5.19it/s]\u001b[A\n",
            " 35%|███▌      | 35/100 [00:06<00:12,  5.19it/s]\u001b[A\n",
            " 36%|███▌      | 36/100 [00:06<00:12,  5.19it/s]\u001b[A\n",
            " 37%|███▋      | 37/100 [00:07<00:12,  5.20it/s]\u001b[A\n",
            " 38%|███▊      | 38/100 [00:07<00:11,  5.19it/s]\u001b[A\n",
            " 39%|███▉      | 39/100 [00:07<00:11,  5.18it/s]\u001b[A\n",
            " 40%|████      | 40/100 [00:07<00:11,  5.17it/s]\u001b[A\n",
            " 41%|████      | 41/100 [00:07<00:11,  5.18it/s]\u001b[A\n",
            " 42%|████▏     | 42/100 [00:08<00:11,  5.19it/s]\u001b[A\n",
            " 43%|████▎     | 43/100 [00:08<00:10,  5.18it/s]\u001b[A\n",
            " 44%|████▍     | 44/100 [00:08<00:10,  5.17it/s]\u001b[A\n",
            " 45%|████▌     | 45/100 [00:08<00:10,  5.19it/s]\u001b[A\n",
            " 46%|████▌     | 46/100 [00:08<00:10,  5.19it/s]\u001b[A\n",
            " 47%|████▋     | 47/100 [00:09<00:10,  5.19it/s]\u001b[A\n",
            " 48%|████▊     | 48/100 [00:09<00:10,  5.18it/s]\u001b[A\n",
            " 49%|████▉     | 49/100 [00:09<00:09,  5.18it/s]\u001b[A\n",
            " 50%|█████     | 50/100 [00:09<00:09,  5.18it/s]\u001b[A\n",
            " 51%|█████     | 51/100 [00:09<00:09,  5.18it/s]\u001b[A\n",
            " 52%|█████▏    | 52/100 [00:09<00:09,  5.19it/s]\u001b[A\n",
            " 53%|█████▎    | 53/100 [00:10<00:09,  5.18it/s]\u001b[A\n",
            " 54%|█████▍    | 54/100 [00:10<00:08,  5.17it/s]\u001b[A\n",
            " 55%|█████▌    | 55/100 [00:10<00:08,  5.17it/s]\u001b[A\n",
            " 56%|█████▌    | 56/100 [00:10<00:08,  5.18it/s]\u001b[A\n",
            " 57%|█████▋    | 57/100 [00:10<00:08,  5.18it/s]\u001b[A\n",
            " 58%|█████▊    | 58/100 [00:11<00:08,  5.18it/s]\u001b[A\n",
            " 59%|█████▉    | 59/100 [00:11<00:07,  5.19it/s]\u001b[A\n",
            " 60%|██████    | 60/100 [00:11<00:07,  5.18it/s]\u001b[A\n",
            " 61%|██████    | 61/100 [00:11<00:07,  5.18it/s]\u001b[A\n",
            " 62%|██████▏   | 62/100 [00:11<00:07,  5.18it/s]\u001b[A\n",
            " 63%|██████▎   | 63/100 [00:12<00:07,  5.19it/s]\u001b[A\n",
            " 64%|██████▍   | 64/100 [00:12<00:06,  5.18it/s]\u001b[A\n",
            " 65%|██████▌   | 65/100 [00:12<00:06,  5.17it/s]\u001b[A\n",
            " 66%|██████▌   | 66/100 [00:12<00:06,  5.19it/s]\u001b[A\n",
            " 67%|██████▋   | 67/100 [00:12<00:06,  5.19it/s]\u001b[A\n",
            " 68%|██████▊   | 68/100 [00:13<00:06,  5.19it/s]\u001b[A\n",
            " 69%|██████▉   | 69/100 [00:13<00:05,  5.19it/s]\u001b[A\n",
            " 70%|███████   | 70/100 [00:13<00:05,  5.19it/s]\u001b[A\n",
            " 71%|███████   | 71/100 [00:13<00:05,  5.16it/s]\u001b[A\n",
            " 72%|███████▏  | 72/100 [00:13<00:05,  5.18it/s]\u001b[A\n",
            " 73%|███████▎  | 73/100 [00:14<00:05,  5.19it/s]\u001b[A\n",
            " 74%|███████▍  | 74/100 [00:14<00:05,  5.19it/s]\u001b[A\n",
            " 75%|███████▌  | 75/100 [00:14<00:04,  5.19it/s]\u001b[A\n",
            " 76%|███████▌  | 76/100 [00:14<00:04,  5.19it/s]\u001b[A\n",
            " 77%|███████▋  | 77/100 [00:14<00:04,  5.19it/s]\u001b[A\n",
            " 78%|███████▊  | 78/100 [00:14<00:04,  5.19it/s]\u001b[A\n",
            " 79%|███████▉  | 79/100 [00:15<00:04,  5.20it/s]\u001b[A\n",
            " 80%|████████  | 80/100 [00:15<00:03,  5.19it/s]\u001b[A\n",
            " 81%|████████  | 81/100 [00:15<00:03,  5.18it/s]\u001b[A\n",
            " 82%|████████▏ | 82/100 [00:15<00:03,  5.18it/s]\u001b[A\n",
            " 83%|████████▎ | 83/100 [00:15<00:03,  5.19it/s]\u001b[A\n",
            " 84%|████████▍ | 84/100 [00:16<00:03,  5.18it/s]\u001b[A\n",
            " 85%|████████▌ | 85/100 [00:16<00:02,  5.19it/s]\u001b[A\n",
            " 86%|████████▌ | 86/100 [00:16<00:02,  5.19it/s]\u001b[A\n",
            " 87%|████████▋ | 87/100 [00:16<00:02,  5.19it/s]\u001b[A\n",
            " 88%|████████▊ | 88/100 [00:16<00:02,  5.19it/s]\u001b[A\n",
            " 89%|████████▉ | 89/100 [00:17<00:02,  5.20it/s]\u001b[A\n",
            " 90%|█████████ | 90/100 [00:17<00:01,  5.20it/s]\u001b[A\n",
            " 91%|█████████ | 91/100 [00:17<00:01,  5.21it/s]\u001b[A\n",
            " 92%|█████████▏| 92/100 [00:17<00:01,  5.20it/s]\u001b[A\n",
            " 93%|█████████▎| 93/100 [00:17<00:01,  5.18it/s]\u001b[A\n",
            " 94%|█████████▍| 94/100 [00:18<00:01,  5.19it/s]\u001b[A\n",
            " 95%|█████████▌| 95/100 [00:18<00:00,  5.20it/s]\u001b[A\n",
            " 96%|█████████▌| 96/100 [00:18<00:00,  5.19it/s]\u001b[A\n",
            " 97%|█████████▋| 97/100 [00:18<00:00,  5.18it/s]\u001b[A\n",
            " 98%|█████████▊| 98/100 [00:18<00:00,  5.19it/s]\u001b[A\n",
            " 99%|█████████▉| 99/100 [00:19<00:00,  5.20it/s]\u001b[A\n",
            "100%|██████████| 100/100 [00:19<00:00,  5.20it/s]\n",
            " 91%|█████████ | 40/44 [31:43<01:28, 22.17s/it]"
          ]
        },
        {
          "output_type": "stream",
          "name": "stdout",
          "text": [
            "Computing rand index for ('Autoencoder', 'HDBSCAN', 10, 30)\n"
          ]
        },
        {
          "output_type": "stream",
          "name": "stderr",
          "text": [
            "\n",
            "  0%|          | 0/100 [00:00<?, ?it/s]\u001b[A\n",
            "  2%|▏         | 2/100 [00:00<00:13,  7.12it/s]\u001b[A\n",
            "  3%|▎         | 3/100 [00:00<00:15,  6.20it/s]\u001b[A\n",
            "  4%|▍         | 4/100 [00:00<00:16,  5.81it/s]\u001b[A\n",
            "  5%|▌         | 5/100 [00:00<00:17,  5.59it/s]\u001b[A\n",
            "  6%|▌         | 6/100 [00:01<00:17,  5.32it/s]\u001b[A\n",
            "  7%|▋         | 7/100 [00:01<00:17,  5.29it/s]\u001b[A\n",
            "  8%|▊         | 8/100 [00:01<00:17,  5.27it/s]\u001b[A\n",
            "  9%|▉         | 9/100 [00:01<00:17,  5.27it/s]\u001b[A\n",
            " 10%|█         | 10/100 [00:01<00:17,  5.24it/s]\u001b[A\n",
            " 11%|█         | 11/100 [00:02<00:17,  5.19it/s]\u001b[A\n",
            " 12%|█▏        | 12/100 [00:02<00:16,  5.19it/s]\u001b[A\n",
            " 13%|█▎        | 13/100 [00:02<00:16,  5.21it/s]\u001b[A\n",
            " 14%|█▍        | 14/100 [00:02<00:16,  5.21it/s]\u001b[A\n",
            " 15%|█▌        | 15/100 [00:02<00:16,  5.20it/s]\u001b[A\n",
            " 16%|█▌        | 16/100 [00:02<00:16,  5.18it/s]\u001b[A\n",
            " 17%|█▋        | 17/100 [00:03<00:16,  5.18it/s]\u001b[A\n",
            " 18%|█▊        | 18/100 [00:03<00:15,  5.20it/s]\u001b[A\n",
            " 19%|█▉        | 19/100 [00:03<00:15,  5.20it/s]\u001b[A\n",
            " 20%|██        | 20/100 [00:03<00:15,  5.18it/s]\u001b[A\n",
            " 21%|██        | 21/100 [00:03<00:15,  5.20it/s]\u001b[A\n",
            " 22%|██▏       | 22/100 [00:04<00:15,  5.18it/s]\u001b[A\n",
            " 23%|██▎       | 23/100 [00:04<00:14,  5.19it/s]\u001b[A\n",
            " 24%|██▍       | 24/100 [00:04<00:14,  5.20it/s]\u001b[A\n",
            " 25%|██▌       | 25/100 [00:04<00:14,  5.20it/s]\u001b[A\n",
            " 26%|██▌       | 26/100 [00:04<00:14,  5.20it/s]\u001b[A\n",
            " 27%|██▋       | 27/100 [00:05<00:14,  5.18it/s]\u001b[A\n",
            " 28%|██▊       | 28/100 [00:05<00:13,  5.18it/s]\u001b[A\n",
            " 29%|██▉       | 29/100 [00:05<00:13,  5.20it/s]\u001b[A\n",
            " 30%|███       | 30/100 [00:05<00:13,  5.21it/s]\u001b[A\n",
            " 31%|███       | 31/100 [00:05<00:13,  5.21it/s]\u001b[A\n",
            " 32%|███▏      | 32/100 [00:06<00:13,  5.18it/s]\u001b[A\n",
            " 33%|███▎      | 33/100 [00:06<00:12,  5.17it/s]\u001b[A\n",
            " 34%|███▍      | 34/100 [00:06<00:12,  5.19it/s]\u001b[A\n",
            " 35%|███▌      | 35/100 [00:06<00:12,  5.20it/s]\u001b[A\n",
            " 36%|███▌      | 36/100 [00:06<00:12,  5.20it/s]\u001b[A\n",
            " 37%|███▋      | 37/100 [00:07<00:12,  5.20it/s]\u001b[A\n",
            " 38%|███▊      | 38/100 [00:07<00:11,  5.19it/s]\u001b[A\n",
            " 39%|███▉      | 39/100 [00:07<00:11,  5.18it/s]\u001b[A\n",
            " 40%|████      | 40/100 [00:07<00:11,  5.19it/s]\u001b[A\n",
            " 41%|████      | 41/100 [00:07<00:11,  5.19it/s]\u001b[A\n",
            " 42%|████▏     | 42/100 [00:07<00:11,  5.18it/s]\u001b[A\n",
            " 43%|████▎     | 43/100 [00:08<00:11,  5.18it/s]\u001b[A\n",
            " 44%|████▍     | 44/100 [00:08<00:10,  5.18it/s]\u001b[A\n",
            " 45%|████▌     | 45/100 [00:08<00:10,  5.18it/s]\u001b[A\n",
            " 46%|████▌     | 46/100 [00:08<00:10,  5.18it/s]\u001b[A\n",
            " 47%|████▋     | 47/100 [00:08<00:10,  5.18it/s]\u001b[A\n",
            " 48%|████▊     | 48/100 [00:09<00:10,  5.18it/s]\u001b[A\n",
            " 49%|████▉     | 49/100 [00:09<00:09,  5.18it/s]\u001b[A\n",
            " 50%|█████     | 50/100 [00:09<00:09,  5.17it/s]\u001b[A\n",
            " 51%|█████     | 51/100 [00:09<00:09,  5.17it/s]\u001b[A\n",
            " 52%|█████▏    | 52/100 [00:09<00:09,  5.18it/s]\u001b[A\n",
            " 53%|█████▎    | 53/100 [00:10<00:09,  5.18it/s]\u001b[A\n",
            " 54%|█████▍    | 54/100 [00:10<00:08,  5.18it/s]\u001b[A\n",
            " 55%|█████▌    | 55/100 [00:10<00:08,  5.17it/s]\u001b[A\n",
            " 56%|█████▌    | 56/100 [00:10<00:08,  5.18it/s]\u001b[A\n",
            " 57%|█████▋    | 57/100 [00:10<00:08,  5.19it/s]\u001b[A\n",
            " 58%|█████▊    | 58/100 [00:11<00:08,  5.17it/s]\u001b[A\n",
            " 59%|█████▉    | 59/100 [00:11<00:07,  5.17it/s]\u001b[A\n",
            " 60%|██████    | 60/100 [00:11<00:07,  5.16it/s]\u001b[A\n",
            " 61%|██████    | 61/100 [00:11<00:07,  5.16it/s]\u001b[A\n",
            " 62%|██████▏   | 62/100 [00:11<00:07,  5.17it/s]\u001b[A\n",
            " 63%|██████▎   | 63/100 [00:12<00:07,  5.18it/s]\u001b[A\n",
            " 64%|██████▍   | 64/100 [00:12<00:06,  5.18it/s]\u001b[A\n",
            " 65%|██████▌   | 65/100 [00:12<00:06,  5.17it/s]\u001b[A\n",
            " 66%|██████▌   | 66/100 [00:12<00:06,  5.17it/s]\u001b[A\n",
            " 67%|██████▋   | 67/100 [00:12<00:06,  5.18it/s]\u001b[A\n",
            " 68%|██████▊   | 68/100 [00:13<00:06,  5.17it/s]\u001b[A\n",
            " 69%|██████▉   | 69/100 [00:13<00:05,  5.18it/s]\u001b[A\n",
            " 70%|███████   | 70/100 [00:13<00:05,  5.17it/s]\u001b[A\n",
            " 71%|███████   | 71/100 [00:13<00:05,  5.18it/s]\u001b[A\n",
            " 72%|███████▏  | 72/100 [00:13<00:05,  5.18it/s]\u001b[A\n",
            " 73%|███████▎  | 73/100 [00:13<00:05,  5.18it/s]\u001b[A\n",
            " 74%|███████▍  | 74/100 [00:14<00:05,  5.17it/s]\u001b[A\n",
            " 75%|███████▌  | 75/100 [00:14<00:04,  5.18it/s]\u001b[A\n",
            " 76%|███████▌  | 76/100 [00:14<00:04,  5.18it/s]\u001b[A\n",
            " 77%|███████▋  | 77/100 [00:14<00:04,  5.18it/s]\u001b[A\n",
            " 78%|███████▊  | 78/100 [00:14<00:04,  5.18it/s]\u001b[A\n",
            " 79%|███████▉  | 79/100 [00:15<00:04,  5.17it/s]\u001b[A\n",
            " 80%|████████  | 80/100 [00:15<00:03,  5.18it/s]\u001b[A\n",
            " 81%|████████  | 81/100 [00:15<00:03,  5.17it/s]\u001b[A\n",
            " 82%|████████▏ | 82/100 [00:15<00:03,  5.17it/s]\u001b[A\n",
            " 83%|████████▎ | 83/100 [00:15<00:03,  5.17it/s]\u001b[A\n",
            " 84%|████████▍ | 84/100 [00:16<00:03,  5.18it/s]\u001b[A\n",
            " 85%|████████▌ | 85/100 [00:16<00:02,  5.17it/s]\u001b[A\n",
            " 86%|████████▌ | 86/100 [00:16<00:02,  5.17it/s]\u001b[A\n",
            " 87%|████████▋ | 87/100 [00:16<00:02,  5.17it/s]\u001b[A\n",
            " 88%|████████▊ | 88/100 [00:16<00:02,  5.18it/s]\u001b[A\n",
            " 89%|████████▉ | 89/100 [00:17<00:02,  5.17it/s]\u001b[A\n",
            " 90%|█████████ | 90/100 [00:17<00:01,  5.17it/s]\u001b[A\n",
            " 91%|█████████ | 91/100 [00:17<00:01,  5.15it/s]\u001b[A\n",
            " 92%|█████████▏| 92/100 [00:17<00:01,  5.17it/s]\u001b[A\n",
            " 93%|█████████▎| 93/100 [00:17<00:01,  5.15it/s]\u001b[A\n",
            " 94%|█████████▍| 94/100 [00:18<00:01,  5.18it/s]\u001b[A\n",
            " 95%|█████████▌| 95/100 [00:18<00:00,  5.17it/s]\u001b[A\n",
            " 96%|█████████▌| 96/100 [00:18<00:00,  5.17it/s]\u001b[A\n",
            " 97%|█████████▋| 97/100 [00:18<00:00,  5.17it/s]\u001b[A\n",
            " 98%|█████████▊| 98/100 [00:18<00:00,  5.17it/s]\u001b[A\n",
            " 99%|█████████▉| 99/100 [00:19<00:00,  5.18it/s]\u001b[A\n",
            "100%|██████████| 100/100 [00:19<00:00,  5.21it/s]\n",
            " 93%|█████████▎| 41/44 [32:04<01:05, 21.84s/it]"
          ]
        },
        {
          "output_type": "stream",
          "name": "stdout",
          "text": [
            "Computing rand index for ('Autoencoder', 'HDBSCAN', 15, 10)\n"
          ]
        },
        {
          "output_type": "stream",
          "name": "stderr",
          "text": [
            "\n",
            "  0%|          | 0/100 [00:00<?, ?it/s]\u001b[A\n",
            "  2%|▏         | 2/100 [00:00<00:13,  7.14it/s]\u001b[A\n",
            "  3%|▎         | 3/100 [00:00<00:15,  6.22it/s]\u001b[A\n",
            "  4%|▍         | 4/100 [00:00<00:16,  5.82it/s]\u001b[A\n",
            "  5%|▌         | 5/100 [00:00<00:16,  5.60it/s]\u001b[A\n",
            "  6%|▌         | 6/100 [00:01<00:17,  5.34it/s]\u001b[A\n",
            "  7%|▋         | 7/100 [00:01<00:17,  5.32it/s]\u001b[A\n",
            "  8%|▊         | 8/100 [00:01<00:17,  5.30it/s]\u001b[A\n",
            "  9%|▉         | 9/100 [00:01<00:17,  5.29it/s]\u001b[A\n",
            " 10%|█         | 10/100 [00:01<00:17,  5.26it/s]\u001b[A\n",
            " 11%|█         | 11/100 [00:02<00:17,  5.21it/s]\u001b[A\n",
            " 12%|█▏        | 12/100 [00:02<00:16,  5.21it/s]\u001b[A\n",
            " 13%|█▎        | 13/100 [00:02<00:16,  5.22it/s]\u001b[A\n",
            " 14%|█▍        | 14/100 [00:02<00:16,  5.23it/s]\u001b[A\n",
            " 15%|█▌        | 15/100 [00:02<00:16,  5.23it/s]\u001b[A\n",
            " 16%|█▌        | 16/100 [00:02<00:16,  5.21it/s]\u001b[A\n",
            " 17%|█▋        | 17/100 [00:03<00:15,  5.20it/s]\u001b[A\n",
            " 18%|█▊        | 18/100 [00:03<00:15,  5.21it/s]\u001b[A\n",
            " 19%|█▉        | 19/100 [00:03<00:15,  5.22it/s]\u001b[A\n",
            " 20%|██        | 20/100 [00:03<00:15,  5.22it/s]\u001b[A\n",
            " 21%|██        | 21/100 [00:03<00:15,  5.20it/s]\u001b[A\n",
            " 22%|██▏       | 22/100 [00:04<00:15,  5.19it/s]\u001b[A\n",
            " 23%|██▎       | 23/100 [00:04<00:14,  5.20it/s]\u001b[A\n",
            " 24%|██▍       | 24/100 [00:04<00:14,  5.21it/s]\u001b[A\n",
            " 25%|██▌       | 25/100 [00:04<00:14,  5.21it/s]\u001b[A\n",
            " 26%|██▌       | 26/100 [00:04<00:14,  5.21it/s]\u001b[A\n",
            " 27%|██▋       | 27/100 [00:05<00:14,  5.21it/s]\u001b[A\n",
            " 28%|██▊       | 28/100 [00:05<00:13,  5.20it/s]\u001b[A\n",
            " 29%|██▉       | 29/100 [00:05<00:13,  5.21it/s]\u001b[A\n",
            " 30%|███       | 30/100 [00:05<00:13,  5.21it/s]\u001b[A\n",
            " 31%|███       | 31/100 [00:05<00:13,  5.21it/s]\u001b[A\n",
            " 32%|███▏      | 32/100 [00:06<00:13,  5.20it/s]\u001b[A\n",
            " 33%|███▎      | 33/100 [00:06<00:12,  5.21it/s]\u001b[A\n",
            " 34%|███▍      | 34/100 [00:06<00:12,  5.21it/s]\u001b[A\n",
            " 35%|███▌      | 35/100 [00:06<00:12,  5.20it/s]\u001b[A\n",
            " 36%|███▌      | 36/100 [00:06<00:12,  5.20it/s]\u001b[A\n",
            " 37%|███▋      | 37/100 [00:07<00:12,  5.19it/s]\u001b[A\n",
            " 38%|███▊      | 38/100 [00:07<00:11,  5.19it/s]\u001b[A\n",
            " 39%|███▉      | 39/100 [00:07<00:11,  5.19it/s]\u001b[A\n",
            " 40%|████      | 40/100 [00:07<00:11,  5.20it/s]\u001b[A\n",
            " 41%|████      | 41/100 [00:07<00:11,  5.19it/s]\u001b[A\n",
            " 42%|████▏     | 42/100 [00:07<00:11,  5.19it/s]\u001b[A\n",
            " 43%|████▎     | 43/100 [00:08<00:10,  5.20it/s]\u001b[A\n",
            " 44%|████▍     | 44/100 [00:08<00:10,  5.19it/s]\u001b[A\n",
            " 45%|████▌     | 45/100 [00:08<00:10,  5.19it/s]\u001b[A\n",
            " 46%|████▌     | 46/100 [00:08<00:10,  5.20it/s]\u001b[A\n",
            " 47%|████▋     | 47/100 [00:08<00:10,  5.19it/s]\u001b[A\n",
            " 48%|████▊     | 48/100 [00:09<00:10,  5.19it/s]\u001b[A\n",
            " 49%|████▉     | 49/100 [00:09<00:09,  5.19it/s]\u001b[A\n",
            " 50%|█████     | 50/100 [00:09<00:09,  5.17it/s]\u001b[A\n",
            " 51%|█████     | 51/100 [00:09<00:09,  5.20it/s]\u001b[A\n",
            " 52%|█████▏    | 52/100 [00:09<00:09,  5.20it/s]\u001b[A\n",
            " 53%|█████▎    | 53/100 [00:10<00:09,  5.19it/s]\u001b[A\n",
            " 54%|█████▍    | 54/100 [00:10<00:08,  5.19it/s]\u001b[A\n",
            " 55%|█████▌    | 55/100 [00:10<00:08,  5.19it/s]\u001b[A\n",
            " 56%|█████▌    | 56/100 [00:10<00:08,  5.17it/s]\u001b[A\n",
            " 57%|█████▋    | 57/100 [00:10<00:08,  5.19it/s]\u001b[A\n",
            " 58%|█████▊    | 58/100 [00:11<00:08,  5.19it/s]\u001b[A\n",
            " 59%|█████▉    | 59/100 [00:11<00:07,  5.18it/s]\u001b[A\n",
            " 60%|██████    | 60/100 [00:11<00:07,  5.19it/s]\u001b[A\n",
            " 61%|██████    | 61/100 [00:11<00:07,  5.20it/s]\u001b[A\n",
            " 62%|██████▏   | 62/100 [00:11<00:07,  5.19it/s]\u001b[A\n",
            " 63%|██████▎   | 63/100 [00:12<00:07,  5.19it/s]\u001b[A\n",
            " 64%|██████▍   | 64/100 [00:12<00:06,  5.19it/s]\u001b[A\n",
            " 65%|██████▌   | 65/100 [00:12<00:06,  5.19it/s]\u001b[A\n",
            " 66%|██████▌   | 66/100 [00:12<00:06,  5.19it/s]\u001b[A\n",
            " 67%|██████▋   | 67/100 [00:12<00:06,  5.20it/s]\u001b[A\n",
            " 68%|██████▊   | 68/100 [00:12<00:06,  5.19it/s]\u001b[A\n",
            " 69%|██████▉   | 69/100 [00:13<00:05,  5.19it/s]\u001b[A\n",
            " 70%|███████   | 70/100 [00:13<00:05,  5.19it/s]\u001b[A\n",
            " 71%|███████   | 71/100 [00:13<00:05,  5.19it/s]\u001b[A\n",
            " 72%|███████▏  | 72/100 [00:13<00:05,  5.18it/s]\u001b[A\n",
            " 73%|███████▎  | 73/100 [00:13<00:05,  5.20it/s]\u001b[A\n",
            " 74%|███████▍  | 74/100 [00:14<00:05,  5.19it/s]\u001b[A\n",
            " 75%|███████▌  | 75/100 [00:14<00:04,  5.19it/s]\u001b[A\n",
            " 76%|███████▌  | 76/100 [00:14<00:04,  5.20it/s]\u001b[A\n",
            " 77%|███████▋  | 77/100 [00:14<00:04,  5.19it/s]\u001b[A\n",
            " 78%|███████▊  | 78/100 [00:14<00:04,  5.20it/s]\u001b[A\n",
            " 79%|███████▉  | 79/100 [00:15<00:04,  5.19it/s]\u001b[A\n",
            " 80%|████████  | 80/100 [00:15<00:03,  5.19it/s]\u001b[A\n",
            " 81%|████████  | 81/100 [00:15<00:03,  5.20it/s]\u001b[A\n",
            " 82%|████████▏ | 82/100 [00:15<00:03,  5.19it/s]\u001b[A\n",
            " 83%|████████▎ | 83/100 [00:15<00:03,  5.19it/s]\u001b[A\n",
            " 84%|████████▍ | 84/100 [00:16<00:03,  5.19it/s]\u001b[A\n",
            " 85%|████████▌ | 85/100 [00:16<00:02,  5.18it/s]\u001b[A\n",
            " 86%|████████▌ | 86/100 [00:16<00:02,  5.19it/s]\u001b[A\n",
            " 87%|████████▋ | 87/100 [00:16<00:02,  5.19it/s]\u001b[A\n",
            " 88%|████████▊ | 88/100 [00:16<00:02,  5.19it/s]\u001b[A\n",
            " 89%|████████▉ | 89/100 [00:17<00:02,  5.19it/s]\u001b[A\n",
            " 90%|█████████ | 90/100 [00:17<00:01,  5.19it/s]\u001b[A\n",
            " 91%|█████████ | 91/100 [00:17<00:01,  5.20it/s]\u001b[A\n",
            " 92%|█████████▏| 92/100 [00:17<00:01,  5.20it/s]\u001b[A\n",
            " 93%|█████████▎| 93/100 [00:17<00:01,  5.19it/s]\u001b[A\n",
            " 94%|█████████▍| 94/100 [00:17<00:01,  5.19it/s]\u001b[A\n",
            " 95%|█████████▌| 95/100 [00:18<00:00,  5.19it/s]\u001b[A\n",
            " 96%|█████████▌| 96/100 [00:18<00:00,  5.19it/s]\u001b[A\n",
            " 97%|█████████▋| 97/100 [00:18<00:00,  5.20it/s]\u001b[A\n",
            " 98%|█████████▊| 98/100 [00:18<00:00,  5.20it/s]\u001b[A\n",
            " 99%|█████████▉| 99/100 [00:18<00:00,  5.19it/s]\u001b[A\n",
            "100%|██████████| 100/100 [00:19<00:00,  5.22it/s]\n",
            " 95%|█████████▌| 42/44 [32:25<00:43, 21.58s/it]"
          ]
        },
        {
          "output_type": "stream",
          "name": "stdout",
          "text": [
            "Computing rand index for ('Autoencoder', 'HDBSCAN', 15, 20)\n"
          ]
        },
        {
          "output_type": "stream",
          "name": "stderr",
          "text": [
            "\n",
            "  0%|          | 0/100 [00:00<?, ?it/s]\u001b[A\n",
            "  2%|▏         | 2/100 [00:00<00:14,  6.72it/s]\u001b[A\n",
            "  3%|▎         | 3/100 [00:00<00:16,  6.02it/s]\u001b[A\n",
            "  4%|▍         | 4/100 [00:00<00:16,  5.71it/s]\u001b[A\n",
            "  5%|▌         | 5/100 [00:00<00:17,  5.54it/s]\u001b[A\n",
            "  6%|▌         | 6/100 [00:01<00:17,  5.42it/s]\u001b[A\n",
            "  7%|▋         | 7/100 [00:01<00:17,  5.31it/s]\u001b[A\n",
            "  8%|▊         | 8/100 [00:01<00:17,  5.27it/s]\u001b[A\n",
            "  9%|▉         | 9/100 [00:01<00:17,  5.26it/s]\u001b[A\n",
            " 10%|█         | 10/100 [00:01<00:17,  5.26it/s]\u001b[A\n",
            " 11%|█         | 11/100 [00:02<00:16,  5.24it/s]\u001b[A\n",
            " 12%|█▏        | 12/100 [00:02<00:16,  5.19it/s]\u001b[A\n",
            " 13%|█▎        | 13/100 [00:02<00:16,  5.19it/s]\u001b[A\n",
            " 14%|█▍        | 14/100 [00:02<00:16,  5.22it/s]\u001b[A\n",
            " 15%|█▌        | 15/100 [00:02<00:16,  5.22it/s]\u001b[A\n",
            " 16%|█▌        | 16/100 [00:02<00:16,  5.22it/s]\u001b[A\n",
            " 17%|█▋        | 17/100 [00:03<00:15,  5.20it/s]\u001b[A\n",
            " 18%|█▊        | 18/100 [00:03<00:15,  5.20it/s]\u001b[A\n",
            " 19%|█▉        | 19/100 [00:03<00:15,  5.21it/s]\u001b[A\n",
            " 20%|██        | 20/100 [00:03<00:15,  5.21it/s]\u001b[A\n",
            " 21%|██        | 21/100 [00:03<00:15,  5.21it/s]\u001b[A\n",
            " 22%|██▏       | 22/100 [00:04<00:15,  5.19it/s]\u001b[A\n",
            " 23%|██▎       | 23/100 [00:04<00:14,  5.20it/s]\u001b[A\n",
            " 24%|██▍       | 24/100 [00:04<00:14,  5.20it/s]\u001b[A\n",
            " 25%|██▌       | 25/100 [00:04<00:14,  5.20it/s]\u001b[A\n",
            " 26%|██▌       | 26/100 [00:04<00:14,  5.21it/s]\u001b[A\n",
            " 27%|██▋       | 27/100 [00:05<00:14,  5.19it/s]\u001b[A\n",
            " 28%|██▊       | 28/100 [00:05<00:13,  5.18it/s]\u001b[A\n",
            " 29%|██▉       | 29/100 [00:05<00:13,  5.19it/s]\u001b[A\n",
            " 30%|███       | 30/100 [00:05<00:13,  5.20it/s]\u001b[A\n",
            " 31%|███       | 31/100 [00:05<00:13,  5.21it/s]\u001b[A\n",
            " 32%|███▏      | 32/100 [00:06<00:13,  5.20it/s]\u001b[A\n",
            " 33%|███▎      | 33/100 [00:06<00:12,  5.19it/s]\u001b[A\n",
            " 34%|███▍      | 34/100 [00:06<00:12,  5.19it/s]\u001b[A\n",
            " 35%|███▌      | 35/100 [00:06<00:12,  5.20it/s]\u001b[A\n",
            " 36%|███▌      | 36/100 [00:06<00:12,  5.21it/s]\u001b[A\n",
            " 37%|███▋      | 37/100 [00:07<00:12,  5.20it/s]\u001b[A\n",
            " 38%|███▊      | 38/100 [00:07<00:11,  5.19it/s]\u001b[A\n",
            " 39%|███▉      | 39/100 [00:07<00:11,  5.19it/s]\u001b[A\n",
            " 40%|████      | 40/100 [00:07<00:11,  5.20it/s]\u001b[A\n",
            " 41%|████      | 41/100 [00:07<00:11,  5.20it/s]\u001b[A\n",
            " 42%|████▏     | 42/100 [00:07<00:11,  5.20it/s]\u001b[A\n",
            " 43%|████▎     | 43/100 [00:08<00:10,  5.20it/s]\u001b[A\n",
            " 44%|████▍     | 44/100 [00:08<00:10,  5.19it/s]\u001b[A\n",
            " 45%|████▌     | 45/100 [00:08<00:10,  5.20it/s]\u001b[A\n",
            " 46%|████▌     | 46/100 [00:08<00:10,  5.19it/s]\u001b[A\n",
            " 47%|████▋     | 47/100 [00:08<00:10,  5.20it/s]\u001b[A\n",
            " 48%|████▊     | 48/100 [00:09<00:10,  5.20it/s]\u001b[A\n",
            " 49%|████▉     | 49/100 [00:09<00:09,  5.18it/s]\u001b[A\n",
            " 50%|█████     | 50/100 [00:09<00:09,  5.17it/s]\u001b[A\n",
            " 51%|█████     | 51/100 [00:09<00:09,  5.19it/s]\u001b[A\n",
            " 52%|█████▏    | 52/100 [00:09<00:09,  5.19it/s]\u001b[A\n",
            " 53%|█████▎    | 53/100 [00:10<00:09,  5.19it/s]\u001b[A\n",
            " 54%|█████▍    | 54/100 [00:10<00:08,  5.19it/s]\u001b[A\n",
            " 55%|█████▌    | 55/100 [00:10<00:08,  5.19it/s]\u001b[A\n",
            " 56%|█████▌    | 56/100 [00:10<00:08,  5.17it/s]\u001b[A\n",
            " 57%|█████▋    | 57/100 [00:10<00:08,  5.19it/s]\u001b[A\n",
            " 58%|█████▊    | 58/100 [00:11<00:08,  5.19it/s]\u001b[A\n",
            " 59%|█████▉    | 59/100 [00:11<00:07,  5.19it/s]\u001b[A\n",
            " 60%|██████    | 60/100 [00:11<00:07,  5.19it/s]\u001b[A\n",
            " 61%|██████    | 61/100 [00:11<00:07,  5.20it/s]\u001b[A\n",
            " 62%|██████▏   | 62/100 [00:11<00:07,  5.18it/s]\u001b[A\n",
            " 63%|██████▎   | 63/100 [00:12<00:07,  5.19it/s]\u001b[A\n",
            " 64%|██████▍   | 64/100 [00:12<00:06,  5.20it/s]\u001b[A\n",
            " 65%|██████▌   | 65/100 [00:12<00:06,  5.18it/s]\u001b[A\n",
            " 66%|██████▌   | 66/100 [00:12<00:06,  5.18it/s]\u001b[A\n",
            " 67%|██████▋   | 67/100 [00:12<00:06,  5.05it/s]\u001b[A\n",
            " 68%|██████▊   | 68/100 [00:13<00:06,  5.23it/s]\u001b[A\n",
            " 69%|██████▉   | 69/100 [00:13<00:05,  5.17it/s]\u001b[A\n",
            " 70%|███████   | 70/100 [00:13<00:05,  5.17it/s]\u001b[A\n",
            " 71%|███████   | 71/100 [00:13<00:06,  4.50it/s]\u001b[A\n",
            " 72%|███████▏  | 72/100 [00:14<00:07,  3.71it/s]\u001b[A\n",
            " 73%|███████▎  | 73/100 [00:14<00:06,  4.21it/s]\u001b[A\n",
            " 74%|███████▍  | 74/100 [00:14<00:05,  4.52it/s]\u001b[A\n",
            " 75%|███████▌  | 75/100 [00:14<00:05,  4.32it/s]\u001b[A\n",
            " 76%|███████▌  | 76/100 [00:14<00:05,  4.50it/s]\u001b[A\n",
            " 77%|███████▋  | 77/100 [00:15<00:04,  4.76it/s]\u001b[A\n",
            " 78%|███████▊  | 78/100 [00:15<00:04,  5.14it/s]\u001b[A\n",
            " 79%|███████▉  | 79/100 [00:15<00:04,  5.17it/s]\u001b[A\n",
            " 80%|████████  | 80/100 [00:15<00:03,  5.18it/s]\u001b[A\n",
            " 81%|████████  | 81/100 [00:15<00:03,  4.99it/s]\u001b[A\n",
            " 82%|████████▏ | 82/100 [00:16<00:03,  4.58it/s]\u001b[A\n",
            " 83%|████████▎ | 83/100 [00:16<00:04,  4.09it/s]\u001b[A\n",
            " 84%|████████▍ | 84/100 [00:16<00:04,  3.63it/s]\u001b[A\n",
            " 85%|████████▌ | 85/100 [00:16<00:03,  3.94it/s]\u001b[A\n",
            " 86%|████████▌ | 86/100 [00:17<00:03,  4.19it/s]\u001b[A\n",
            " 87%|████████▋ | 87/100 [00:17<00:03,  3.99it/s]\u001b[A\n",
            " 88%|████████▊ | 88/100 [00:17<00:02,  4.16it/s]\u001b[A\n",
            " 89%|████████▉ | 89/100 [00:17<00:02,  4.31it/s]\u001b[A\n",
            " 90%|█████████ | 90/100 [00:18<00:02,  4.73it/s]\u001b[A\n",
            " 91%|█████████ | 91/100 [00:18<00:01,  4.56it/s]\u001b[A\n",
            " 92%|█████████▏| 92/100 [00:18<00:01,  5.05it/s]\u001b[A\n",
            " 93%|█████████▎| 93/100 [00:18<00:01,  5.26it/s]\u001b[A\n",
            " 94%|█████████▍| 94/100 [00:18<00:01,  5.19it/s]\u001b[A\n",
            " 95%|█████████▌| 95/100 [00:19<00:01,  4.37it/s]\u001b[A\n",
            " 96%|█████████▌| 96/100 [00:19<00:00,  4.36it/s]\u001b[A\n",
            " 97%|█████████▋| 97/100 [00:19<00:00,  4.79it/s]\u001b[A\n",
            " 98%|█████████▊| 98/100 [00:19<00:00,  4.60it/s]\u001b[A\n",
            " 99%|█████████▉| 99/100 [00:19<00:00,  4.65it/s]\u001b[A\n",
            "100%|██████████| 100/100 [00:20<00:00,  4.97it/s]\n",
            " 98%|█████████▊| 43/44 [32:49<00:22, 22.23s/it]"
          ]
        },
        {
          "output_type": "stream",
          "name": "stdout",
          "text": [
            "Computing rand index for ('Autoencoder', 'HDBSCAN', 15, 30)\n"
          ]
        },
        {
          "output_type": "stream",
          "name": "stderr",
          "text": [
            "\n",
            "  0%|          | 0/100 [00:00<?, ?it/s]\u001b[A\n",
            "  1%|          | 1/100 [00:00<00:17,  5.79it/s]\u001b[A\n",
            "  2%|▏         | 2/100 [00:00<00:17,  5.70it/s]\u001b[A\n",
            "  3%|▎         | 3/100 [00:00<00:19,  5.02it/s]\u001b[A\n",
            "  4%|▍         | 4/100 [00:00<00:17,  5.54it/s]\u001b[A\n",
            "  5%|▌         | 5/100 [00:00<00:18,  5.10it/s]\u001b[A\n",
            "  6%|▌         | 6/100 [00:01<00:17,  5.51it/s]\u001b[A\n",
            "  7%|▋         | 7/100 [00:01<00:17,  5.38it/s]\u001b[A\n",
            "  8%|▊         | 8/100 [00:01<00:17,  5.27it/s]\u001b[A\n",
            "  9%|▉         | 9/100 [00:01<00:17,  5.24it/s]\u001b[A\n",
            " 10%|█         | 10/100 [00:01<00:17,  5.28it/s]\u001b[A\n",
            " 11%|█         | 11/100 [00:02<00:17,  5.05it/s]\u001b[A\n",
            " 12%|█▏        | 12/100 [00:02<00:19,  4.47it/s]\u001b[A\n",
            " 13%|█▎        | 13/100 [00:02<00:19,  4.39it/s]\u001b[A\n",
            " 14%|█▍        | 14/100 [00:02<00:22,  3.85it/s]\u001b[A\n",
            " 15%|█▌        | 15/100 [00:03<00:20,  4.09it/s]\u001b[A\n",
            " 16%|█▌        | 16/100 [00:03<00:18,  4.60it/s]\u001b[A\n",
            " 17%|█▋        | 17/100 [00:03<00:16,  5.03it/s]\u001b[A\n",
            " 18%|█▊        | 18/100 [00:03<00:16,  5.09it/s]\u001b[A\n",
            " 19%|█▉        | 19/100 [00:03<00:15,  5.08it/s]\u001b[A\n",
            " 20%|██        | 20/100 [00:04<00:15,  5.13it/s]\u001b[A\n",
            " 21%|██        | 21/100 [00:04<00:15,  5.17it/s]\u001b[A\n",
            " 22%|██▏       | 22/100 [00:04<00:15,  5.19it/s]\u001b[A\n",
            " 23%|██▎       | 23/100 [00:04<00:14,  5.21it/s]\u001b[A\n",
            " 24%|██▍       | 24/100 [00:04<00:14,  5.16it/s]\u001b[A\n",
            " 25%|██▌       | 25/100 [00:05<00:14,  5.20it/s]\u001b[A\n",
            " 26%|██▌       | 26/100 [00:05<00:14,  5.20it/s]\u001b[A\n",
            " 27%|██▋       | 27/100 [00:05<00:13,  5.22it/s]\u001b[A\n",
            " 28%|██▊       | 28/100 [00:05<00:13,  5.23it/s]\u001b[A\n",
            " 29%|██▉       | 29/100 [00:05<00:13,  5.21it/s]\u001b[A\n",
            " 30%|███       | 30/100 [00:05<00:13,  5.19it/s]\u001b[A\n",
            " 31%|███       | 31/100 [00:06<00:13,  5.20it/s]\u001b[A\n",
            " 32%|███▏      | 32/100 [00:06<00:13,  5.22it/s]\u001b[A\n",
            " 33%|███▎      | 33/100 [00:06<00:12,  5.22it/s]\u001b[A\n",
            " 34%|███▍      | 34/100 [00:06<00:12,  5.21it/s]\u001b[A\n",
            " 35%|███▌      | 35/100 [00:06<00:12,  5.20it/s]\u001b[A\n",
            " 36%|███▌      | 36/100 [00:07<00:12,  5.21it/s]\u001b[A\n",
            " 37%|███▋      | 37/100 [00:07<00:12,  5.21it/s]\u001b[A\n",
            " 38%|███▊      | 38/100 [00:07<00:11,  5.22it/s]\u001b[A\n",
            " 39%|███▉      | 39/100 [00:07<00:11,  5.20it/s]\u001b[A\n",
            " 40%|████      | 40/100 [00:07<00:11,  5.19it/s]\u001b[A\n",
            " 41%|████      | 41/100 [00:08<00:11,  5.19it/s]\u001b[A\n",
            " 42%|████▏     | 42/100 [00:08<00:11,  5.20it/s]\u001b[A\n",
            " 43%|████▎     | 43/100 [00:08<00:10,  5.21it/s]\u001b[A\n",
            " 44%|████▍     | 44/100 [00:08<00:10,  5.20it/s]\u001b[A\n",
            " 45%|████▌     | 45/100 [00:08<00:10,  5.20it/s]\u001b[A\n",
            " 46%|████▌     | 46/100 [00:09<00:10,  5.20it/s]\u001b[A\n",
            " 47%|████▋     | 47/100 [00:09<00:10,  5.20it/s]\u001b[A\n",
            " 48%|████▊     | 48/100 [00:09<00:09,  5.20it/s]\u001b[A\n",
            " 49%|████▉     | 49/100 [00:09<00:09,  5.20it/s]\u001b[A\n",
            " 50%|█████     | 50/100 [00:09<00:09,  5.19it/s]\u001b[A\n",
            " 51%|█████     | 51/100 [00:10<00:09,  5.18it/s]\u001b[A\n",
            " 52%|█████▏    | 52/100 [00:10<00:09,  5.19it/s]\u001b[A\n",
            " 53%|█████▎    | 53/100 [00:10<00:09,  5.20it/s]\u001b[A\n",
            " 54%|█████▍    | 54/100 [00:10<00:08,  5.20it/s]\u001b[A\n",
            " 55%|█████▌    | 55/100 [00:10<00:08,  5.20it/s]\u001b[A\n",
            " 56%|█████▌    | 56/100 [00:10<00:08,  5.19it/s]\u001b[A\n",
            " 57%|█████▋    | 57/100 [00:11<00:08,  5.19it/s]\u001b[A\n",
            " 58%|█████▊    | 58/100 [00:11<00:08,  5.20it/s]\u001b[A\n",
            " 59%|█████▉    | 59/100 [00:11<00:07,  5.19it/s]\u001b[A\n",
            " 60%|██████    | 60/100 [00:11<00:07,  5.20it/s]\u001b[A\n",
            " 61%|██████    | 61/100 [00:11<00:07,  5.19it/s]\u001b[A\n",
            " 62%|██████▏   | 62/100 [00:12<00:07,  5.19it/s]\u001b[A\n",
            " 63%|██████▎   | 63/100 [00:12<00:07,  5.20it/s]\u001b[A\n",
            " 64%|██████▍   | 64/100 [00:12<00:06,  5.19it/s]\u001b[A\n",
            " 65%|██████▌   | 65/100 [00:12<00:06,  5.20it/s]\u001b[A\n",
            " 66%|██████▌   | 66/100 [00:12<00:06,  5.20it/s]\u001b[A\n",
            " 67%|██████▋   | 67/100 [00:13<00:06,  5.19it/s]\u001b[A\n",
            " 68%|██████▊   | 68/100 [00:13<00:06,  5.19it/s]\u001b[A\n",
            " 69%|██████▉   | 69/100 [00:13<00:05,  5.20it/s]\u001b[A\n",
            " 70%|███████   | 70/100 [00:13<00:05,  5.20it/s]\u001b[A\n",
            " 71%|███████   | 71/100 [00:13<00:05,  5.20it/s]\u001b[A\n",
            " 72%|███████▏  | 72/100 [00:14<00:05,  5.19it/s]\u001b[A\n",
            " 73%|███████▎  | 73/100 [00:14<00:05,  5.19it/s]\u001b[A\n",
            " 74%|███████▍  | 74/100 [00:14<00:04,  5.20it/s]\u001b[A\n",
            " 75%|███████▌  | 75/100 [00:14<00:04,  5.19it/s]\u001b[A\n",
            " 76%|███████▌  | 76/100 [00:14<00:04,  5.20it/s]\u001b[A\n",
            " 77%|███████▋  | 77/100 [00:15<00:04,  5.19it/s]\u001b[A\n",
            " 78%|███████▊  | 78/100 [00:15<00:04,  5.19it/s]\u001b[A\n",
            " 79%|███████▉  | 79/100 [00:15<00:04,  5.20it/s]\u001b[A\n",
            " 80%|████████  | 80/100 [00:15<00:03,  5.20it/s]\u001b[A\n",
            " 81%|████████  | 81/100 [00:15<00:03,  5.20it/s]\u001b[A\n",
            " 82%|████████▏ | 82/100 [00:15<00:03,  5.20it/s]\u001b[A\n",
            " 83%|████████▎ | 83/100 [00:16<00:03,  5.19it/s]\u001b[A\n",
            " 84%|████████▍ | 84/100 [00:16<00:03,  5.20it/s]\u001b[A\n",
            " 85%|████████▌ | 85/100 [00:16<00:02,  5.19it/s]\u001b[A\n",
            " 86%|████████▌ | 86/100 [00:16<00:02,  5.19it/s]\u001b[A\n",
            " 87%|████████▋ | 87/100 [00:16<00:02,  5.20it/s]\u001b[A\n",
            " 88%|████████▊ | 88/100 [00:17<00:02,  5.19it/s]\u001b[A\n",
            " 89%|████████▉ | 89/100 [00:17<00:02,  5.19it/s]\u001b[A\n",
            " 90%|█████████ | 90/100 [00:17<00:01,  5.20it/s]\u001b[A\n",
            " 91%|█████████ | 91/100 [00:17<00:01,  5.19it/s]\u001b[A\n",
            " 92%|█████████▏| 92/100 [00:17<00:01,  5.19it/s]\u001b[A\n",
            " 93%|█████████▎| 93/100 [00:18<00:01,  5.20it/s]\u001b[A\n",
            " 94%|█████████▍| 94/100 [00:18<00:01,  5.19it/s]\u001b[A\n",
            " 95%|█████████▌| 95/100 [00:18<00:00,  5.19it/s]\u001b[A\n",
            " 96%|█████████▌| 96/100 [00:18<00:00,  5.20it/s]\u001b[A\n",
            " 97%|█████████▋| 97/100 [00:18<00:00,  5.20it/s]\u001b[A\n",
            " 98%|█████████▊| 98/100 [00:19<00:00,  5.20it/s]\u001b[A\n",
            " 99%|█████████▉| 99/100 [00:19<00:00,  5.20it/s]\u001b[A\n",
            "100%|██████████| 100/100 [00:19<00:00,  5.14it/s]\n",
            "100%|██████████| 44/44 [33:10<00:00, 45.24s/it]\n"
          ]
        }
      ],
      "source": [
        "# KMeans very quick (<2 seconds)\n",
        "# Agglomerative ok (~20 seconds)\n",
        "# HDBSCAN slow (~3 minutes)\n",
        "# Approximately 30 minutes to run\n",
        "\n",
        "# Initialize rand index\n",
        "rand_index_all = []\n",
        "\n",
        "# Compute rand index for each module and keep track of progress\n",
        "\n",
        "for module in tqdm(modules):\n",
        "    print(f\"Computing rand index for {module}\")\n",
        "\n",
        "    # Perform dimensionality reduction\n",
        "    if (module[0] == \"SVD\"):\n",
        "        f_all_reduced = svd_reduce(f_all, n_components = 50)\n",
        "    elif (module[0] == \"UMAP\"):\n",
        "        f_all_reduced = umap_reduce(f_all, n_components = 50)\n",
        "    elif (module[0] == \"Autoencoder\"):\n",
        "        f_all_reduced = Autoencoder(50).fit_transform(f_all)\n",
        "    elif (module[0] == \"None\"):\n",
        "        f_all_reduced = f_all\n",
        "    else:\n",
        "        raise ValueError(\"Invalid dimensionality reduction method. Must be either 'SVD', 'UMAP', or 'None'.\")\n",
        "\n",
        "    # Perform clustering\n",
        "    if (module[1] == \"KMeans\"):\n",
        "        rand_index = compute_rand_index(f_all_reduced, y_all, \"kmeans\")\n",
        "        rand_index_all.append(rand_index)\n",
        "    elif (module[1] == \"Agglomerative\"):\n",
        "        rand_index = compute_rand_index(f_all_reduced, y_all, \"agglomerative\")\n",
        "        rand_index_all.append(rand_index)\n",
        "    elif (module[1] == \"HDBSCAN\"):\n",
        "        rand_index = compute_rand_index(f_all_reduced, y_all, \"HDBSCAN\", module[2], module[3])\n",
        "        rand_index_all.append(rand_index)\n"
      ]
    },
    {
      "cell_type": "code",
      "execution_count": 15,
      "metadata": {
        "colab": {
          "base_uri": "https://localhost:8080/"
        },
        "id": "mDCi1VVDlufC",
        "outputId": "43454109-2b48-4543-a877-b21422504951"
      },
      "outputs": [
        {
          "output_type": "execute_result",
          "data": {
            "text/plain": [
              "{('None', 'KMeans'): 0.7074858728740616,\n",
              " ('None', 'Agglomerative'): 0.7104411881564593,\n",
              " ('None', 'HDBSCAN', 5, 10): 0.41249915523165964,\n",
              " ('None', 'HDBSCAN', 5, 20): 0.20358404572368982,\n",
              " ('None', 'HDBSCAN', 5, 30): 0.20358404572368982,\n",
              " ('None', 'HDBSCAN', 10, 10): 0.20358404572368982,\n",
              " ('None', 'HDBSCAN', 10, 20): 0.20358404572368982,\n",
              " ('None', 'HDBSCAN', 10, 30): 0.20358404572368982,\n",
              " ('None', 'HDBSCAN', 15, 10): 0.20358404572368982,\n",
              " ('None', 'HDBSCAN', 15, 20): 0.20358404572368982,\n",
              " ('None', 'HDBSCAN', 15, 30): 0.20358404572368982,\n",
              " ('SVD', 'KMeans'): 0.7207804099892835,\n",
              " ('SVD', 'Agglomerative'): 0.6812510443564648,\n",
              " ('SVD', 'HDBSCAN', 5, 10): 0.42891506494876064,\n",
              " ('SVD', 'HDBSCAN', 5, 20): 0.20358404572368982,\n",
              " ('SVD', 'HDBSCAN', 5, 30): 0.20358404572368982,\n",
              " ('SVD', 'HDBSCAN', 10, 10): 0.20358404572368982,\n",
              " ('SVD', 'HDBSCAN', 10, 20): 0.20358404572368982,\n",
              " ('SVD', 'HDBSCAN', 10, 30): 0.20358404572368982,\n",
              " ('SVD', 'HDBSCAN', 15, 10): 0.20358404572368982,\n",
              " ('SVD', 'HDBSCAN', 15, 20): 0.20358404572368982,\n",
              " ('SVD', 'HDBSCAN', 15, 30): 0.20358404572368982,\n",
              " ('UMAP', 'KMeans'): 0.8044226500401405,\n",
              " ('UMAP', 'Agglomerative'): 0.7775885001592991,\n",
              " ('UMAP', 'HDBSCAN', 5, 10): 0.7685860546013696,\n",
              " ('UMAP', 'HDBSCAN', 5, 20): 0.7544422189594979,\n",
              " ('UMAP', 'HDBSCAN', 5, 30): 0.7413813206309882,\n",
              " ('UMAP', 'HDBSCAN', 10, 10): 0.7730706419422468,\n",
              " ('UMAP', 'HDBSCAN', 10, 20): 0.723614227161363,\n",
              " ('UMAP', 'HDBSCAN', 10, 30): 0.7962044465634824,\n",
              " ('UMAP', 'HDBSCAN', 15, 10): 0.7360756555959311,\n",
              " ('UMAP', 'HDBSCAN', 15, 20): 0.757539678119126,\n",
              " ('UMAP', 'HDBSCAN', 15, 30): 0.7727918498235826,\n",
              " ('Autoencoder', 'KMeans'): 0.7224034049177028,\n",
              " ('Autoencoder', 'Agglomerative'): 0.7142830831705066,\n",
              " ('Autoencoder', 'HDBSCAN', 5, 10): 0.42892976948778444,\n",
              " ('Autoencoder', 'HDBSCAN', 5, 20): 0.20358404572368982,\n",
              " ('Autoencoder', 'HDBSCAN', 5, 30): 0.20358404572368982,\n",
              " ('Autoencoder', 'HDBSCAN', 10, 10): 0.20358404572368982,\n",
              " ('Autoencoder', 'HDBSCAN', 10, 20): 0.20358404572368982,\n",
              " ('Autoencoder', 'HDBSCAN', 10, 30): 0.20358404572368982,\n",
              " ('Autoencoder', 'HDBSCAN', 15, 10): 0.20358404572368982,\n",
              " ('Autoencoder', 'HDBSCAN', 15, 20): 0.20358404572368982,\n",
              " ('Autoencoder', 'HDBSCAN', 15, 30): 0.20358404572368982}"
            ]
          },
          "metadata": {},
          "execution_count": 15
        }
      ],
      "source": [
        "# Create dictionary of modules and rand_index\n",
        "results_dict = {}\n",
        "for i in range(len(modules)):\n",
        "    results_dict[modules[i]] = rand_index_all[i]\n",
        "results_dict"
      ]
    },
    {
      "cell_type": "code",
      "execution_count": 16,
      "metadata": {
        "id": "H3ffiXM4l5ST",
        "colab": {
          "base_uri": "https://localhost:8080/"
        },
        "outputId": "99c906ef-1b3d-4a5f-c433-e10f6bdd19e6"
      },
      "outputs": [
        {
          "output_type": "execute_result",
          "data": {
            "text/plain": [
              "('UMAP', 'KMeans')"
            ]
          },
          "metadata": {},
          "execution_count": 16
        }
      ],
      "source": [
        "# Get module with highest rand index\n",
        "max_key = max(results_dict, key=results_dict.get)\n",
        "max_key"
      ]
    },
    {
      "cell_type": "code",
      "source": [
        "# Sort results\n",
        "sorted_results = sorted(results_dict.items(), key=lambda x: x[1], reverse=True)\n",
        "sorted_results"
      ],
      "metadata": {
        "colab": {
          "base_uri": "https://localhost:8080/"
        },
        "id": "KyG-8Uj-IiGB",
        "outputId": "6b23d1fe-d508-4214-fe7e-6790d530c382"
      },
      "execution_count": 17,
      "outputs": [
        {
          "output_type": "execute_result",
          "data": {
            "text/plain": [
              "[(('UMAP', 'KMeans'), 0.8044226500401405),\n",
              " (('UMAP', 'HDBSCAN', 10, 30), 0.7962044465634824),\n",
              " (('UMAP', 'Agglomerative'), 0.7775885001592991),\n",
              " (('UMAP', 'HDBSCAN', 10, 10), 0.7730706419422468),\n",
              " (('UMAP', 'HDBSCAN', 15, 30), 0.7727918498235826),\n",
              " (('UMAP', 'HDBSCAN', 5, 10), 0.7685860546013696),\n",
              " (('UMAP', 'HDBSCAN', 15, 20), 0.757539678119126),\n",
              " (('UMAP', 'HDBSCAN', 5, 20), 0.7544422189594979),\n",
              " (('UMAP', 'HDBSCAN', 5, 30), 0.7413813206309882),\n",
              " (('UMAP', 'HDBSCAN', 15, 10), 0.7360756555959311),\n",
              " (('UMAP', 'HDBSCAN', 10, 20), 0.723614227161363),\n",
              " (('Autoencoder', 'KMeans'), 0.7224034049177028),\n",
              " (('SVD', 'KMeans'), 0.7207804099892835),\n",
              " (('Autoencoder', 'Agglomerative'), 0.7142830831705066),\n",
              " (('None', 'Agglomerative'), 0.7104411881564593),\n",
              " (('None', 'KMeans'), 0.7074858728740616),\n",
              " (('SVD', 'Agglomerative'), 0.6812510443564648),\n",
              " (('Autoencoder', 'HDBSCAN', 5, 10), 0.42892976948778444),\n",
              " (('SVD', 'HDBSCAN', 5, 10), 0.42891506494876064),\n",
              " (('None', 'HDBSCAN', 5, 10), 0.41249915523165964),\n",
              " (('None', 'HDBSCAN', 5, 20), 0.20358404572368982),\n",
              " (('None', 'HDBSCAN', 5, 30), 0.20358404572368982),\n",
              " (('None', 'HDBSCAN', 10, 10), 0.20358404572368982),\n",
              " (('None', 'HDBSCAN', 10, 20), 0.20358404572368982),\n",
              " (('None', 'HDBSCAN', 10, 30), 0.20358404572368982),\n",
              " (('None', 'HDBSCAN', 15, 10), 0.20358404572368982),\n",
              " (('None', 'HDBSCAN', 15, 20), 0.20358404572368982),\n",
              " (('None', 'HDBSCAN', 15, 30), 0.20358404572368982),\n",
              " (('SVD', 'HDBSCAN', 5, 20), 0.20358404572368982),\n",
              " (('SVD', 'HDBSCAN', 5, 30), 0.20358404572368982),\n",
              " (('SVD', 'HDBSCAN', 10, 10), 0.20358404572368982),\n",
              " (('SVD', 'HDBSCAN', 10, 20), 0.20358404572368982),\n",
              " (('SVD', 'HDBSCAN', 10, 30), 0.20358404572368982),\n",
              " (('SVD', 'HDBSCAN', 15, 10), 0.20358404572368982),\n",
              " (('SVD', 'HDBSCAN', 15, 20), 0.20358404572368982),\n",
              " (('SVD', 'HDBSCAN', 15, 30), 0.20358404572368982),\n",
              " (('Autoencoder', 'HDBSCAN', 5, 20), 0.20358404572368982),\n",
              " (('Autoencoder', 'HDBSCAN', 5, 30), 0.20358404572368982),\n",
              " (('Autoencoder', 'HDBSCAN', 10, 10), 0.20358404572368982),\n",
              " (('Autoencoder', 'HDBSCAN', 10, 20), 0.20358404572368982),\n",
              " (('Autoencoder', 'HDBSCAN', 10, 30), 0.20358404572368982),\n",
              " (('Autoencoder', 'HDBSCAN', 15, 10), 0.20358404572368982),\n",
              " (('Autoencoder', 'HDBSCAN', 15, 20), 0.20358404572368982),\n",
              " (('Autoencoder', 'HDBSCAN', 15, 30), 0.20358404572368982)]"
            ]
          },
          "metadata": {},
          "execution_count": 17
        }
      ]
    },
    {
      "cell_type": "markdown",
      "metadata": {
        "id": "lqbCuTdMNuWz"
      },
      "source": [
        "### Question 25"
      ]
    },
    {
      "cell_type": "code",
      "execution_count": null,
      "metadata": {
        "id": "cZurEdyoNvpk"
      },
      "outputs": [],
      "source": [
        "class MLP(torch.nn.Module):\n",
        "    def __init__(self, num_features):\n",
        "        super().__init__()\n",
        "        self.model = nn.Sequential(\n",
        "            nn.Linear(num_features, 1280),\n",
        "            nn.ReLU(True),\n",
        "            nn.Linear(1280, 640),\n",
        "            nn.ReLU(True),\n",
        "            nn.Linear(640, 5),\n",
        "            nn.LogSoftmax(dim=1)\n",
        "        )\n",
        "        self.cuda()\n",
        "\n",
        "\n",
        "    def forward(self, X):\n",
        "        return self.model(X)\n",
        "\n",
        "    def train(self, X, y):\n",
        "        X = torch.tensor(X, dtype=torch.float32, device='cuda')\n",
        "        y = torch.tensor(y, dtype=torch.int64, device='cuda')\n",
        "\n",
        "        self.model.train()\n",
        "\n",
        "        criterion = nn.NLLLoss()\n",
        "        optimizer = torch.optim.Adam(self.parameters(), lr=1e-3, weight_decay=1e-5)\n",
        "\n",
        "        dataset = TensorDataset(X, y)\n",
        "        dataloader = DataLoader(dataset, batch_size=128, shuffle=True)\n",
        "\n",
        "        for epoch in tqdm(range(100)):\n",
        "            for (X_, y_) in dataloader:\n",
        "                optimizer.zero_grad()\n",
        "                loss = criterion(self(X_), y_)\n",
        "                loss.backward()\n",
        "                optimizer.step()\n",
        "            # Print loss every 10 epochs\n",
        "            if epoch % 10 == 0:\n",
        "                print(f\"Epoch {epoch}, Loss: {loss.item()}\")\n",
        "        return self\n",
        "\n",
        "    def eval(self, X_test, y_test):\n",
        "        X_test = torch.tensor(X_test, dtype=torch.float32, device='cuda')\n",
        "        y_test = torch.tensor(y_test, dtype=torch.int64, device='cuda')\n",
        "\n",
        "        self.model.eval()\n",
        "\n",
        "        with torch.no_grad():\n",
        "            y_pred = self(X_test)\n",
        "            _, y_pred = torch.max(y_pred, 1)\n",
        "            accuracy = torch.sum(y_pred == y_test).item() / len(y_test)\n",
        "        return accuracy\n"
      ]
    },
    {
      "cell_type": "code",
      "execution_count": null,
      "metadata": {
        "colab": {
          "base_uri": "https://localhost:8080/"
        },
        "id": "q1oPrwR_PBEx",
        "outputId": "2e7729c1-1a62-458f-ac1f-c3c04cd4e262"
      },
      "outputs": [
        {
          "name": "stderr",
          "output_type": "stream",
          "text": [
            "  3%|▎         | 3/100 [00:00<00:20,  4.69it/s]"
          ]
        },
        {
          "name": "stdout",
          "output_type": "stream",
          "text": [
            "Epoch 0, Loss: 0.4495242238044739\n"
          ]
        },
        {
          "name": "stderr",
          "output_type": "stream",
          "text": [
            " 13%|█▎        | 13/100 [00:01<00:08,  9.80it/s]"
          ]
        },
        {
          "name": "stdout",
          "output_type": "stream",
          "text": [
            "Epoch 10, Loss: 0.17565816640853882\n"
          ]
        },
        {
          "name": "stderr",
          "output_type": "stream",
          "text": [
            " 23%|██▎       | 23/100 [00:02<00:07, 10.69it/s]"
          ]
        },
        {
          "name": "stdout",
          "output_type": "stream",
          "text": [
            "Epoch 20, Loss: 0.001673591323196888\n"
          ]
        },
        {
          "name": "stderr",
          "output_type": "stream",
          "text": [
            " 33%|███▎      | 33/100 [00:03<00:06, 10.86it/s]"
          ]
        },
        {
          "name": "stdout",
          "output_type": "stream",
          "text": [
            "Epoch 30, Loss: 0.00023921734828036278\n"
          ]
        },
        {
          "name": "stderr",
          "output_type": "stream",
          "text": [
            " 43%|████▎     | 43/100 [00:04<00:05, 10.94it/s]"
          ]
        },
        {
          "name": "stdout",
          "output_type": "stream",
          "text": [
            "Epoch 40, Loss: 0.00013989247963763773\n"
          ]
        },
        {
          "name": "stderr",
          "output_type": "stream",
          "text": [
            " 53%|█████▎    | 53/100 [00:05<00:04, 10.94it/s]"
          ]
        },
        {
          "name": "stdout",
          "output_type": "stream",
          "text": [
            "Epoch 50, Loss: 4.728128624265082e-05\n"
          ]
        },
        {
          "name": "stderr",
          "output_type": "stream",
          "text": [
            " 63%|██████▎   | 63/100 [00:06<00:03, 10.85it/s]"
          ]
        },
        {
          "name": "stdout",
          "output_type": "stream",
          "text": [
            "Epoch 60, Loss: 1.429455187462736e-05\n"
          ]
        },
        {
          "name": "stderr",
          "output_type": "stream",
          "text": [
            " 73%|███████▎  | 73/100 [00:07<00:02, 10.73it/s]"
          ]
        },
        {
          "name": "stdout",
          "output_type": "stream",
          "text": [
            "Epoch 70, Loss: 0.018813736736774445\n"
          ]
        },
        {
          "name": "stderr",
          "output_type": "stream",
          "text": [
            " 82%|████████▏ | 82/100 [00:08<00:01,  9.57it/s]"
          ]
        },
        {
          "name": "stdout",
          "output_type": "stream",
          "text": [
            "Epoch 80, Loss: 5.4297710448736325e-05\n"
          ]
        },
        {
          "name": "stderr",
          "output_type": "stream",
          "text": [
            " 92%|█████████▏| 92/100 [00:09<00:00,  8.58it/s]"
          ]
        },
        {
          "name": "stdout",
          "output_type": "stream",
          "text": [
            "Epoch 90, Loss: 4.0997430915012956e-05\n"
          ]
        },
        {
          "name": "stderr",
          "output_type": "stream",
          "text": [
            "100%|██████████| 100/100 [00:10<00:00,  9.88it/s]\n"
          ]
        },
        {
          "data": {
            "text/plain": [
              "0.9997275204359674"
            ]
          },
          "execution_count": 39,
          "metadata": {},
          "output_type": "execute_result"
        }
      ],
      "source": [
        "# Run MLP classifier (very fast even on original dataset)\n",
        "mlp = MLP(num_features)\n",
        "mlp.train(f_all, y_all)\n",
        "mlp.eval(f_all, y_all)"
      ]
    }
  ],
  "metadata": {
    "accelerator": "GPU",
    "colab": {
      "gpuType": "T4",
      "provenance": []
    },
    "kernelspec": {
      "display_name": "Python 3",
      "name": "python3"
    },
    "language_info": {
      "name": "python"
    },
    "widgets": {
      "application/vnd.jupyter.widget-state+json": {
        "035e5480392841d6a4b76ee3bb12916f": {
          "model_module": "@jupyter-widgets/controls",
          "model_name": "HBoxModel",
          "model_module_version": "1.5.0",
          "state": {
            "_dom_classes": [],
            "_model_module": "@jupyter-widgets/controls",
            "_model_module_version": "1.5.0",
            "_model_name": "HBoxModel",
            "_view_count": null,
            "_view_module": "@jupyter-widgets/controls",
            "_view_module_version": "1.5.0",
            "_view_name": "HBoxView",
            "box_style": "",
            "children": [
              "IPY_MODEL_c39b3bb992d84bc7ab4bf46b6dbd7ca4",
              "IPY_MODEL_b4bb40b60cb84e3d9743a50c9da09e7b",
              "IPY_MODEL_38aebdf28b164f77b1fba2b9a82a212b"
            ],
            "layout": "IPY_MODEL_9cedb51b05644e338128c706aea2ce19"
          }
        },
        "c39b3bb992d84bc7ab4bf46b6dbd7ca4": {
          "model_module": "@jupyter-widgets/controls",
          "model_name": "HTMLModel",
          "model_module_version": "1.5.0",
          "state": {
            "_dom_classes": [],
            "_model_module": "@jupyter-widgets/controls",
            "_model_module_version": "1.5.0",
            "_model_name": "HTMLModel",
            "_view_count": null,
            "_view_module": "@jupyter-widgets/controls",
            "_view_module_version": "1.5.0",
            "_view_name": "HTMLView",
            "description": "",
            "description_tooltip": null,
            "layout": "IPY_MODEL_d88e503967fb4c749867c39ca2293d9e",
            "placeholder": "​",
            "style": "IPY_MODEL_9d732824744743268d7202031bad0ff8",
            "value": "Dl Completed...: 100%"
          }
        },
        "b4bb40b60cb84e3d9743a50c9da09e7b": {
          "model_module": "@jupyter-widgets/controls",
          "model_name": "FloatProgressModel",
          "model_module_version": "1.5.0",
          "state": {
            "_dom_classes": [],
            "_model_module": "@jupyter-widgets/controls",
            "_model_module_version": "1.5.0",
            "_model_name": "FloatProgressModel",
            "_view_count": null,
            "_view_module": "@jupyter-widgets/controls",
            "_view_module_version": "1.5.0",
            "_view_name": "ProgressView",
            "bar_style": "success",
            "description": "",
            "description_tooltip": null,
            "layout": "IPY_MODEL_ba3120698b454ede87b3f7516a421d0f",
            "max": 5,
            "min": 0,
            "orientation": "horizontal",
            "style": "IPY_MODEL_1c3def42d3a94ccf9d906d74fccc21c1",
            "value": 5
          }
        },
        "38aebdf28b164f77b1fba2b9a82a212b": {
          "model_module": "@jupyter-widgets/controls",
          "model_name": "HTMLModel",
          "model_module_version": "1.5.0",
          "state": {
            "_dom_classes": [],
            "_model_module": "@jupyter-widgets/controls",
            "_model_module_version": "1.5.0",
            "_model_name": "HTMLModel",
            "_view_count": null,
            "_view_module": "@jupyter-widgets/controls",
            "_view_module_version": "1.5.0",
            "_view_name": "HTMLView",
            "description": "",
            "description_tooltip": null,
            "layout": "IPY_MODEL_ec19af5dc82345fe838f4d7785e58bfd",
            "placeholder": "​",
            "style": "IPY_MODEL_39291e2700324a21b2de05a14f3b871f",
            "value": " 5/5 [00:04&lt;00:00,  1.20 file/s]"
          }
        },
        "9cedb51b05644e338128c706aea2ce19": {
          "model_module": "@jupyter-widgets/base",
          "model_name": "LayoutModel",
          "model_module_version": "1.2.0",
          "state": {
            "_model_module": "@jupyter-widgets/base",
            "_model_module_version": "1.2.0",
            "_model_name": "LayoutModel",
            "_view_count": null,
            "_view_module": "@jupyter-widgets/base",
            "_view_module_version": "1.2.0",
            "_view_name": "LayoutView",
            "align_content": null,
            "align_items": null,
            "align_self": null,
            "border": null,
            "bottom": null,
            "display": null,
            "flex": null,
            "flex_flow": null,
            "grid_area": null,
            "grid_auto_columns": null,
            "grid_auto_flow": null,
            "grid_auto_rows": null,
            "grid_column": null,
            "grid_gap": null,
            "grid_row": null,
            "grid_template_areas": null,
            "grid_template_columns": null,
            "grid_template_rows": null,
            "height": null,
            "justify_content": null,
            "justify_items": null,
            "left": null,
            "margin": null,
            "max_height": null,
            "max_width": null,
            "min_height": null,
            "min_width": null,
            "object_fit": null,
            "object_position": null,
            "order": null,
            "overflow": null,
            "overflow_x": null,
            "overflow_y": null,
            "padding": null,
            "right": null,
            "top": null,
            "visibility": null,
            "width": null
          }
        },
        "d88e503967fb4c749867c39ca2293d9e": {
          "model_module": "@jupyter-widgets/base",
          "model_name": "LayoutModel",
          "model_module_version": "1.2.0",
          "state": {
            "_model_module": "@jupyter-widgets/base",
            "_model_module_version": "1.2.0",
            "_model_name": "LayoutModel",
            "_view_count": null,
            "_view_module": "@jupyter-widgets/base",
            "_view_module_version": "1.2.0",
            "_view_name": "LayoutView",
            "align_content": null,
            "align_items": null,
            "align_self": null,
            "border": null,
            "bottom": null,
            "display": null,
            "flex": null,
            "flex_flow": null,
            "grid_area": null,
            "grid_auto_columns": null,
            "grid_auto_flow": null,
            "grid_auto_rows": null,
            "grid_column": null,
            "grid_gap": null,
            "grid_row": null,
            "grid_template_areas": null,
            "grid_template_columns": null,
            "grid_template_rows": null,
            "height": null,
            "justify_content": null,
            "justify_items": null,
            "left": null,
            "margin": null,
            "max_height": null,
            "max_width": null,
            "min_height": null,
            "min_width": null,
            "object_fit": null,
            "object_position": null,
            "order": null,
            "overflow": null,
            "overflow_x": null,
            "overflow_y": null,
            "padding": null,
            "right": null,
            "top": null,
            "visibility": null,
            "width": null
          }
        },
        "9d732824744743268d7202031bad0ff8": {
          "model_module": "@jupyter-widgets/controls",
          "model_name": "DescriptionStyleModel",
          "model_module_version": "1.5.0",
          "state": {
            "_model_module": "@jupyter-widgets/controls",
            "_model_module_version": "1.5.0",
            "_model_name": "DescriptionStyleModel",
            "_view_count": null,
            "_view_module": "@jupyter-widgets/base",
            "_view_module_version": "1.2.0",
            "_view_name": "StyleView",
            "description_width": ""
          }
        },
        "ba3120698b454ede87b3f7516a421d0f": {
          "model_module": "@jupyter-widgets/base",
          "model_name": "LayoutModel",
          "model_module_version": "1.2.0",
          "state": {
            "_model_module": "@jupyter-widgets/base",
            "_model_module_version": "1.2.0",
            "_model_name": "LayoutModel",
            "_view_count": null,
            "_view_module": "@jupyter-widgets/base",
            "_view_module_version": "1.2.0",
            "_view_name": "LayoutView",
            "align_content": null,
            "align_items": null,
            "align_self": null,
            "border": null,
            "bottom": null,
            "display": null,
            "flex": null,
            "flex_flow": null,
            "grid_area": null,
            "grid_auto_columns": null,
            "grid_auto_flow": null,
            "grid_auto_rows": null,
            "grid_column": null,
            "grid_gap": null,
            "grid_row": null,
            "grid_template_areas": null,
            "grid_template_columns": null,
            "grid_template_rows": null,
            "height": null,
            "justify_content": null,
            "justify_items": null,
            "left": null,
            "margin": null,
            "max_height": null,
            "max_width": null,
            "min_height": null,
            "min_width": null,
            "object_fit": null,
            "object_position": null,
            "order": null,
            "overflow": null,
            "overflow_x": null,
            "overflow_y": null,
            "padding": null,
            "right": null,
            "top": null,
            "visibility": null,
            "width": null
          }
        },
        "1c3def42d3a94ccf9d906d74fccc21c1": {
          "model_module": "@jupyter-widgets/controls",
          "model_name": "ProgressStyleModel",
          "model_module_version": "1.5.0",
          "state": {
            "_model_module": "@jupyter-widgets/controls",
            "_model_module_version": "1.5.0",
            "_model_name": "ProgressStyleModel",
            "_view_count": null,
            "_view_module": "@jupyter-widgets/base",
            "_view_module_version": "1.2.0",
            "_view_name": "StyleView",
            "bar_color": null,
            "description_width": ""
          }
        },
        "ec19af5dc82345fe838f4d7785e58bfd": {
          "model_module": "@jupyter-widgets/base",
          "model_name": "LayoutModel",
          "model_module_version": "1.2.0",
          "state": {
            "_model_module": "@jupyter-widgets/base",
            "_model_module_version": "1.2.0",
            "_model_name": "LayoutModel",
            "_view_count": null,
            "_view_module": "@jupyter-widgets/base",
            "_view_module_version": "1.2.0",
            "_view_name": "LayoutView",
            "align_content": null,
            "align_items": null,
            "align_self": null,
            "border": null,
            "bottom": null,
            "display": null,
            "flex": null,
            "flex_flow": null,
            "grid_area": null,
            "grid_auto_columns": null,
            "grid_auto_flow": null,
            "grid_auto_rows": null,
            "grid_column": null,
            "grid_gap": null,
            "grid_row": null,
            "grid_template_areas": null,
            "grid_template_columns": null,
            "grid_template_rows": null,
            "height": null,
            "justify_content": null,
            "justify_items": null,
            "left": null,
            "margin": null,
            "max_height": null,
            "max_width": null,
            "min_height": null,
            "min_width": null,
            "object_fit": null,
            "object_position": null,
            "order": null,
            "overflow": null,
            "overflow_x": null,
            "overflow_y": null,
            "padding": null,
            "right": null,
            "top": null,
            "visibility": null,
            "width": null
          }
        },
        "39291e2700324a21b2de05a14f3b871f": {
          "model_module": "@jupyter-widgets/controls",
          "model_name": "DescriptionStyleModel",
          "model_module_version": "1.5.0",
          "state": {
            "_model_module": "@jupyter-widgets/controls",
            "_model_module_version": "1.5.0",
            "_model_name": "DescriptionStyleModel",
            "_view_count": null,
            "_view_module": "@jupyter-widgets/base",
            "_view_module_version": "1.2.0",
            "_view_name": "StyleView",
            "description_width": ""
          }
        }
      }
    }
  },
  "nbformat": 4,
  "nbformat_minor": 0
}