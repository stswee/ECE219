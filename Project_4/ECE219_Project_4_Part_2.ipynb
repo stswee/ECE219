{
  "nbformat": 4,
  "nbformat_minor": 0,
  "metadata": {
    "colab": {
      "provenance": []
    },
    "kernelspec": {
      "name": "python3",
      "display_name": "Python 3"
    },
    "language_info": {
      "name": "python"
    }
  },
  "cells": [
    {
      "cell_type": "markdown",
      "source": [
        "### Preliminaries"
      ],
      "metadata": {
        "id": "1s3wcEK6aQnG"
      }
    },
    {
      "cell_type": "code",
      "execution_count": 1,
      "metadata": {
        "id": "nUbrJuTdHk09"
      },
      "outputs": [],
      "source": [
        "# Import packages\n",
        "import pandas as pd\n",
        "import numpy as np\n",
        "import matplotlib.pyplot as plt\n",
        "import datetime\n",
        "import pytz\n",
        "import json"
      ]
    },
    {
      "cell_type": "code",
      "source": [
        "# Mount Google Drive\n",
        "from google.colab import drive\n",
        "drive.mount('/content/drive')"
      ],
      "metadata": {
        "colab": {
          "base_uri": "https://localhost:8080/"
        },
        "id": "Pjvb25mzDBPF",
        "outputId": "5c45be02-fb09-4458-f35a-e0b22ccf272d"
      },
      "execution_count": 2,
      "outputs": [
        {
          "output_type": "stream",
          "name": "stdout",
          "text": [
            "Mounted at /content/drive\n"
          ]
        }
      ]
    },
    {
      "cell_type": "code",
      "source": [
        "# Access file\n",
        "gohawks = \"/content/drive/MyDrive/ECE_219_Project_4/tweets_#gohawks.txt\"\n",
        "gopatriots = \"/content/drive/MyDrive/ECE_219_Project_4/tweets_#gopatriots.txt\"\n",
        "nfl = \"/content/drive/MyDrive/ECE_219_Project_4/tweets_#nfl.txt\"\n",
        "patriots = \"/content/drive/MyDrive/ECE_219_Project_4/tweets_#patriots.txt\"\n",
        "sb49 = \"/content/drive/MyDrive/ECE_219_Project_4/tweets_#sb49.txt\"\n",
        "superbowl = \"/content/drive/MyDrive/ECE_219_Project_4/tweets_#superbowl.txt\""
      ],
      "metadata": {
        "id": "UIKBL5KMDJO0"
      },
      "execution_count": 3,
      "outputs": []
    },
    {
      "cell_type": "markdown",
      "source": [
        "### Question 9.1"
      ],
      "metadata": {
        "id": "P7NiX2L_aO9P"
      }
    },
    {
      "cell_type": "code",
      "source": [
        "def get_tweet_statistics(filename = str):\n",
        "\n",
        "  # Read in txt file\n",
        "  tweets = []\n",
        "  with open(filename) as f:\n",
        "      for line in f:\n",
        "          tweets.append(line)\n",
        "\n",
        "  # Keep track of hours, followers, and retweets\n",
        "  hours = []\n",
        "  followers = []\n",
        "  retweets = []\n",
        "\n",
        "  # Iterate through each line\n",
        "  for line in tweets:\n",
        "    tweet = json.loads(line)\n",
        "    hours.append(tweet['citation_date'])\n",
        "    followers.append(tweet['author']['followers'])\n",
        "    retweets.append(tweet['metrics']['citations']['total'])\n",
        "\n",
        "  # Get statistics\n",
        "  num_tweets = len(hours)\n",
        "\n",
        "  # Average number of tweets per hour\n",
        "  print(\"Average number of tweets per hour: \", num_tweets / ((max(hours) - min(hours)) / 3600))\n",
        "\n",
        "  # Average number of followers of users posting the tweets per tweet\n",
        "  print(\"Average number of followers of users posting the tweets per tweet: \", sum(followers) / num_tweets)\n",
        "\n",
        "  # Average number of retweets per tweet\n",
        "  print(\"Average number of retweets per tweet: \", sum(retweets) / num_tweets)\n"
      ],
      "metadata": {
        "id": "PK61PTewXq6j"
      },
      "execution_count": 4,
      "outputs": []
    },
    {
      "cell_type": "code",
      "source": [
        "get_tweet_statistics(gohawks)"
      ],
      "metadata": {
        "colab": {
          "base_uri": "https://localhost:8080/"
        },
        "id": "m11ki2xRZWj-",
        "outputId": "5603c9fe-1968-4f3b-b5bb-8e98b927dc68"
      },
      "execution_count": 5,
      "outputs": [
        {
          "output_type": "stream",
          "name": "stdout",
          "text": [
            "Average number of tweets per hour:  292.48785062173687\n",
            "Average number of followers of users posting the tweets per tweet:  2217.9237355281984\n",
            "Average number of retweets per tweet:  2.0132093991319877\n"
          ]
        }
      ]
    },
    {
      "cell_type": "code",
      "source": [
        "get_tweet_statistics(gopatriots)"
      ],
      "metadata": {
        "colab": {
          "base_uri": "https://localhost:8080/"
        },
        "id": "crpgCJlHDdjP",
        "outputId": "3df2dcdc-0ac2-44c0-cf7e-ef6939b57319"
      },
      "execution_count": 6,
      "outputs": [
        {
          "output_type": "stream",
          "name": "stdout",
          "text": [
            "Average number of tweets per hour:  40.95469800606194\n",
            "Average number of followers of users posting the tweets per tweet:  1427.2526051635405\n",
            "Average number of retweets per tweet:  1.4081919101697078\n"
          ]
        }
      ]
    },
    {
      "cell_type": "code",
      "source": [
        "get_tweet_statistics(nfl)"
      ],
      "metadata": {
        "colab": {
          "base_uri": "https://localhost:8080/"
        },
        "id": "7SJLI-BdDfts",
        "outputId": "06a03764-5f61-453c-d992-0b21e81618bf"
      },
      "execution_count": 7,
      "outputs": [
        {
          "output_type": "stream",
          "name": "stdout",
          "text": [
            "Average number of tweets per hour:  397.0213901819841\n",
            "Average number of followers of users posting the tweets per tweet:  4662.37544523693\n",
            "Average number of retweets per tweet:  1.5344602655543254\n"
          ]
        }
      ]
    },
    {
      "cell_type": "code",
      "source": [
        "get_tweet_statistics(patriots)"
      ],
      "metadata": {
        "colab": {
          "base_uri": "https://localhost:8080/"
        },
        "id": "EalgvvRaDg2e",
        "outputId": "482c5669-df7c-4b80-8336-1bd8e47d8a13"
      },
      "execution_count": 8,
      "outputs": [
        {
          "output_type": "stream",
          "name": "stdout",
          "text": [
            "Average number of tweets per hour:  750.89426460689\n",
            "Average number of followers of users posting the tweets per tweet:  3280.4635616550277\n",
            "Average number of retweets per tweet:  1.7852871288476946\n"
          ]
        }
      ]
    },
    {
      "cell_type": "code",
      "source": [
        "get_tweet_statistics(sb49)"
      ],
      "metadata": {
        "colab": {
          "base_uri": "https://localhost:8080/"
        },
        "id": "1sw2KhkaDiwI",
        "outputId": "db97c70e-013d-48d0-a95a-202b42e61b6d"
      },
      "execution_count": 9,
      "outputs": [
        {
          "output_type": "stream",
          "name": "stdout",
          "text": [
            "Average number of tweets per hour:  1276.8570598680474\n",
            "Average number of followers of users posting the tweets per tweet:  10374.160292019487\n",
            "Average number of retweets per tweet:  2.52713444111402\n"
          ]
        }
      ]
    },
    {
      "cell_type": "code",
      "source": [
        "get_tweet_statistics(superbowl)"
      ],
      "metadata": {
        "colab": {
          "base_uri": "https://localhost:8080/"
        },
        "id": "c0-HkiDdDkAZ",
        "outputId": "e0f0f301-bd9c-4959-803b-da9c2ad14a83"
      },
      "execution_count": 10,
      "outputs": [
        {
          "output_type": "stream",
          "name": "stdout",
          "text": [
            "Average number of tweets per hour:  2072.11840170408\n",
            "Average number of followers of users posting the tweets per tweet:  8814.96799424623\n",
            "Average number of retweets per tweet:  2.3911895819207736\n"
          ]
        }
      ]
    },
    {
      "cell_type": "markdown",
      "source": [
        "### Question 9.2"
      ],
      "metadata": {
        "id": "pqdf9bG9aTJf"
      }
    },
    {
      "cell_type": "code",
      "source": [
        "def tweets_per_hour(filename = str):\n",
        "\n",
        "  # Read in txt file\n",
        "  tweets = []\n",
        "  with open(filename) as f:\n",
        "      for line in f:\n",
        "          tweets.append(line)\n",
        "\n",
        "  # Keep track of hours\n",
        "  hours = []\n",
        "\n",
        "  # Iterate through each line\n",
        "  for line in tweets:\n",
        "    tweet = json.loads(line)\n",
        "    hours.append(tweet['citation_date'])\n",
        "\n",
        "  # Get tweets per hour\n",
        "  # Initialize entire array first for efficiency\n",
        "  tweets_per_hour = np.zeros(int((max(hours)-min(hours))/3600+1))\n",
        "  start = min(hours)\n",
        "  for i in hours:\n",
        "      tweets_per_hour[int((i-start)/3600)] += 1\n",
        "\n",
        "  # Use barplot\n",
        "  # Get each hour\n",
        "  x = np.linspace(0, len(tweets_per_hour)-1, len(tweets_per_hour))\n",
        "  plt.bar(x, tweets_per_hour)\n",
        "  plt.xlabel(\"Hour\")\n",
        "  plt.ylabel(\"Number of tweets\")\n",
        "\n",
        "  # If filename contains superbowl, make #superbowl the title\n",
        "  if \"superbowl\" in filename:\n",
        "    plt.title(\"#superbowl\")\n",
        "  elif \"nfl\" in filename:\n",
        "    plt.title(\"#nfl\")\n",
        "  plt.show()"
      ],
      "metadata": {
        "id": "3aisoglEZyq5"
      },
      "execution_count": 15,
      "outputs": []
    },
    {
      "cell_type": "code",
      "source": [
        "tweets_per_hour(superbowl)"
      ],
      "metadata": {
        "colab": {
          "base_uri": "https://localhost:8080/",
          "height": 472
        },
        "id": "H2_imaNQcb_H",
        "outputId": "bfdf6026-0b0e-4571-ae18-5f974f78c64e"
      },
      "execution_count": 16,
      "outputs": [
        {
          "output_type": "display_data",
          "data": {
            "text/plain": [
              "<Figure size 640x480 with 1 Axes>"
            ],
            "image/png": "[encoded data removed]"
          },
          "metadata": {}
        }
      ]
    },
    {
      "cell_type": "code",
      "source": [
        "tweets_per_hour(nfl)"
      ],
      "metadata": {
        "colab": {
          "base_uri": "https://localhost:8080/",
          "height": 472
        },
        "id": "iASOnKzyDwVK",
        "outputId": "5da4a701-e9b1-44b1-d30f-43251d96ff67"
      },
      "execution_count": 17,
      "outputs": [
        {
          "output_type": "display_data",
          "data": {
            "text/plain": [
              "<Figure size 640x480 with 1 Axes>"
            ],
            "image/png": "[encoded data removed]"
          },
          "metadata": {}
        }
      ]
    }
  ]
}