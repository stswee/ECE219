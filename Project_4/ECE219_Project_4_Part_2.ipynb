{
  "nbformat": 4,
  "nbformat_minor": 0,
  "metadata": {
    "colab": {
      "provenance": []
    },
    "kernelspec": {
      "name": "python3",
      "display_name": "Python 3"
    },
    "language_info": {
      "name": "python"
    }
  },
  "cells": [
    {
      "cell_type": "markdown",
      "source": [
        "### Preliminaries"
      ],
      "metadata": {
        "id": "1s3wcEK6aQnG"
      }
    },
    {
      "cell_type": "code",
      "execution_count": 1,
      "metadata": {
        "id": "nUbrJuTdHk09"
      },
      "outputs": [],
      "source": [
        "# Import packages\n",
        "import pandas as pd\n",
        "import numpy as np\n",
        "import matplotlib.pyplot as plt\n",
        "import datetime\n",
        "import pytz\n",
        "import json"
      ]
    },
    {
      "cell_type": "markdown",
      "source": [
        "### Question 9.1"
      ],
      "metadata": {
        "id": "P7NiX2L_aO9P"
      }
    },
    {
      "cell_type": "code",
      "source": [
        "def get_tweet_statistics(filename = str):\n",
        "\n",
        "  # Read in txt file\n",
        "  tweets = []\n",
        "  with open(filename) as f:\n",
        "      for line in f:\n",
        "          tweets.append(line)\n",
        "\n",
        "  # Keep track of hours, followers, and retweets\n",
        "  hours = []\n",
        "  followers = []\n",
        "  retweets = []\n",
        "\n",
        "  # Iterate through each line\n",
        "  for line in tweets:\n",
        "    tweet = json.loads(line)\n",
        "    hours.append(tweet['citation_date'])\n",
        "    followers.append(tweet['author']['followers'])\n",
        "    retweets.append(tweet['metrics']['citations']['total'])\n",
        "\n",
        "  # Get statistics\n",
        "  num_tweets = len(hours)\n",
        "\n",
        "  # Average number of tweets per hour\n",
        "  print(\"Average number of tweets per hour: \", num_tweets / ((max(hours) - min(hours)) / 3600))\n",
        "\n",
        "  # Average number of followers of users posting the tweets per tweet\n",
        "  print(\"Average number of followers of users posting the tweets per tweet: \", sum(followers) / num_tweets)\n",
        "\n",
        "  # Average number of retweets per tweet\n",
        "  print(\"Average number of retweets per tweet: \", sum(retweets) / num_tweets)\n"
      ],
      "metadata": {
        "id": "PK61PTewXq6j"
      },
      "execution_count": 2,
      "outputs": []
    },
    {
      "cell_type": "code",
      "source": [
        "get_tweet_statistics('tweets_#gopatriots.txt')"
      ],
      "metadata": {
        "colab": {
          "base_uri": "https://localhost:8080/"
        },
        "id": "m11ki2xRZWj-",
        "outputId": "234e82e9-d1b2-4079-f009-323dc2664534"
      },
      "execution_count": 4,
      "outputs": [
        {
          "output_type": "stream",
          "name": "stdout",
          "text": [
            "Average number of tweets per hour:  40.95469800606194\n",
            "Average number of followers of users posting the tweets per tweet:  1427.2526051635405\n",
            "Average number of retweets per tweet:  1.4081919101697078\n"
          ]
        }
      ]
    },
    {
      "cell_type": "markdown",
      "source": [
        "### Question 9.2"
      ],
      "metadata": {
        "id": "pqdf9bG9aTJf"
      }
    },
    {
      "cell_type": "code",
      "source": [
        "def tweets_per_hour(filename = str):\n",
        "\n",
        "  # Read in txt file\n",
        "  tweets = []\n",
        "  with open(filename) as f:\n",
        "      for line in f:\n",
        "          tweets.append(line)\n",
        "\n",
        "  # Keep track of hours\n",
        "  hours = []\n",
        "\n",
        "  # Iterate through each line\n",
        "  for line in tweets:\n",
        "    tweet = json.loads(line)\n",
        "    hours.append(tweet['citation_date'])\n",
        "\n",
        "  # Get tweets per hour\n",
        "  # Initialize entire array first for efficiency\n",
        "  tweets_per_hour = np.zeros(int((max(hours)-min(hours))/3600+1))\n",
        "  start = min(hours)\n",
        "  for i in hours:\n",
        "      tweets_per_hour[int((i-start)/3600)] += 1\n",
        "\n",
        "  # Use barplot\n",
        "  # Get each hour\n",
        "  x = np.linspace(0, len(tweets_per_hour)-1, len(tweets_per_hour))\n",
        "  plt.bar(x, tweets_per_hour)\n",
        "  plt.xlabel(\"Hour\")\n",
        "  plt.ylabel(\"Number of tweets\")\n",
        "  plt.title(filename)\n",
        "  plt.show()"
      ],
      "metadata": {
        "id": "3aisoglEZyq5"
      },
      "execution_count": 24,
      "outputs": []
    },
    {
      "cell_type": "code",
      "source": [
        "tweets_per_hour('tweets_#gopatriots.txt')"
      ],
      "metadata": {
        "colab": {
          "base_uri": "https://localhost:8080/",
          "height": 472
        },
        "id": "H2_imaNQcb_H",
        "outputId": "30ffbcf0-706b-472d-c816-be9408322c5a"
      },
      "execution_count": 25,
      "outputs": [
        {
          "output_type": "display_data",
          "data": {
            "text/plain": [
              "<Figure size 640x480 with 1 Axes>"
            ],
            "image/png": "[encoded data removed]"
          },
          "metadata": {}
        }
      ]
    }
  ]
}