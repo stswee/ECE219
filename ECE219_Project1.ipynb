{
  "nbformat": 4,
  "nbformat_minor": 0,
  "metadata": {
    "colab": {
      "provenance": [],
      "authorship_tag": "ABX9TyN2LllIUr8IS2NZl7SymBAb",
      "include_colab_link": true
    },
    "kernelspec": {
      "name": "python3",
      "display_name": "Python 3"
    },
    "language_info": {
      "name": "python"
    }
  },
  "cells": [
    {
      "cell_type": "markdown",
      "metadata": {
        "id": "view-in-github",
        "colab_type": "text"
      },
      "source": [
        "<a href=\"https://colab.research.google.com/github/stswee/ECE219/blob/main/ECE219_Project1.ipynb\" target=\"_parent\"><img src=\"https://colab.research.google.com/assets/colab-badge.svg\" alt=\"Open In Colab\"/></a>"
      ]
    },
    {
      "cell_type": "markdown",
      "source": [
        "## Preliminaries"
      ],
      "metadata": {
        "id": "ballPdHNSa4B"
      }
    },
    {
      "cell_type": "code",
      "source": [
        "# Import libraries\n",
        "import pandas as pd\n",
        "import numpy as np\n",
        "import matplotlib.pyplot as plt\n",
        "import seaborn as sns\n",
        "import random\n",
        "import time\n",
        "from sklearn.model_selection import train_test_split\n",
        "from sklearn.decomposition import TruncatedSVD\n",
        "import re\n",
        "import string\n",
        "from sklearn.feature_extraction.text import TfidfVectorizer\n",
        "from sklearn.feature_extraction.text import CountVectorizer\n",
        "from nltk.stem import WordNetLemmatizer\n",
        "from nltk.stem import PorterStemmer\n",
        "from nltk.tag import pos_tag\n",
        "from nltk.tokenize import word_tokenize\n",
        "import nltk\n",
        "from nltk.corpus import wordnet\n",
        "nltk.download('punkt_tab')\n",
        "nltk.download('wordnet')\n",
        "nltk.download('averaged_perceptron_tagger')\n",
        "nltk.download('omw-1.4')\n",
        "nltk.download('averaged_perceptron_tagger_eng')\n",
        "\n",
        "# Set random seeds\n",
        "np.random.seed(42)\n",
        "random.seed(42)"
      ],
      "metadata": {
        "id": "sG6kttkgScnu",
        "colab": {
          "base_uri": "https://localhost:8080/"
        },
        "outputId": "0f360c9f-2a4b-4180-d08a-97ebb907339d"
      },
      "execution_count": 47,
      "outputs": [
        {
          "output_type": "stream",
          "name": "stderr",
          "text": [
            "[nltk_data] Downloading package punkt_tab to /root/nltk_data...\n",
            "[nltk_data]   Package punkt_tab is already up-to-date!\n",
            "[nltk_data] Downloading package wordnet to /root/nltk_data...\n",
            "[nltk_data]   Package wordnet is already up-to-date!\n",
            "[nltk_data] Downloading package averaged_perceptron_tagger to\n",
            "[nltk_data]     /root/nltk_data...\n",
            "[nltk_data]   Package averaged_perceptron_tagger is already up-to-\n",
            "[nltk_data]       date!\n",
            "[nltk_data] Downloading package omw-1.4 to /root/nltk_data...\n",
            "[nltk_data]   Package omw-1.4 is already up-to-date!\n",
            "[nltk_data] Downloading package averaged_perceptron_tagger_eng to\n",
            "[nltk_data]     /root/nltk_data...\n",
            "[nltk_data]   Package averaged_perceptron_tagger_eng is already up-to-\n",
            "[nltk_data]       date!\n"
          ]
        }
      ]
    },
    {
      "cell_type": "code",
      "source": [
        "# Load in dataset\n",
        "df = pd.read_csv(\"Project1-ClassificationDataset.csv\")\n",
        "# df.head()"
      ],
      "metadata": {
        "id": "KDTKqGXCSfQ5"
      },
      "execution_count": 2,
      "outputs": []
    },
    {
      "cell_type": "markdown",
      "source": [
        "## Geting familiar with the dataset"
      ],
      "metadata": {
        "id": "D5D9eg9UaMQh"
      }
    },
    {
      "cell_type": "markdown",
      "source": [
        "### Question 1"
      ],
      "metadata": {
        "id": "podE-qMcSHA2"
      }
    },
    {
      "cell_type": "code",
      "execution_count": 3,
      "metadata": {
        "id": "3ahCZctFRvgY",
        "colab": {
          "base_uri": "https://localhost:8080/"
        },
        "outputId": "db66553a-d600-49de-8365-dd39a1302348"
      },
      "outputs": [
        {
          "output_type": "stream",
          "name": "stdout",
          "text": [
            "There are 3476 rows in the dataset.\n",
            "There are 8 columns in the dataset.\n"
          ]
        }
      ],
      "source": [
        "# Overview\n",
        "numrows = df.shape[0]\n",
        "numcols = df.shape[1]\n",
        "\n",
        "print(\"There are\", numrows, \"rows in the dataset.\")\n",
        "print(\"There are\", numcols, \"columns in the dataset.\")"
      ]
    },
    {
      "cell_type": "code",
      "source": [
        "# Histograms\n",
        "def count_alphanumeric(text = str) -> int:\n",
        "  \"\"\"\n",
        "  Counts the number of alphanumeric characters in a string.\n",
        "\n",
        "  Parameters\n",
        "  ----------\n",
        "  text : str\n",
        "    The string to count the alphanumeric characters in.\n",
        "\n",
        "  Returns\n",
        "  -------\n",
        "  int\n",
        "    The number of alphanumeric characters in the string.\n",
        "  \"\"\"\n",
        "  count = 0\n",
        "  for char in text:\n",
        "    if char.isalnum():\n",
        "      count += 1\n",
        "  return count\n",
        "\n",
        "def count_classes(df = pd.DataFrame, col = str) -> list:\n",
        "  \"\"\"\n",
        "  Counts the number of classes in a column of a dataframe.\n",
        "\n",
        "  Parameters\n",
        "  ----------\n",
        "  df : pd.DataFrame\n",
        "    The dataframe to count the classes in.\n",
        "  col : str\n",
        "    The column to count the classes in.\n",
        "\n",
        "  Returns\n",
        "  -------\n",
        "  2 lists\n",
        "    A list of classes and a list of the counts of classes in the column.\n",
        "  \"\"\"\n",
        "  classes = df[col].unique()\n",
        "  counts = []\n",
        "  for unique_class in classes:\n",
        "    counts.append(df[col].str.contains(unique_class).sum())\n",
        "  return classes, counts\n",
        "\n",
        "# Keep track of counts of alphanumeric characters\n",
        "count_alphanumeric_full_text = []\n",
        "for text in df['full_text']:\n",
        "  count_alphanumeric_full_text.append(count_alphanumeric(text))\n",
        "\n",
        "# Keep track of counts of each class\n",
        "classes_leaf_label, count_classes_leaf_label = count_classes(df, 'leaf_label')\n",
        "classes_root_label, count_classes_root_label = count_classes(df, 'root_label')\n",
        "\n",
        "# Histogram of alphanumeric characters\n",
        "plt.figure(figsize=(10, 6))\n",
        "plt.hist(count_alphanumeric_full_text, bins = 20)\n",
        "plt.title('Histogram of Alphanumeric Characters in Full Text')\n",
        "plt.xlabel('Count')\n",
        "plt.ylabel('Frequency')\n",
        "plt.show()\n",
        "\n",
        "# Histogram of counts of each class in leaf_label\n",
        "plt.figure(figsize=(10, 6))\n",
        "plt.bar(classes_leaf_label, count_classes_leaf_label)\n",
        "plt.title('Counts of Each Class in Leaf Label')\n",
        "plt.xlabel('Class')\n",
        "plt.ylabel('Frequency')\n",
        "plt.show()\n",
        "\n",
        "# Histogram of counts of each class in root_label\n",
        "plt.figure(figsize=(10, 6))\n",
        "plt.bar(classes_root_label, count_classes_root_label)\n",
        "plt.title('Counts of Each Class in Root Label')\n",
        "plt.xlabel('Class')\n",
        "plt.ylabel('Frequency')\n",
        "plt.show()"
      ],
      "metadata": {
        "colab": {
          "base_uri": "https://localhost:8080/",
          "height": 1000
        },
        "id": "Gxm5pL_ATpH3",
        "outputId": "a910fb16-172e-4042-a9b7-4284be203c7f"
      },
      "execution_count": 4,
      "outputs": [
        {
          "output_type": "display_data",
          "data": {
            "text/plain": [
              "<Figure size 1000x600 with 1 Axes>"
            ],
            "image/png": "[encoded data removed]"
          },
          "metadata": {}
        },
        {
          "output_type": "display_data",
          "data": {
            "text/plain": [
              "<Figure size 1000x600 with 1 Axes>"
            ],
            "image/png": "[encoded data removed]"
          },
          "metadata": {}
        },
        {
          "output_type": "display_data",
          "data": {
            "text/plain": [
              "<Figure size 1000x600 with 1 Axes>"
            ],
            "image/png": "[encoded data removed]"
          },
          "metadata": {}
        }
      ]
    },
    {
      "cell_type": "markdown",
      "source": [
        "The number of alpha-numeric characters per data point appears to follow an exponential distribution with nearly all documents containing 10000 or fewer alpha-numeric characters. There also appears to be a balanced set of classes for the leaf_label column with only drought having a slightly lower frequency. For the root_label column, the sports and climate classes are nearly balanced with sports having a marginally higher frequency."
      ],
      "metadata": {
        "id": "B7V4UOa6Y4eN"
      }
    },
    {
      "cell_type": "markdown",
      "source": [
        "## Binary Classification"
      ],
      "metadata": {
        "id": "dAPYcukXaUPq"
      }
    },
    {
      "cell_type": "markdown",
      "source": [
        "### 1. Splitting the entire dataset into training and testing data"
      ],
      "metadata": {
        "id": "UqnT1oYVa1IZ"
      }
    },
    {
      "cell_type": "code",
      "source": [
        "# Set seeds\n",
        "np.random.seed(42)\n",
        "random.seed(42)\n",
        "\n",
        "# Split dataset\n",
        "train, test = train_test_split(df[[\"full_text\", \"root_label\"]], test_size = 0.2)"
      ],
      "metadata": {
        "id": "-5CDoe2pa0AE"
      },
      "execution_count": 5,
      "outputs": []
    },
    {
      "cell_type": "markdown",
      "source": [
        "### Question 2"
      ],
      "metadata": {
        "id": "6aB6uxKka_G_"
      }
    },
    {
      "cell_type": "code",
      "source": [
        "# Count number of rows in train and test\n",
        "num_train = train.shape[0]\n",
        "num_test = test.shape[0]\n",
        "\n",
        "# Display results\n",
        "print(\"Number of rows in train:\", num_train)\n",
        "print(\"Number of rows in test:\", num_test)\n"
      ],
      "metadata": {
        "colab": {
          "base_uri": "https://localhost:8080/"
        },
        "id": "qLokeknVaXAl",
        "outputId": "4d23a99b-a1a6-4aaf-e4e5-ca0842cc8d15"
      },
      "execution_count": 6,
      "outputs": [
        {
          "output_type": "stream",
          "name": "stdout",
          "text": [
            "Number of rows in train: 2780\n",
            "Number of rows in test: 696\n"
          ]
        }
      ]
    },
    {
      "cell_type": "markdown",
      "source": [
        "### 2. Feature Extraction"
      ],
      "metadata": {
        "id": "VvB3VICjbIwW"
      }
    },
    {
      "cell_type": "markdown",
      "source": [
        "### Question 3"
      ],
      "metadata": {
        "id": "IqoVoGwweSeO"
      }
    },
    {
      "cell_type": "code",
      "source": [
        "# Preprocessing functions\n",
        "def clean(text) -> str:\n",
        "  \"\"\"\n",
        "  Processes the text based on rules.\n",
        "\n",
        "  Parameters\n",
        "  ----------\n",
        "  text : str\n",
        "    The string to process.\n",
        "\n",
        "  Returns\n",
        "  -------\n",
        "  str\n",
        "    The processed string.\n",
        "  \"\"\"\n",
        "  text = re.sub(r'^https?:\\/\\/.*[\\r\\n]*', '', text, flags=re.MULTILINE)\n",
        "  texter = re.sub(r\"<br />\", \" \", text)\n",
        "  texter = re.sub(r\"&quot;\", \"\\\"\",texter)\n",
        "  texter = re.sub('&#39;', \"\\\"\", texter)\n",
        "  texter = re.sub('\\n', \" \", texter)\n",
        "  texter = re.sub(' u ',\" you \", texter)\n",
        "  texter = re.sub('`',\"\", texter)\n",
        "  texter = re.sub(' +', ' ', texter)\n",
        "  texter = re.sub(r\"(!)\\1+\", r\"!\", texter)\n",
        "  texter = re.sub(r\"(\\?)\\1+\", r\"?\", texter)\n",
        "  texter = re.sub('&amp;', 'and', texter)\n",
        "  texter = re.sub('\\r', ' ',texter)\n",
        "  clean = re.compile('<.*?>')\n",
        "  texter = texter.encode('ascii', 'ignore').decode('ascii')\n",
        "  texter = re.sub(clean, '', texter)\n",
        "  if texter == \"\":\n",
        "    texter = \"\"\n",
        "  return texter\n",
        "\n",
        "def remove_stopwords(df = pd.DataFrame, col = str, mindf = int) -> pd.DataFrame:\n",
        "  \"\"\"\n",
        "  Removes stopwords from the text.\n",
        "\n",
        "  Parameters\n",
        "  ----------\n",
        "  df : pd.DataFrame\n",
        "    The dataframe to remove stopwords from.\n",
        "  col : str\n",
        "    The column to remove stopwords from.\n",
        "\n",
        "  Returns\n",
        "  -------\n",
        "  pd.DataFrame\n",
        "    The dataframe with stopwords removed.\n",
        "  \"\"\"\n",
        "\n",
        "  # Helper function to filter out stopwords\n",
        "  def filter_sentence(sentence = str, vocab = set) -> str:\n",
        "    \"\"\"\n",
        "    Filters the sentence based on the vocabulary.\n",
        "\n",
        "    Parameters\n",
        "    ----------\n",
        "    sentence : str\n",
        "      The sentence to filter.\n",
        "    vocab : set\n",
        "      The vocabulary to filter the sentence with.\n",
        "\n",
        "    Returns\n",
        "    -------\n",
        "    str\n",
        "      The filtered sentence.\n",
        "    \"\"\"\n",
        "\n",
        "    # Tokenize sentence\n",
        "    words = sentence.split()\n",
        "\n",
        "    # Get filtered words\n",
        "    filtered_words = [word for word in words if word.lower() in vocab]\n",
        "\n",
        "    # Reconstruct sentence\n",
        "    return ' '.join(filtered_words)\n",
        "\n",
        "  # Initialize CountVectorizer\n",
        "  count_vectorizer = CountVectorizer(stop_words = 'english', min_df = mindf)\n",
        "  fittransform = count_vectorizer.fit_transform(df[col])\n",
        "\n",
        "  # Get vocabulary\n",
        "  vocab = set(count_vectorizer.get_feature_names_out())\n",
        "\n",
        "  # Remove stopwords\n",
        "  df[col] = df[col].apply(lambda x: filter_sentence(x, vocab))\n",
        "  return df\n",
        "\n",
        "def remove_numbers(df = pd.DataFrame, col = str) -> pd.DataFrame:\n",
        "  \"\"\"\n",
        "  Removes numbers from the text.\n",
        "\n",
        "  Parameters\n",
        "  ----------\n",
        "  df : pd.DataFrame\n",
        "    The dataframe to remove numbers from.\n",
        "  col : str\n",
        "    The column to remove numbers from.\n",
        "\n",
        "  Returns\n",
        "  -------\n",
        "  pd.DataFrame\n",
        "    The dataframe with numbers removed.\n",
        "  \"\"\"\n",
        "\n",
        "  # Remove numbers\n",
        "  df[col] = df[col].apply(lambda x: re.sub(r'\\b\\d+\\b', '', x))\n",
        "  return df\n",
        "\n",
        "def remove_punctuation(df = pd.DataFrame, col = str) -> pd.DataFrame:\n",
        "  \"\"\"\n",
        "  Remove punctuation from the text\n",
        "\n",
        "  Parameters\n",
        "  ----------\n",
        "  df : pd.DataFrame\n",
        "    The dataframe to remove punctuation from.\n",
        "  col : str\n",
        "    The column to remove punctuation from.\n",
        "\n",
        "  Returns\n",
        "  -------\n",
        "  pd.DataFrame\n",
        "    The dataframe with punctuation removed.\n",
        "  \"\"\"\n",
        "\n",
        "  # Use translate to remove punctuation\n",
        "  translator = str.maketrans('', '', string.punctuation)\n",
        "  df[col] = df[col].apply(lambda x: x.translate(translator))\n",
        "  return df\n",
        "\n",
        "def lemmatize(df = pd.DataFrame, col = str) -> pd.DataFrame:\n",
        "  \"\"\"\n",
        "  Lemmatizes the text.\n",
        "\n",
        "  Parameters\n",
        "  ----------\n",
        "  df : pd.DataFrame\n",
        "    The dataframe to lemmatize.\n",
        "  col : str\n",
        "    The column to lemmatize.\n",
        "\n",
        "  Returns\n",
        "  -------\n",
        "  pd.DataFrame\n",
        "    The dataframe after lemmatization.\n",
        "  \"\"\"\n",
        "\n",
        "  # Helper function for getting part of speech\n",
        "  def get_wordnet_pos(tag):\n",
        "    \"\"\"\n",
        "    Maps POS tags to WordNet POS tags.\n",
        "\n",
        "    Parameters\n",
        "    ----------\n",
        "    tag : str\n",
        "      The POS tag to map.\n",
        "\n",
        "    Returns\n",
        "    -------\n",
        "    str\n",
        "      The mapped POS tag.\n",
        "    \"\"\"\n",
        "    if tag.startswith('J'):  # Adjective\n",
        "        return wordnet.ADJ\n",
        "    elif tag.startswith('V'):  # Verb\n",
        "        return wordnet.VERB\n",
        "    elif tag.startswith('N'):  # Noun\n",
        "        return wordnet.NOUN\n",
        "    elif tag.startswith('R'):  # Adverb\n",
        "        return wordnet.ADV\n",
        "    else:\n",
        "        return None\n",
        "\n",
        "  # Helper function to lemmatize\n",
        "  def lemmatize_pos(text = str) -> str:\n",
        "    \"\"\"\n",
        "    Lemmatizes the text with part of speech.\n",
        "\n",
        "    Parameters\n",
        "    ----------\n",
        "    text : str\n",
        "      The text to lemmatize.\n",
        "\n",
        "    Returns\n",
        "    -------\n",
        "    str\n",
        "      The lemmatized text.\n",
        "    \"\"\"\n",
        "\n",
        "    # Tokenize sentence\n",
        "    tokens = word_tokenize(text)\n",
        "\n",
        "    # Get part of speech tags\n",
        "    pos_tags = pos_tag(tokens)\n",
        "\n",
        "    # Keep list of lemmatized words\n",
        "    lemmatized_words = []\n",
        "\n",
        "    # Lemmatize each word\n",
        "    for word, pos in pos_tags:\n",
        "\n",
        "      # Get part of speech. For missing part of speech, assume noun\n",
        "      wordnet_pos = get_wordnet_pos(pos) or wordnet.NOUN\n",
        "      lemmatized_words.append(lemmatizer.lemmatize(word, pos=wordnet_pos))\n",
        "\n",
        "    # Join words\n",
        "    return ' '.join(lemmatized_words)\n",
        "\n",
        "  # Initialize lemmatizer\n",
        "  lemmatizer = WordNetLemmatizer()\n",
        "\n",
        "  # Apply lemmatization\n",
        "  df[col] = df[col].apply(lemmatize_pos)\n",
        "  return df\n",
        "\n",
        "def stemming(df = pd.DataFrame, col = str) -> pd.DataFrame:\n",
        "  \"\"\"\n",
        "  Stems the text.\n",
        "\n",
        "  Parameters\n",
        "  ----------\n",
        "  df : pd.DataFrame\n",
        "    The dataframe to stem.\n",
        "  col : str\n",
        "    The column to stem.\n",
        "\n",
        "  Returns\n",
        "  -------\n",
        "  pd.DataFrame\n",
        "    The dataframe after stemming.\n",
        "  \"\"\"\n",
        "\n",
        "  # Helper function for stemming\n",
        "  def stem(text = str) -> str:\n",
        "    \"\"\"\n",
        "    Stems the text.\n",
        "\n",
        "    Parameters\n",
        "    ----------\n",
        "    text : str\n",
        "      The text to stem.\n",
        "\n",
        "    Returns\n",
        "    -------\n",
        "    str\n",
        "      The stemmed text.\n",
        "    \"\"\"\n",
        "\n",
        "    # Tokenize sentence\n",
        "    tokens = word_tokenize(text)\n",
        "\n",
        "    # Get stemmed words\n",
        "    stemmed_words = [stemmer.stem(word) for word in tokens]\n",
        "\n",
        "    # Join words\n",
        "    return ' '.join(stemmed_words)\n",
        "\n",
        "  # Initialize stemmer\n",
        "  stemmer = PorterStemmer()\n",
        "\n",
        "  # Apply stemming function\n",
        "  df[col] = df[col].apply(stem)\n",
        "  return df"
      ],
      "metadata": {
        "id": "Mb-ZoMHnk7FL"
      },
      "execution_count": 37,
      "outputs": []
    },
    {
      "cell_type": "code",
      "source": [
        "def preprocessing(df = pd.DataFrame, col = str, preprocess = list, mindf = int) -> pd.DataFrame:\n",
        "  \"\"\"\n",
        "  Preprocesses the text.\n",
        "\n",
        "  Parameters\n",
        "  ----------\n",
        "  df : pd.DataFrame\n",
        "    The dataframe to preprocess.\n",
        "  col : str\n",
        "    The column to preprocess.\n",
        "  preprocess : list\n",
        "    The list of preprocessing functions to apply.\n",
        "  mindf : int\n",
        "    The minimum document frequency to use for CountVectorizer.\n",
        "\n",
        "  Returns\n",
        "  -------\n",
        "  pd.DataFrame\n",
        "    The dataframe after preprocessing.\n",
        "  \"\"\"\n",
        "\n",
        "  # Must have clean function first\n",
        "  if preprocess[0] != clean:\n",
        "    print(\"Clean function must be first\")\n",
        "\n",
        "  # Apply preprocessing functions\n",
        "  for func in preprocess:\n",
        "    if func == clean:\n",
        "      df = df[col].apply(clean).to_frame()\n",
        "    elif func == remove_punctuation:\n",
        "      df = remove_punctuation(df, col)\n",
        "    elif func == remove_numbers:\n",
        "      df = remove_numbers(df, col)\n",
        "    elif func == remove_stopwords:\n",
        "      df = remove_stopwords(df, col, mindf)\n",
        "    elif func == lemmatize:\n",
        "      df = lemmatize(df, col)\n",
        "    elif func == stemming:\n",
        "      df = stemming(df, col)\n",
        "    else:\n",
        "      print(\"Invalid preprocessing function\")\n",
        "  return df\n",
        "\n",
        "def tfidf_process(df = pd.DataFrame, col = str, matrix = bool) -> pd.DataFrame:\n",
        "  \"\"\"\n",
        "  Processes the text using TF-IDF.\n",
        "\n",
        "  Parameters\n",
        "  ----------\n",
        "  df : pd.DataFrame\n",
        "    The dataframe to process.\n",
        "  col : str\n",
        "    The column to process.\n",
        "  matrix : bool\n",
        "    Whether to return the TF-IDF matrix or the dataframe with the TF-IDF matrix.\n",
        "\n",
        "  Returns\n",
        "  -------\n",
        "  sparse matrix or pd.DataFrame\n",
        "    The TF-IDF matrix or the dataframe with the TF-IDF matrix.\n",
        "  \"\"\"\n",
        "\n",
        "  # Initialize TF-IDF vectorizer\n",
        "  tfidf_vectorizer = TfidfVectorizer()\n",
        "\n",
        "  # Fit and transform data\n",
        "  tfidf_matrix = tfidf_vectorizer.fit_transform(df[col])\n",
        "\n",
        "  # Convert result to dataframe if requested\n",
        "  if matrix:\n",
        "    return tfidf_matrix\n",
        "  else:\n",
        "    return pd.DataFrame(tfidf_matrix.toarray(), columns = tfidf_vectorizer.get_feature_names_out())"
      ],
      "metadata": {
        "id": "uc7qVlgmLsPX"
      },
      "execution_count": 38,
      "outputs": []
    },
    {
      "cell_type": "code",
      "source": [
        "### The order of the following can be changed as needed\n",
        "# Current iteration takes ~60-90s to run on CPU (almost all time spent on lemmatization)\n",
        "# NLTK does not use GPU (will need something like SpaCy)\n",
        "\n",
        "# Adjust preprocessing_functions and min_df\n",
        "preprocessing_functions = [clean, remove_punctuation, remove_numbers, remove_stopwords, lemmatize]\n",
        "min_df = 3\n",
        "\n",
        "# Preprocess data\n",
        "X_train = preprocessing(train, 'full_text', preprocessing_functions, min_df)\n",
        "X_test = preprocessing(test, 'full_text', preprocessing_functions, min_df)\n",
        "\n",
        "# Get TF-IDF matrices\n",
        "X_train_tfidf = tfidf_process(X_train, 'full_text', False)\n",
        "X_test_tfidf = tfidf_process(X_test, 'full_text', False)"
      ],
      "metadata": {
        "id": "K7Si1G5-MJ0Z"
      },
      "execution_count": 40,
      "outputs": []
    },
    {
      "cell_type": "code",
      "source": [
        "# Experiment in speed and TF-IDF size for lemmatize vs. stemming\n",
        "# Adjust preprocessing_functions and min_df\n",
        "preprocessing_functions = [clean, remove_punctuation, remove_numbers, remove_stopwords, lemmatize]\n",
        "min_df = 3\n",
        "\n",
        "# Preprocess data\n",
        "start = time.time()\n",
        "X_train_lem = preprocessing(train, 'full_text', preprocessing_functions, min_df)\n",
        "end = time.time()\n",
        "X_train_lem_tfidf = tfidf_process(X_train_lem, 'full_text', False)\n",
        "print(\"Time taken for lemmatization on training set: \" + str(round(end - start, 2)) + \" seconds.\")\n",
        "print(\"Size of TF-IDF matrix on training set: \" + str(X_train_lem_tfidf.shape[1]))\n",
        "print()\n",
        "\n",
        "start = time.time()\n",
        "X_test_lem = preprocessing(test, 'full_text', preprocessing_functions, min_df)\n",
        "end = time.time()\n",
        "X_test_lem_tfidf = tfidf_process(X_test_lem, 'full_text', False)\n",
        "print(\"Time taken for lemmatization on test set: \" + str(round(end - start, 2)) + \" seconds.\")\n",
        "print(\"Size of TF-IDF matrix on test set: \" + str(X_test_lem_tfidf.shape[1]))\n",
        "print()\n",
        "\n",
        "# Adjust preprocessing_functions and min_df\n",
        "preprocessing_functions = [clean, remove_punctuation, remove_numbers, remove_stopwords, stemming]\n",
        "min_df = 3\n",
        "\n",
        "# Preprocess data\n",
        "start = time.time()\n",
        "X_train_stem = preprocessing(train, 'full_text', preprocessing_functions, min_df)\n",
        "end = time.time()\n",
        "X_train_stem_tfidf = tfidf_process(X_train_stem, 'full_text', False)\n",
        "print(\"Time taken for stemming on training set: \" + str(round(end - start, 2)) + \" seconds.\")\n",
        "print(\"Size of TF-IDF matrix on training set: \" + str(X_train_stem_tfidf.shape[1]))\n",
        "print()\n",
        "\n",
        "start = time.time()\n",
        "X_test_stem = preprocessing(test, 'full_text', preprocessing_functions, min_df)\n",
        "end = time.time()\n",
        "X_test_stem_tfidf = tfidf_process(X_test_stem, 'full_text', False)\n",
        "print(\"Time taken for stemming on test set: \" + str(round(end - start, 2)) + \" seconds.\")\n",
        "print(\"Size of TF-IDF matrix on test set: \" + str(X_test_stem_tfidf.shape[1]))\n",
        "print()"
      ],
      "metadata": {
        "colab": {
          "base_uri": "https://localhost:8080/"
        },
        "id": "ur7CTAkdBE5O",
        "outputId": "e5963eb7-fe07-4cea-ea7c-d45b3e20b139"
      },
      "execution_count": 45,
      "outputs": [
        {
          "output_type": "stream",
          "name": "stdout",
          "text": [
            "Time taken for lemmatization on training set: 57.21 seconds.\n",
            "Size of TF-IDF matrix on training set: 16519\n",
            "\n",
            "Time taken for lemmatization on test set: 14.18 seconds.\n",
            "Size of TF-IDF matrix on test set: 7532\n",
            "\n",
            "Time taken for stemming on training set: 31.59 seconds.\n",
            "Size of TF-IDF matrix on training set: 11685\n",
            "\n",
            "Time taken for stemming on test set: 5.68 seconds.\n",
            "Size of TF-IDF matrix on test set: 5440\n",
            "\n"
          ]
        }
      ]
    },
    {
      "cell_type": "code",
      "source": [
        "# Experiment with changing min_df\n",
        "# Took about ~10 min to complete\n",
        "\n",
        "preprocessing_functions = [clean, remove_punctuation, remove_numbers, remove_stopwords, lemmatize]\n",
        "min_dfs = [3, 4, 5, 6, 7, 8, 9, 10]\n",
        "\n",
        "for min_df in min_dfs:\n",
        "  X_train = preprocessing(train, 'full_text', preprocessing_functions, min_df)\n",
        "  X_test = preprocessing(test, 'full_text', preprocessing_functions, min_df)\n",
        "\n",
        "  X_train_tfidf = tfidf_process(X_train, 'full_text', False)\n",
        "  X_test_tfidf = tfidf_process(X_test, 'full_text', False)\n",
        "\n",
        "  # Print number of columns in tfidf\n",
        "  print(\"Train: Number of columns in tfidf for min_df = \" + str(min_df) + \": \" + str(X_train_tfidf.shape[1]))\n",
        "  print(\"Test: Number of columns in tfidf for min_df = \" + str(min_df) + \": \" + str(X_test_tfidf.shape[1]))\n",
        "  print()\n"
      ],
      "metadata": {
        "colab": {
          "base_uri": "https://localhost:8080/"
        },
        "id": "IWftLBFtnV-E",
        "outputId": "39f6dd2e-1b70-4617-e5b9-72b2be952a62"
      },
      "execution_count": 39,
      "outputs": [
        {
          "output_type": "stream",
          "name": "stdout",
          "text": [
            "Train: Number of columns in tfidf for min_df = 3: 16519\n",
            "Test: Number of columns in tfidf for min_df = 3: 7532\n",
            "\n",
            "Train: Number of columns in tfidf for min_df = 4: 13655\n",
            "Test: Number of columns in tfidf for min_df = 4: 5995\n",
            "\n",
            "Train: Number of columns in tfidf for min_df = 5: 11813\n",
            "Test: Number of columns in tfidf for min_df = 5: 5093\n",
            "\n",
            "Train: Number of columns in tfidf for min_df = 6: 10456\n",
            "Test: Number of columns in tfidf for min_df = 6: 4450\n",
            "\n",
            "Train: Number of columns in tfidf for min_df = 7: 9469\n",
            "Test: Number of columns in tfidf for min_df = 7: 3904\n",
            "\n",
            "Train: Number of columns in tfidf for min_df = 8: 8708\n",
            "Test: Number of columns in tfidf for min_df = 8: 3513\n",
            "\n",
            "Train: Number of columns in tfidf for min_df = 9: 8084\n",
            "Test: Number of columns in tfidf for min_df = 9: 3168\n",
            "\n",
            "Train: Number of columns in tfidf for min_df = 10: 7493\n",
            "Test: Number of columns in tfidf for min_df = 10: 2930\n",
            "\n"
          ]
        }
      ]
    },
    {
      "cell_type": "markdown",
      "source": [
        "### TODO: Verify answers with experiments (i.e. change order of preprocessing steps for before/after lemmatizing)\n",
        "\n",
        "**Pros and Cons of lemmatization vs. stemming**\n",
        "\n",
        "The advantage of lemmatization is that it accounts for context and is more robust by using morphological information. This allows lemmatization to be relatively more accurate. Stemming takes a simpler approach by removing suffixes (i.e. the rightmost letters) to find the root word. While this approach is simpler and allows stemming to be faster than lemmatization, stemming is generally less accurate.\n",
        "\n",
        "In short, the tradeoff between between lemmatization and stemming is between speed (stemming preferred) and accuracy (lemmatization preferred).\n",
        "\n",
        "Per our experiment above, stemming is about twice as fast as lemmatization and leads to a smaller dictionary size. The dictionary size was inferred from fewer columns in the TF-IDF matrix.\n",
        "\n",
        "**Changing minimum document frequency**\n",
        "\n",
        "Increasing the minimum document frequency means that words will have to appear in more documents to be kept. This higher threshold leads to fewer words being kept, ultimately decreasing the number of columns in the TF-IDF matrix.\n",
        "\n",
        "Per our experiment above, using a min_df between 3 and 6 yields approximately 10^4 columns whereas using a min_df between 7 and 10 yields approximately 10^3 columns.\n",
        "\n",
        "**Before and after lemmatizing**\n",
        "\n",
        "Performing additional preprocessing steps before or after lemmatizing comes down to choosing between retaining context and computation time. Removing stopwords, punctuations, and numbers before lemmatizing will require less computational overhead using lemmatizing. Keeping stopwords, punctuations, and numbers will allows context to be retained for lemmatization. In general, if stopwords, punctuations, and numbers contribute little to the context of the document with respect to the classes the documents are a part of, then it may be fine to remove them prior to lemmatization.\n",
        "\n",
        "In the context of this project, we choose to perform lemmatization after removing stopwords, punctuations, and numbers. We assume that stopwords, punctuations, and numbers contribute little to the context (i.e. they do not help distinguish between whether a document is about sports or climate).\n",
        "\n"
      ],
      "metadata": {
        "id": "oOZ71QqMbJOv"
      }
    },
    {
      "cell_type": "markdown",
      "source": [
        "### 3. Dimensionality Reduction"
      ],
      "metadata": {
        "id": "yuU0iR5VDmC0"
      }
    },
    {
      "cell_type": "markdown",
      "source": [
        "### Question 4"
      ],
      "metadata": {
        "id": "Q__7voiOEhL3"
      }
    },
    {
      "cell_type": "code",
      "source": [
        "### The order of the following can be changed as needed\n",
        "# Current iteration takes ~60-90s to run on CPU (almost all time spent on lemmatization)\n",
        "# NLTK does not use GPU (will need something like SpaCy)\n",
        "\n",
        "# Adjust preprocessing_functions and min_df\n",
        "preprocessing_functions = [clean, remove_punctuation, remove_numbers, remove_stopwords, lemmatize]\n",
        "min_df = 3\n",
        "\n",
        "# Preprocess data\n",
        "X_train = preprocessing(train, 'full_text', preprocessing_functions, min_df)\n",
        "X_test = preprocessing(test, 'full_text', preprocessing_functions, min_df)\n",
        "\n",
        "# Get TF-IDF matrices\n",
        "X_train_tfidf = tfidf_process(X_train, 'full_text', False)\n",
        "X_test_tfidf = tfidf_process(X_test, 'full_text', False)"
      ],
      "metadata": {
        "id": "a60Mh7UcE2ky"
      },
      "execution_count": 46,
      "outputs": []
    },
    {
      "cell_type": "code",
      "source": [
        "# Experiment with different explained variance ratios\n",
        "# Takes about 2 minutes to run\n",
        "k = [1, 5, 10, 25, 50, 100, 500, 1000]\n",
        "total_explained_variance = []\n",
        "for i in k:\n",
        "  svd = TruncatedSVD(n_components = i)\n",
        "  lsa_matrix = svd.fit_transform(X_train_tfidf)\n",
        "  explained_variance_ratio = svd.explained_variance_ratio_\n",
        "  total_explained_variance.append(sum(explained_variance_ratio))\n",
        "\n",
        "# Plot explained variance ratio\n",
        "plt.plot(k, total_explained_variance)\n",
        "plt.show()"
      ],
      "metadata": {
        "colab": {
          "base_uri": "https://localhost:8080/",
          "height": 448
        },
        "id": "LvMMkRTnGQks",
        "outputId": "845e1d2b-ceb0-4db1-868d-fb4c0ea28a35"
      },
      "execution_count": 50,
      "outputs": [
        {
          "output_type": "execute_result",
          "data": {
            "text/plain": [
              "[<matplotlib.lines.Line2D at 0x799b498c7b80>]"
            ]
          },
          "metadata": {},
          "execution_count": 50
        },
        {
          "output_type": "display_data",
          "data": {
            "text/plain": [
              "<Figure size 640x480 with 1 Axes>"
            ],
            "image/png": "[encoded data removed]"
          },
          "metadata": {}
        }
      ]
    },
    {
      "cell_type": "markdown",
      "source": [
        "Let k be the number of the largest singular values of the term-document TF-IDF matrix. The plot indicates that a higher k leads to a greater explained variance ratio. The plot is concave down, suggesting diminishing returns in increasing explained variance for greater k."
      ],
      "metadata": {
        "id": "QZhQy0Q-Hpfw"
      }
    },
    {
      "cell_type": "code",
      "source": [
        "# TODO: Perform LSI and NMF using k = 25, then determine residual MSE error"
      ],
      "metadata": {
        "colab": {
          "base_uri": "https://localhost:8080/"
        },
        "id": "hKPoZr5ODr8y",
        "outputId": "16e7a804-8381-4bb1-8f76-3f183ae28273"
      },
      "execution_count": 49,
      "outputs": [
        {
          "output_type": "stream",
          "name": "stdout",
          "text": [
            "Explained variance ratio: [0.00579711 0.02335471]\n",
            "Total explained variance: 0.029151817967345194\n"
          ]
        }
      ]
    },
    {
      "cell_type": "code",
      "source": [
        "# TODO: reduce test data by right multiplying the TF-IDF matrix for the test set by the k principle components of the TF-IDF matrix for the train set"
      ],
      "metadata": {
        "id": "LlWdTVtHIP74"
      },
      "execution_count": null,
      "outputs": []
    }
  ]
}