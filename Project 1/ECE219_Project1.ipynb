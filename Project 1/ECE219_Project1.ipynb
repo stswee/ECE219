{
  "cells": [
    {
      "cell_type": "markdown",
      "metadata": {
        "colab_type": "text",
        "id": "view-in-github"
      },
      "source": [
        "<a href=\"https://colab.research.google.com/github/stswee/ECE219/blob/main/ECE219_Project1.ipynb\" target=\"_parent\"><img src=\"https://colab.research.google.com/assets/colab-badge.svg\" alt=\"Open In Colab\"/></a>"
      ]
    },
    {
      "cell_type": "markdown",
      "metadata": {
        "id": "ballPdHNSa4B"
      },
      "source": [
        "## Preliminaries"
      ]
    },
    {
      "cell_type": "code",
      "execution_count": 79,
      "metadata": {
        "colab": {
          "base_uri": "https://localhost:8080/"
        },
        "id": "sG6kttkgScnu",
        "outputId": "f763961a-ddfc-4a54-c0fe-f49fa6b0bb76"
      },
      "outputs": [
        {
          "name": "stderr",
          "output_type": "stream",
          "text": [
            "[nltk_data] Downloading package punkt_tab to\n",
            "[nltk_data]     /Users/chandlerbeon/nltk_data...\n",
            "[nltk_data]   Package punkt_tab is already up-to-date!\n",
            "[nltk_data] Downloading package wordnet to\n",
            "[nltk_data]     /Users/chandlerbeon/nltk_data...\n",
            "[nltk_data]   Package wordnet is already up-to-date!\n",
            "[nltk_data] Downloading package averaged_perceptron_tagger to\n",
            "[nltk_data]     /Users/chandlerbeon/nltk_data...\n",
            "[nltk_data]   Package averaged_perceptron_tagger is already up-to-\n",
            "[nltk_data]       date!\n",
            "[nltk_data] Downloading package omw-1.4 to\n",
            "[nltk_data]     /Users/chandlerbeon/nltk_data...\n",
            "[nltk_data]   Package omw-1.4 is already up-to-date!\n",
            "[nltk_data] Downloading package averaged_perceptron_tagger_eng to\n",
            "[nltk_data]     /Users/chandlerbeon/nltk_data...\n",
            "[nltk_data]   Package averaged_perceptron_tagger_eng is already up-to-\n",
            "[nltk_data]       date!\n"
          ]
        },
        {
          "data": {
            "text/plain": [
              "True"
            ]
          },
          "execution_count": 79,
          "metadata": {},
          "output_type": "execute_result"
        }
      ],
      "source": [
        "# Import libraries\n",
        "import pandas as pd\n",
        "import numpy as np\n",
        "import matplotlib.pyplot as plt\n",
        "import seaborn as sns\n",
        "import random\n",
        "from sklearn.model_selection import train_test_split\n",
        "import re\n",
        "import string\n",
        "from sklearn.feature_extraction.text import TfidfVectorizer\n",
        "from sklearn.feature_extraction.text import CountVectorizer\n",
        "from sklearn.pipeline import Pipeline\n",
        "from nltk.stem import WordNetLemmatizer\n",
        "from nltk.tag import pos_tag\n",
        "from nltk.tokenize import word_tokenize\n",
        "import nltk\n",
        "from nltk.corpus import wordnet\n",
        "nltk.download('punkt_tab')\n",
        "nltk.download('wordnet')\n",
        "nltk.download('averaged_perceptron_tagger')\n",
        "nltk.download('omw-1.4')\n",
        "nltk.download('averaged_perceptron_tagger_eng')"
      ]
    },
    {
      "cell_type": "code",
      "execution_count": 32,
      "metadata": {
        "colab": {
          "base_uri": "https://localhost:8080/",
          "height": 591
        },
        "id": "KDTKqGXCSfQ5",
        "outputId": "5bea065f-cda6-4ff5-881b-f12ec3dd17da"
      },
      "outputs": [
        {
          "data": {
            "text/html": [
              "<div>\n",
              "<style scoped>\n",
              "    .dataframe tbody tr th:only-of-type {\n",
              "        vertical-align: middle;\n",
              "    }\n",
              "\n",
              "    .dataframe tbody tr th {\n",
              "        vertical-align: top;\n",
              "    }\n",
              "\n",
              "    .dataframe thead th {\n",
              "        text-align: right;\n",
              "    }\n",
              "</style>\n",
              "<table border=\"1\" class=\"dataframe\">\n",
              "  <thead>\n",
              "    <tr style=\"text-align: right;\">\n",
              "      <th></th>\n",
              "      <th>full_text</th>\n",
              "      <th>summary</th>\n",
              "      <th>keywords</th>\n",
              "      <th>publish_date</th>\n",
              "      <th>authors</th>\n",
              "      <th>url</th>\n",
              "      <th>leaf_label</th>\n",
              "      <th>root_label</th>\n",
              "    </tr>\n",
              "  </thead>\n",
              "  <tbody>\n",
              "    <tr>\n",
              "      <th>0</th>\n",
              "      <td>'Personalize Your NBA App Experience for the '...</td>\n",
              "      <td>'Personalize Your NBA App Experience for the '...</td>\n",
              "      <td>['original', 'content', 'live', 'slate', 'game...</td>\n",
              "      <td>NaN</td>\n",
              "      <td>['Official Release']</td>\n",
              "      <td>https://www.nba.com/news/nba-app-new-features-...</td>\n",
              "      <td>basketball</td>\n",
              "      <td>sports</td>\n",
              "    </tr>\n",
              "    <tr>\n",
              "      <th>1</th>\n",
              "      <td>'Mike Will attends the Pre-GRAMMY Gala and GRA...</td>\n",
              "      <td>'Mike WiLL Made-It has secured a partnership w...</td>\n",
              "      <td>['lead', 'espn', 'nbas', 'madeit', 'nba', 'lat...</td>\n",
              "      <td>2023-10-18 16:22:29+00:00</td>\n",
              "      <td>['Marc Griffin']</td>\n",
              "      <td>https://www.vibe.com/news/entertainment/mike-w...</td>\n",
              "      <td>basketball</td>\n",
              "      <td>sports</td>\n",
              "    </tr>\n",
              "    <tr>\n",
              "      <th>2</th>\n",
              "      <td>'The Golden State Warriors are struggling to f...</td>\n",
              "      <td>'The Golden State Warriors are struggling to f...</td>\n",
              "      <td>['insider', 'york', 'thing', 'nbc', 'tag', 'nb...</td>\n",
              "      <td>NaN</td>\n",
              "      <td>[]</td>\n",
              "      <td>https://www.nbcnewyork.com/tag/featured-nba/</td>\n",
              "      <td>basketball</td>\n",
              "      <td>sports</td>\n",
              "    </tr>\n",
              "    <tr>\n",
              "      <th>3</th>\n",
              "      <td>'On Nov. 28, the NBA and Nike will collaborate...</td>\n",
              "      <td>'On Nov. 28, the NBA and Nike will collaborate...</td>\n",
              "      <td>['watch', 'telecast', 'ultimate', 'membership'...</td>\n",
              "      <td>NaN</td>\n",
              "      <td>['Official Release']</td>\n",
              "      <td>https://www.nba.com/news/watch-nba-games-ultim...</td>\n",
              "      <td>basketball</td>\n",
              "      <td>sports</td>\n",
              "    </tr>\n",
              "    <tr>\n",
              "      <th>4</th>\n",
              "      <td>'The NBA announced additions and innovations t...</td>\n",
              "      <td>'The NBA announced additions and innovations t...</td>\n",
              "      <td>['experience', 'bring', 'media', 'crennan', 'n...</td>\n",
              "      <td>2023-10-17 12:00:17+00:00</td>\n",
              "      <td>['Chris Novak', 'About Chris Novak']</td>\n",
              "      <td>https://awfulannouncing.com/tech/nba-app-2023-...</td>\n",
              "      <td>basketball</td>\n",
              "      <td>sports</td>\n",
              "    </tr>\n",
              "  </tbody>\n",
              "</table>\n",
              "</div>"
            ],
            "text/plain": [
              "                                           full_text  \\\n",
              "0  'Personalize Your NBA App Experience for the '...   \n",
              "1  'Mike Will attends the Pre-GRAMMY Gala and GRA...   \n",
              "2  'The Golden State Warriors are struggling to f...   \n",
              "3  'On Nov. 28, the NBA and Nike will collaborate...   \n",
              "4  'The NBA announced additions and innovations t...   \n",
              "\n",
              "                                             summary  \\\n",
              "0  'Personalize Your NBA App Experience for the '...   \n",
              "1  'Mike WiLL Made-It has secured a partnership w...   \n",
              "2  'The Golden State Warriors are struggling to f...   \n",
              "3  'On Nov. 28, the NBA and Nike will collaborate...   \n",
              "4  'The NBA announced additions and innovations t...   \n",
              "\n",
              "                                            keywords  \\\n",
              "0  ['original', 'content', 'live', 'slate', 'game...   \n",
              "1  ['lead', 'espn', 'nbas', 'madeit', 'nba', 'lat...   \n",
              "2  ['insider', 'york', 'thing', 'nbc', 'tag', 'nb...   \n",
              "3  ['watch', 'telecast', 'ultimate', 'membership'...   \n",
              "4  ['experience', 'bring', 'media', 'crennan', 'n...   \n",
              "\n",
              "                publish_date                               authors  \\\n",
              "0                        NaN                  ['Official Release']   \n",
              "1  2023-10-18 16:22:29+00:00                      ['Marc Griffin']   \n",
              "2                        NaN                                    []   \n",
              "3                        NaN                  ['Official Release']   \n",
              "4  2023-10-17 12:00:17+00:00  ['Chris Novak', 'About Chris Novak']   \n",
              "\n",
              "                                                 url  leaf_label root_label  \n",
              "0  https://www.nba.com/news/nba-app-new-features-...  basketball     sports  \n",
              "1  https://www.vibe.com/news/entertainment/mike-w...  basketball     sports  \n",
              "2       https://www.nbcnewyork.com/tag/featured-nba/  basketball     sports  \n",
              "3  https://www.nba.com/news/watch-nba-games-ultim...  basketball     sports  \n",
              "4  https://awfulannouncing.com/tech/nba-app-2023-...  basketball     sports  "
            ]
          },
          "execution_count": 32,
          "metadata": {},
          "output_type": "execute_result"
        }
      ],
      "source": [
        "# Load in dataset\n",
        "df = pd.read_csv(\"data/Project1-ClassificationDataset.csv\")\n",
        "df.head()"
      ]
    },
    {
      "cell_type": "markdown",
      "metadata": {
        "id": "D5D9eg9UaMQh"
      },
      "source": [
        "## Geting familiar with the dataset"
      ]
    },
    {
      "cell_type": "markdown",
      "metadata": {
        "id": "podE-qMcSHA2"
      },
      "source": [
        "### Question 1"
      ]
    },
    {
      "cell_type": "code",
      "execution_count": 4,
      "metadata": {
        "id": "3ahCZctFRvgY"
      },
      "outputs": [
        {
          "name": "stdout",
          "output_type": "stream",
          "text": [
            "Dataset Dimensions: 3476 rows by 8 columns.\n"
          ]
        }
      ],
      "source": [
        "# Overview\n",
        "numrows = df.shape[0]\n",
        "numcols = df.shape[1]\n",
        "\n",
        "print(f\"Dataset Dimensions: {numrows} rows by {numcols} columns.\")"
      ]
    },
    {
      "cell_type": "code",
      "execution_count": 35,
      "metadata": {
        "colab": {
          "base_uri": "https://localhost:8080/",
          "height": 1000
        },
        "id": "Gxm5pL_ATpH3",
        "outputId": "acd6f266-005c-4191-a2b6-635b7164f7a5"
      },
      "outputs": [
        {
          "data": {
            "image/png": "[encoded data removed]",
            "text/plain": [
              "<Figure size 1000x600 with 1 Axes>"
            ]
          },
          "metadata": {},
          "output_type": "display_data"
        },
        {
          "data": {
            "image/png": "[encoded data removed]",
            "text/plain": [
              "<Figure size 1000x600 with 1 Axes>"
            ]
          },
          "metadata": {},
          "output_type": "display_data"
        },
        {
          "data": {
            "image/png": "[encoded data removed]",
            "text/plain": [
              "<Figure size 1000x600 with 1 Axes>"
            ]
          },
          "metadata": {},
          "output_type": "display_data"
        }
      ],
      "source": [
        "# Histograms\n",
        "def count_alphanumeric(text = str) -> int:\n",
        "  \"\"\"\n",
        "  Counts the number of alphanumeric characters in a string.\n",
        "\n",
        "  Parameters\n",
        "  ----------\n",
        "  text : str\n",
        "    The string to count the alphanumeric characters in.\n",
        "\n",
        "  Returns\n",
        "  -------\n",
        "  int\n",
        "    The number of alphanumeric characters in the string.\n",
        "  \"\"\"\n",
        "  count = 0\n",
        "  for char in text:\n",
        "    if char.isalnum():\n",
        "      count += 1\n",
        "  return count\n",
        "\n",
        "def count_classes(df = pd.DataFrame, col = str) -> list:\n",
        "  \"\"\"\n",
        "  Counts the number of classes in a column of a dataframe.\n",
        "\n",
        "  Parameters\n",
        "  ----------\n",
        "  df : pd.DataFrame\n",
        "    The dataframe to count the classes in.\n",
        "  col : str\n",
        "    The column to count the classes in.\n",
        "\n",
        "  Returns\n",
        "  -------\n",
        "  2 lists\n",
        "    A list of classes and a list of the counts of classes in the column.\n",
        "  \"\"\"\n",
        "  classes = df[col].unique()\n",
        "  counts = []\n",
        "  for unique_class in classes:\n",
        "    counts.append(df[col].str.contains(unique_class).sum())\n",
        "  return classes, counts\n",
        "\n",
        "# Keep track of counts of alphanumeric characters\n",
        "count_alphanumeric_full_text = []\n",
        "for text in df['full_text']:\n",
        "  count_alphanumeric_full_text.append(count_alphanumeric(text))\n",
        "\n",
        "# Keep track of counts of each class\n",
        "classes_leaf_label, count_classes_leaf_label = count_classes(df, 'leaf_label')\n",
        "classes_root_label, count_classes_root_label = count_classes(df, 'root_label')\n",
        "\n",
        "# Histogram of alphanumeric characters\n",
        "plt.figure(figsize=(10, 6))\n",
        "plt.hist(count_alphanumeric_full_text, bins = 20)\n",
        "plt.title('(a) Histogram of Alphanumeric Characters in Full Text')\n",
        "plt.xlabel('Count')\n",
        "plt.ylabel('Frequency')\n",
        "plt.show()\n",
        "\n",
        "# Histogram of counts of each class in leaf_label\n",
        "plt.figure(figsize=(10, 6))\n",
        "plt.bar(classes_leaf_label, count_classes_leaf_label)\n",
        "plt.title('(b) Counts of Each Class in Leaf Label')\n",
        "plt.xlabel('Class')\n",
        "plt.ylabel('Frequency')\n",
        "plt.show()\n",
        "\n",
        "# Histogram of counts of each class in root_label\n",
        "plt.figure(figsize=(10, 6))\n",
        "plt.bar(classes_root_label, count_classes_root_label)\n",
        "plt.title('(c) Counts of Each Class in Root Label')\n",
        "plt.xlabel('Class')\n",
        "plt.ylabel('Frequency')\n",
        "plt.show()"
      ]
    },
    {
      "cell_type": "markdown",
      "metadata": {
        "id": "B7V4UOa6Y4eN"
      },
      "source": [
        "a. The distribution of alphanumeric characters in each full text is heavily right skewed.  \n",
        "b. There are roughly equal amounts of entries for each leaf label, with the exception of drought entries (which has slightly lower counts).  \n",
        "c. There are roughly equal amounts of both sports and climate entries for the root labels, with there being slightly less climate entries than sports entries. "
      ]
    },
    {
      "cell_type": "markdown",
      "metadata": {
        "id": "dAPYcukXaUPq"
      },
      "source": [
        "## Binary Classification"
      ]
    },
    {
      "cell_type": "markdown",
      "metadata": {
        "id": "UqnT1oYVa1IZ"
      },
      "source": [
        "### 1. Splitting the entire dataset into training and testing data"
      ]
    },
    {
      "cell_type": "code",
      "execution_count": 36,
      "metadata": {
        "id": "-5CDoe2pa0AE"
      },
      "outputs": [],
      "source": [
        "# Set seeds\n",
        "np.random.seed(42)\n",
        "random.seed(42)\n",
        "\n",
        "# Split dataset\n",
        "train, test = train_test_split(df[[\"full_text\", \"root_label\"]], test_size = 0.2)"
      ]
    },
    {
      "cell_type": "markdown",
      "metadata": {
        "id": "6aB6uxKka_G_"
      },
      "source": [
        "### Question 2"
      ]
    },
    {
      "cell_type": "code",
      "execution_count": 41,
      "metadata": {
        "colab": {
          "base_uri": "https://localhost:8080/"
        },
        "id": "qLokeknVaXAl",
        "outputId": "adc4801a-49c9-41de-b154-a5826dd0a366"
      },
      "outputs": [
        {
          "name": "stdout",
          "output_type": "stream",
          "text": [
            "Number of rows in train: 2,780\n",
            "Number of rows in test: 696\n"
          ]
        }
      ],
      "source": [
        "# Count number of rows in train and test\n",
        "num_train = train.shape[0]\n",
        "num_test = test.shape[0]\n",
        "\n",
        "# Display results\n",
        "print(f\"Number of rows in train: {num_train:,}\")\n",
        "print(f\"Number of rows in test: {num_test:,}\")\n"
      ]
    },
    {
      "cell_type": "markdown",
      "metadata": {
        "id": "VvB3VICjbIwW"
      },
      "source": [
        "### 2. Feature Extraction"
      ]
    },
    {
      "cell_type": "markdown",
      "metadata": {
        "id": "IqoVoGwweSeO"
      },
      "source": [
        "### Question 3"
      ]
    },
    {
      "cell_type": "code",
      "execution_count": 42,
      "metadata": {
        "id": "Mb-ZoMHnk7FL"
      },
      "outputs": [],
      "source": [
        "def clean(text) -> str:\n",
        "  \"\"\"\n",
        "  Processes the text based on rules.\n",
        "\n",
        "  Parameters\n",
        "  ----------\n",
        "  text : str\n",
        "    The string to process.\n",
        "\n",
        "  Returns\n",
        "  -------\n",
        "  str\n",
        "    The processed string.\n",
        "  \"\"\"\n",
        "  text = re.sub(r'^https?:\\/\\/.*[\\r\\n]*', '', text, flags=re.MULTILINE)\n",
        "  texter = re.sub(r\"<br />\", \" \", text)\n",
        "  texter = re.sub(r\"&quot;\", \"\\\"\",texter)\n",
        "  texter = re.sub('&#39;', \"\\\"\", texter)\n",
        "  texter = re.sub('\\n', \" \", texter)\n",
        "  texter = re.sub(' u ',\" you \", texter)\n",
        "  texter = re.sub('`',\"\", texter)\n",
        "  texter = re.sub(' +', ' ', texter)\n",
        "  texter = re.sub(r\"(!)\\1+\", r\"!\", texter)\n",
        "  texter = re.sub(r\"(\\?)\\1+\", r\"?\", texter)\n",
        "  texter = re.sub('&amp;', 'and', texter)\n",
        "  texter = re.sub('\\r', ' ',texter)\n",
        "  clean = re.compile('<.*?>')\n",
        "  texter = texter.encode('ascii', 'ignore').decode('ascii')\n",
        "  texter = re.sub(clean, '', texter)\n",
        "  if texter == \"\":\n",
        "    texter = \"\"\n",
        "  return texter\n",
        "\n",
        "def remove_stopwords(df = pd.DataFrame, col = str, mindf = int) -> pd.DataFrame:\n",
        "  \"\"\"\n",
        "  Removes stopwords from the text.\n",
        "\n",
        "  Parameters\n",
        "  ----------\n",
        "  df : pd.DataFrame\n",
        "    The dataframe to remove stopwords from.\n",
        "  col : str\n",
        "    The column to remove stopwords from.\n",
        "\n",
        "  Returns\n",
        "  -------\n",
        "  pd.DataFrame\n",
        "    The dataframe with stopwords removed.\n",
        "  \"\"\"\n",
        "\n",
        "  # Initialize CountVectorizer\n",
        "  count_vectorizer = CountVectorizer(stop_words = 'english', min_df = mindf)\n",
        "\n",
        "  # Fit and transform data\n",
        "  count_vectorizer.fit_transform(df[col])\n",
        "\n",
        "  # Remove stopwords\n",
        "  stop_words = count_vectorizer.get_stop_words()\n",
        "  df = df[col].apply(lambda x: ' '.join([word for word in x.lower().split() if word not in stop_words]))\n",
        "  return df\n",
        "\n",
        "def remove_numbers(df = pd.DataFrame, col = str) -> pd.DataFrame:\n",
        "  \"\"\"\n",
        "  Removes numbers from the text.\n",
        "\n",
        "  Parameters\n",
        "  ----------\n",
        "  df : pd.DataFrame\n",
        "    The dataframe to remove numbers from.\n",
        "  col : str\n",
        "    The column to remove numbers from.\n",
        "\n",
        "  Returns\n",
        "  -------\n",
        "  pd.DataFrame\n",
        "    The dataframe with numbers removed.\n",
        "  \"\"\"\n",
        "\n",
        "  # Remove numbers\n",
        "  df[col] = df[col].apply(lambda x: re.sub(r'\\b\\d+\\b', '', x))\n",
        "  return df\n",
        "\n",
        "def remove_punctuation(df = pd.DataFrame, col = str) -> pd.DataFrame:\n",
        "  \"\"\"\n",
        "  Remove punctuation from the text\n",
        "\n",
        "  Parameters\n",
        "  ----------\n",
        "  df : pd.DataFrame\n",
        "    The dataframe to remove punctuation from.\n",
        "  col : str\n",
        "    The column to remove punctuation from.\n",
        "\n",
        "  Returns\n",
        "  -------\n",
        "  pd.DataFrame\n",
        "    The dataframe with punctuation removed.\n",
        "  \"\"\"\n",
        "\n",
        "  # Use translate to remove punctuation\n",
        "  translator = str.maketrans('', '', string.punctuation)\n",
        "  df[col] = df[col].apply(lambda x: x.translate(translator))\n",
        "  return df\n",
        "\n",
        "def lemmatize(df = pd.DataFrame, col = str) -> pd.DataFrame:\n",
        "  \"\"\"\n",
        "  Lemmatizes the text.\n",
        "\n",
        "  Parameters\n",
        "  ----------\n",
        "  df : pd.DataFrame\n",
        "    The dataframe to lemmatize.\n",
        "  col : str\n",
        "    The column to lemmatize.\n",
        "\n",
        "  Returns\n",
        "  -------\n",
        "  pd.DataFrame\n",
        "    The dataframe after lemmatization.\n",
        "  \"\"\"\n",
        "\n",
        "  # Nested function for getting part of speech\n",
        "  def get_wordnet_pos(tag):\n",
        "    \"\"\"\n",
        "    Maps POS tags to WordNet POS tags.\n",
        "\n",
        "    Parameters\n",
        "    ----------\n",
        "    tag : str\n",
        "      The POS tag to map.\n",
        "\n",
        "    Returns\n",
        "    -------\n",
        "    str\n",
        "      The mapped POS tag.\n",
        "    \"\"\"\n",
        "    if tag.startswith('J'):  # Adjective\n",
        "        return wordnet.ADJ\n",
        "    elif tag.startswith('V'):  # Verb\n",
        "        return wordnet.VERB\n",
        "    elif tag.startswith('N'):  # Noun\n",
        "        return wordnet.NOUN\n",
        "    elif tag.startswith('R'):  # Adverb\n",
        "        return wordnet.ADV\n",
        "    else:\n",
        "        return None\n",
        "\n",
        "  # Nested function to lemmatize\n",
        "  def lemmatize_pos(text = str) -> str:\n",
        "    \"\"\"\n",
        "    Lemmatizes the text with part of speech.\n",
        "\n",
        "    Parameters\n",
        "    ----------\n",
        "    text : str\n",
        "      The text to lemmatize.\n",
        "\n",
        "    Returns\n",
        "    -------\n",
        "    str\n",
        "      The lemmatized text.\n",
        "    \"\"\"\n",
        "\n",
        "    # Tokenize sentence\n",
        "    tokens = word_tokenize(text)\n",
        "\n",
        "    # Get part of speech tags\n",
        "    pos_tags = pos_tag(tokens)\n",
        "\n",
        "    # Keep list of lemmatized words\n",
        "    lemmatized_words = []\n",
        "\n",
        "    # Lemmatize each word\n",
        "    for word, pos in pos_tags:\n",
        "\n",
        "      # Get part of speech. For missing part of speech, assume noun\n",
        "      wordnet_pos = get_wordnet_pos(pos) or wordnet.NOUN\n",
        "      lemmatized_words.append(lemmatizer.lemmatize(word, pos=wordnet_pos))\n",
        "\n",
        "    # Join words\n",
        "    return ' '.join(lemmatized_words)\n",
        "\n",
        "  # Initialize lemmatizer\n",
        "  lemmatizer = WordNetLemmatizer()\n",
        "\n",
        "  # Apply lemmatization\n",
        "  df[col] = df[col].apply(lemmatize_pos)\n",
        "  return df\n",
        "\n",
        "# TODO: Create stemming function\n"
      ]
    },
    {
      "cell_type": "code",
      "execution_count": 9,
      "metadata": {
        "id": "7mvn4q43lZ09"
      },
      "outputs": [],
      "source": [
        "# Clean data sample\n",
        "# Apply cleaning function\n",
        "X_train = train['full_text'].apply(clean).to_frame()\n",
        "X_test = test['full_text'].apply(clean).to_frame()\n",
        "\n",
        "### The order of the following can be changed as needed\n",
        "# Current iteration takes ~90s to run on CPU (almost all time spent on lemmatization)\n",
        "# NLTK does not use GPU (will need something like SpaCy)\n",
        "\n",
        "# Remove punctuation\n",
        "X_train = remove_punctuation(X_train, 'full_text')\n",
        "X_test = remove_punctuation(X_test, 'full_text')\n",
        "\n",
        "# Remove numbers\n",
        "X_train = remove_numbers(X_train, 'full_text')\n",
        "X_test = remove_numbers(X_test, 'full_text')\n",
        "\n",
        "# Remove stopwords\n",
        "X_train = remove_stopwords(X_train, 'full_text', 3).to_frame()\n",
        "X_test = remove_stopwords(X_test, 'full_text', 3).to_frame()\n",
        "\n",
        "# Perform lemmatization\n",
        "X_train = lemmatize(X_train, 'full_text')\n",
        "X_test = lemmatize(X_test, 'full_text')\n",
        "\n",
        "# TODO: Perform stemming and compare dictionary sizes between lemmatization and stemming\n",
        "# TODO: Experiment with remove_stopwords by changing min_df (third argument) and record effects on TF-IDF matrix"
      ]
    },
    {
      "cell_type": "markdown",
      "metadata": {
        "id": "oOZ71QqMbJOv"
      },
      "source": [
        "### TODO: Verify answers with experiments (i.e. compare speeds of lemmatization and stemming, adjust min_df in remove_stopwords function, and change order of preprocessing steps)\n",
        "\n",
        "**Pros and Cons of lemmatization vs. stemming**\n",
        "\n",
        "The advantage of lemmatization is that it accounts for context and is more robust by using morphological information. This allows lemmatization to be relatively more accurate. Stemming takes a simpler approach by removing suffixes (i.e. the rightmost letters) to find the root word. While this approach is simpler and allows stemming to be faster than lemmatization, stemming is generally less accurate.\n",
        "\n",
        "In short, the tradeoff between between lemmatization and stemming is between speed (stemming preferred) and accuracy (lemmatization preferred).\n",
        "\n",
        "**Changing `min_df`, the minimum document frequency**\n",
        "\n",
        "Increasing the minimum document frequency means that words will have to appear in more documents to be kept. This higher threshold leads to fewer words being kept, ultimately decreasing the number of columns in the TF-IDF matrix.\n",
        "\n",
        "**Before and after lemmatizing**\n",
        "\n",
        "Performing additional preprocessing steps before or after lemmatizing comes down to choosing between retaining context and computation time. Removing stopwords, punctuations, and numbers before lemmatizing will require less computational overhead using lemmatizing. Keeping stopwords, punctuations, and numbers will allows context to be retained for lemmatization. In general, if stopwords, punctuations, and numbers contribute little to the context of the document with respect to the classes the documents are a part of, then it may be fine to remove them prior to lemmatization.\n",
        "\n",
        "In the context of this project, we choose to perform lemmatization after removing stopwords, punctuations, and numbers. We assume that stopwords, punctuations, and numbers contribute little to the context (i.e. they do not help distinguish between whether a document is about sports or climate).\n",
        "\n"
      ]
    },
    {
      "cell_type": "markdown",
      "metadata": {},
      "source": []
    },
    {
      "cell_type": "markdown",
      "metadata": {},
      "source": [
        "## Dimensionality Reduction"
      ]
    },
    {
      "cell_type": "markdown",
      "metadata": {},
      "source": []
    }
  ],
  "metadata": {
    "colab": {
      "authorship_tag": "ABX9TyN2UD7V9cuY2oH3ud0fjMC6",
      "include_colab_link": true,
      "provenance": []
    },
    "kernelspec": {
      "display_name": "ece219_proj1",
      "language": "python",
      "name": "python3"
    },
    "language_info": {
      "codemirror_mode": {
        "name": "ipython",
        "version": 3
      },
      "file_extension": ".py",
      "mimetype": "text/x-python",
      "name": "python",
      "nbconvert_exporter": "python",
      "pygments_lexer": "ipython3",
      "version": "3.10.16"
    }
  },
  "nbformat": 4,
  "nbformat_minor": 0
}
